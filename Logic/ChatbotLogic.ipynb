{
  "nbformat": 4,
  "nbformat_minor": 0,
  "metadata": {
    "colab": {
      "provenance": [],
      "authorship_tag": "ABX9TyO7VOb321RtKTEULQhABJlD",
      "include_colab_link": true
    },
    "kernelspec": {
      "name": "python3",
      "display_name": "Python 3"
    },
    "language_info": {
      "name": "python"
    }
  },
  "cells": [
    {
      "cell_type": "markdown",
      "metadata": {
        "id": "view-in-github",
        "colab_type": "text"
      },
      "source": [
        "<a href=\"https://colab.research.google.com/github/Cloud-Course-Group-Phoenix/Project-Pheonix/blob/Dev/Logic/ChatbotLogic.ipynb\" target=\"_parent\"><img src=\"https://colab.research.google.com/assets/colab-badge.svg\" alt=\"Open In Colab\"/></a>"
      ]
    },
    {
      "cell_type": "code",
      "execution_count": null,
      "metadata": {
        "id": "BG03Qns2SUl3"
      },
      "outputs": [],
      "source": [
        "import google.generativeai as genai\n",
        "import pathlib\n",
        "import textwrap\n",
        "from IPython.display import display\n",
        "from IPython.display import Markdown\n",
        "from google.colab import userdata\n",
        "\n",
        "genai.configure(api_key=userdata.get('GOOGLE_API_KEY'))\n",
        "model = genai.GenerativeModel('gemini-2.0-flash')"
      ]
    },
    {
      "cell_type": "code",
      "source": [
        "\n",
        "# Keep your original function\n",
        "def to_markdown(text):\n",
        "    text = text.replace('•', ' *')\n",
        "    return Markdown(textwrap.indent(text, '> ', predicate=lambda line: True))\n",
        "\n",
        "# Add this NEW function for the chatbot UI\n",
        "def handle_chat_message(user_message, chat_history):\n",
        "    \"\"\"\n",
        "    Handle chat messages for the Gradio UI\n",
        "    Returns: (cleared_input, updated_chat_history)\n",
        "    \"\"\"\n",
        "    if not user_message.strip():\n",
        "        return user_message, chat_history\n",
        "\n",
        "    try:\n",
        "        # Generate response using your Gemini model\n",
        "        response = model.generate_content(user_message)\n",
        "        bot_response = response.text\n",
        "\n",
        "        # Add both user message and bot response to chat history\n",
        "        updated_history = chat_history + [\n",
        "            {\"role\": \"user\", \"content\": user_message},\n",
        "            {\"role\": \"assistant\", \"content\": bot_response}\n",
        "        ]\n",
        "\n",
        "        return \"\", updated_history  # Clear input, return updated history\n",
        "\n",
        "    except Exception as e:\n",
        "        # Handle errors gracefully\n",
        "        error_message = f\"Sorry, I encountered an error: {str(e)}\"\n",
        "        updated_history = chat_history + [\n",
        "            {\"role\": \"user\", \"content\": user_message},\n",
        "            {\"role\": \"assistant\", \"content\": error_message}\n",
        "        ]\n",
        "        return \"\", updated_history"
      ],
      "metadata": {
        "id": "vSFFz5dATt6i"
      },
      "execution_count": null,
      "outputs": []
    }
  ]
}