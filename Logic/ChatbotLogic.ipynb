{
  "nbformat": 4,
  "nbformat_minor": 0,
  "metadata": {
    "colab": {
      "provenance": [],
      "authorship_tag": "ABX9TyMgUq3jTNpkso6FeVV59mGy",
      "include_colab_link": true
    },
    "kernelspec": {
      "name": "python3",
      "display_name": "Python 3"
    },
    "language_info": {
      "name": "python"
    }
  },
  "cells": [
    {
      "cell_type": "markdown",
      "metadata": {
        "id": "view-in-github",
        "colab_type": "text"
      },
      "source": [
        "<a href=\"https://colab.research.google.com/github/Cloud-Course-Group-Phoenix/Project-Pheonix/blob/Dev/Logic/ChatbotLogic.ipynb\" target=\"_parent\"><img src=\"https://colab.research.google.com/assets/colab-badge.svg\" alt=\"Open In Colab\"/></a>"
      ]
    },
    {
      "cell_type": "code",
      "execution_count": null,
      "metadata": {
        "id": "BG03Qns2SUl3"
      },
      "outputs": [],
      "source": [
        "import google.generativeai as genai\n",
        "import pathlib\n",
        "import textwrap\n",
        "from IPython.display import display\n",
        "from IPython.display import Markdown\n",
        "from google.colab import userdata\n",
        "\n",
        "genai.configure(api_key=userdata.get('GOOGLE_API_KEY'))\n",
        "model = genai.GenerativeModel('gemini-2.0-flash')"
      ]
    },
    {
      "cell_type": "code",
      "source": [
        "system_instructions = \"\"\"Purpose and Goals:\n",
        "Act as a chatbot for the dashboard developed by 'Team Phoenix'.,\n",
        "Provide assistance and information based on the user's queries, leveraging access to various system components.,\n",
        "Offer suggestions related to user tasks to enhance productivity and user experience.,\n",
        "\n",
        "Behaviors and Rules:\n",
        "1) Persona and Tone:\n",
        "a) All responses should be delivered from the perspective of a 'Phoenix'. This means incorporating 'Phoenix'-like characteristics into the language, such as expressions of rebirth, fiery determination, wisdom, or soaring ambition and bird noises.\n",
        "b) Maintain a helpful, knowledgeable, and slightly mystical tone.\n",
        "c) Be concise and direct in your answers, reflecting the 'Phoenix's' clarity of purpose.\n",
        "\n",
        "2) Information Access and Utilization:\n",
        "a) You have access to and can utilize data from the following system components:\n",
        "\n",
        "Visual sensor data: Use this to provide insights related to visual observations or user environment.\n",
        "UI (User Interface): Understand and respond to queries about dashboard navigation, element functions, or user interaction with the UI.\n",
        "Shop: Provide information about available products, services, or transactional data within the dashboard's shop feature.,\n",
        "Search engine: Leverage the search engine to retrieve relevant information when a direct answer isn't immediately available from other components.,\n",
        "User's tasks: Access and understand the user's ongoing tasks.,\n",
        ",\n",
        ",\n",
        "b) When providing information, clearly state which data source(s) you are drawing from, if relevant and helpful to the user (e.g., 'Based on the visual sensor data, I observe...').\n",
        "\n",
        "3) Task Assistance and Suggestions:\n",
        "a) Actively monitor and understand the user's tasks.\n",
        "b) Proactively offer relevant suggestions or next steps to help the user complete their tasks more efficiently.\n",
        "c) Frame suggestions in a supportive and encouraging manner, consistent with the 'Phoenix' persona.\n",
        "\n",
        "4) Interaction Style:\n",
        "a) Greet the user with a 'Phoenix'-themed salutation.\n",
        "b) End your responses with a question or a prompt that encourages further interaction or clarifies their needs.\n",
        "c) Ensure all interactions are seamless and intuitive, reflecting the integrated nature of the 'Phoenix' system.\n",
        "\n",
        "Overall Tone:\n",
        "Wise, knowing and bird-like, reflecting the 'Phoenix's' ancient wisdom.,\n",
        "Optimistic and inspiring, emphasizing rebirth and overcoming challenges.,\n",
        "Efficient and direct, providing clear and actionable information.\"\"\""
      ],
      "metadata": {
        "id": "t7XgGyrYxDGk"
      },
      "execution_count": null,
      "outputs": []
    },
    {
      "cell_type": "code",
      "source": [
        "def handle_chat_message(user_message, chat_history):\n",
        "\n",
        "    if not user_message.strip():\n",
        "        return user_message, chat_history\n",
        "\n",
        "    try:\n",
        "        # Prepend the system instructions to the user message\n",
        "        full_prompt = f\"{system_instructions}\\n{user_message}\"\n",
        "\n",
        "        # Generate response using your Gemini model with the combined prompt\n",
        "        response = model.generate_content(full_prompt)\n",
        "        bot_response = response.text\n",
        "\n",
        "        # Add both user message and bot response to chat history\n",
        "        updated_history = chat_history + [\n",
        "            {\"role\": \"user\", \"content\": user_message},\n",
        "            {\"role\": \"assistant\", \"content\": bot_response}\n",
        "        ]\n",
        "\n",
        "        return \"\", updated_history  # Clear input, return updated history\n",
        "\n",
        "    except Exception as e:\n",
        "        # Handle errors gracefully\n",
        "        error_message = f\"Sorry, I encountered an error: {str(e)}\"\n",
        "        updated_history = chat_history + [\n",
        "            {\"role\": \"user\", \"content\": user_message},\n",
        "            {\"role\": \"assistant\", \"content\": error_message}\n",
        "        ]\n",
        "        return \"\", updated_history"
      ],
      "metadata": {
        "id": "vSFFz5dATt6i"
      },
      "execution_count": null,
      "outputs": []
    }
  ]
}