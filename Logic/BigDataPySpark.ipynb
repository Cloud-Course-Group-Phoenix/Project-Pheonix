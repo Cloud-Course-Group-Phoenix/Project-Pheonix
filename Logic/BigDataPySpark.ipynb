{
  "cells": [
    {
      "cell_type": "markdown",
      "metadata": {
        "id": "view-in-github",
        "colab_type": "text"
      },
      "source": [
        "<a href=\"https://colab.research.google.com/github/Cloud-Course-Group-Phoenix/Project-Pheonix/blob/Dev/Logic/BigDataPySpark.ipynb\" target=\"_parent\"><img src=\"https://colab.research.google.com/assets/colab-badge.svg\" alt=\"Open In Colab\"/></a>"
      ]
    },
    {
      "cell_type": "markdown",
      "metadata": {
        "id": "LLRBniZYlTxv"
      },
      "source": [
        "# **Step 1 - Installation**"
      ]
    },
    {
      "cell_type": "code",
      "execution_count": 1,
      "metadata": {
        "id": "zQ2Lb-vbbNiY"
      },
      "outputs": [],
      "source": [
        "# Install Java\n",
        "!apt-get install openjdk-8-jdk-headless -qq > /dev/null\n",
        "\n",
        "# Download the latest Apache Spark version\n",
        "!wget -q https://archive.apache.org/dist/spark/spark-3.4.1/spark-3.4.1-bin-hadoop3.tgz\n",
        "!tar xf spark-3.4.1-bin-hadoop3.tgz\n",
        "\n",
        "# Install findspark to connect Python with Spark\n",
        "!pip install -q findspark\n"
      ]
    },
    {
      "cell_type": "markdown",
      "metadata": {
        "id": "ygI7tV_VmwkX"
      },
      "source": [
        "# **Step 2 - Environment Setup**"
      ]
    },
    {
      "cell_type": "code",
      "execution_count": 2,
      "metadata": {
        "id": "JyD2EWzBikq7"
      },
      "outputs": [],
      "source": [
        "# Import the os module to interact with the operating system\n",
        "import os\n",
        "# Import findspark to locate the Spark installation\n",
        "import findspark\n",
        "\n",
        "# Set the environment variable for Java home directory (required for Spark to run)\n",
        "os.environ[\"JAVA_HOME\"] = \"/usr/lib/jvm/java-8-openjdk-amd64\"\n",
        "# Set the environment variable for Spark home directory to the downloaded Spark path\n",
        "os.environ[\"SPARK_HOME\"] = \"/content/spark-3.4.1-bin-hadoop3\"\n",
        "\n",
        "# Initialize findspark to make pyspark importable within Python\n",
        "findspark.init()\n"
      ]
    },
    {
      "cell_type": "markdown",
      "metadata": {
        "id": "Fq4LRLhlnxSR"
      },
      "source": [
        "# **Step 3 - Create SparkSession**"
      ]
    },
    {
      "cell_type": "code",
      "execution_count": 3,
      "metadata": {
        "id": "od3pxJrQklz1"
      },
      "outputs": [],
      "source": [
        "# Import SparkSession class from PySpark SQL module\n",
        "from pyspark.sql import SparkSession\n",
        "\n",
        "# Create a SparkSession object, which is the entry point to use Spark functionality\n",
        "  # Set the name of the Spark application to be \"Big Data Example\"\n",
        "  # Create a new SparkSession or return an existing one\n",
        "spark = SparkSession.builder.appName(\"Big Data Example\").getOrCreate()"
      ]
    },
    {
      "cell_type": "markdown",
      "metadata": {
        "id": "pC-aYahaqIGG"
      },
      "source": [
        "# **Step 4 – Continue with DataFrame operations**"
      ]
    },
    {
      "cell_type": "code",
      "execution_count": 4,
      "metadata": {
        "colab": {
          "base_uri": "https://localhost:8080/"
        },
        "id": "G8ItNHuCkv3l",
        "outputId": "36bde540-bd17-450c-bde4-6162b27cc3a9"
      },
      "outputs": [
        {
          "output_type": "stream",
          "name": "stdout",
          "text": [
            "+----+-----+\n",
            "|name|price|\n",
            "+----+-----+\n",
            "| Tal|  120|\n",
            "|Dina|  150|\n",
            "+----+-----+\n",
            "\n"
          ]
        }
      ],
      "source": [
        "# Define a list of tuples, each containing a name and a price\n",
        "data = [(\"Tal\", 120), (\"Uri\", 90), (\"Dina\", 150)]\n",
        "# Define the column names for the DataFrame\n",
        "columns = [\"name\", \"price\"]\n",
        "# Create a DataFrame from the data and column names using the SparkSession\n",
        "df = spark.createDataFrame(data, columns)\n",
        "# Filter the DataFrame to include only rows where the price is greater than 100\n",
        "df.filter(df[\"price\"] > 100).show()\n"
      ]
    },
    {
      "cell_type": "code",
      "source": [
        "import os, sys\n",
        "\n",
        "try:\n",
        "    #Clone the GitHub repository if not already present\n",
        "    if not os.path.exists(\"/content/Project-Pheonix\"):\n",
        "        !git clone https://github.com/Cloud-Course-Group-Phoenix/Project-Pheonix.git /content/Project-Pheonix\n",
        "\n",
        "    # Change directory to project root\n",
        "    %cd /content/Project-Pheonix\n",
        "\n",
        "    # Checkout the 'dev' branch\n",
        "    !git fetch origin -q\n",
        "    !git checkout Dev -q\n",
        "\n",
        "    # Add project directory to Python path\n",
        "    sys.path.append(\"/content/Project-Pheonix/Logic\")\n",
        "    %pip install -q importnb\n",
        "    from importnb import Notebook\n",
        "    with Notebook():\n",
        "        import CloudDB as dbService\n",
        "except Exception as e:\n",
        "    print(\"❌ Setup failed:\", str(e))"
      ],
      "metadata": {
        "id": "i5gFFep0j6Eh",
        "outputId": "a8481a06-3e7c-43e7-becb-74f65a4c761b",
        "colab": {
          "base_uri": "https://localhost:8080/"
        }
      },
      "execution_count": 6,
      "outputs": [
        {
          "output_type": "stream",
          "name": "stdout",
          "text": [
            "Cloning into '/content/Project-Pheonix'...\n",
            "remote: Enumerating objects: 716, done.\u001b[K\n",
            "remote: Counting objects: 100% (154/154), done.\u001b[K\n",
            "remote: Compressing objects: 100% (126/126), done.\u001b[K\n",
            "remote: Total 716 (delta 95), reused 22 (delta 22), pack-reused 562 (from 2)\u001b[K\n",
            "Receiving objects: 100% (716/716), 7.32 MiB | 15.84 MiB/s, done.\n",
            "Resolving deltas: 100% (399/399), done.\n",
            "/content/Project-Pheonix\n"
          ]
        }
      ]
    },
    {
      "cell_type": "code",
      "source": [
        "# Fetch sensor data from Firebase database\n",
        "print(\"Fetching sensor data from database...\")\n",
        "\n",
        "# Get indoor and outdoor sensor data\n",
        "indoor_data = dbService.get_from_db('/FakeData/indoor') or {}\n",
        "outdoor_data = dbService.get_from_db('/FakeData/outdoor') or {}\n",
        "\n",
        "print(f\"Indoor data entries: {len(indoor_data)}\")\n",
        "print(f\"Outdoor data entries: {len(outdoor_data)}\")\n",
        "\n",
        "# Display sample data structure\n",
        "if indoor_data:\n",
        "    sample_key = list(indoor_data.keys())[0]\n",
        "    print(f\"\\nSample indoor data structure:\")\n",
        "    print(f\"Timestamp: {sample_key}\")\n",
        "    print(f\"Data: {indoor_data[sample_key]}\")\n",
        "\n",
        "if outdoor_data:\n",
        "    sample_key = list(outdoor_data.keys())[0]\n",
        "    print(f\"\\nSample outdoor data structure:\")\n",
        "    print(f\"Timestamp: {sample_key}\")\n",
        "    print(f\"Data: {outdoor_data[sample_key]}\")"
      ],
      "metadata": {
        "id": "T71AbDDZkET4",
        "outputId": "cfc57935-e707-453b-e6c5-3214e6093e53",
        "colab": {
          "base_uri": "https://localhost:8080/"
        }
      },
      "execution_count": 7,
      "outputs": [
        {
          "output_type": "stream",
          "name": "stdout",
          "text": [
            "Fetching sensor data from database...\n",
            "Indoor data entries: 20160\n",
            "Outdoor data entries: 20160\n",
            "\n",
            "Sample indoor data structure:\n",
            "Timestamp: 1747688122\n",
            "Data: {'Distance': 1542.0, 'Humidity': 40.1, 'Pressure': 97458.1, 'Temperature': 20.77}\n",
            "\n",
            "Sample outdoor data structure:\n",
            "Timestamp: 1747688106\n",
            "Data: {'DLIGHT': 8957.03, 'Humidity': 54.77, 'Pressure': 97656.07, 'Temperature': 27.55}\n"
          ]
        }
      ]
    },
    {
      "cell_type": "code",
      "source": [
        "# Convert sensor data to Spark DataFrame format\n",
        "from pyspark.sql.types import StructType, StructField, StringType, DoubleType, TimestampType\n",
        "from pyspark.sql.functions import from_unixtime, col, avg, max as spark_max, min as spark_min, count\n",
        "\n",
        "def prepare_sensor_data_for_spark(data_dict, environment_type):\n",
        "    \"\"\"Convert sensor data dictionary to list of records for Spark DataFrame\"\"\"\n",
        "    records = []\n",
        "    for timestamp_str, sensor_values in data_dict.items():\n",
        "        timestamp = int(timestamp_str)\n",
        "        record = {\n",
        "            'timestamp': timestamp,\n",
        "            'environment': environment_type,\n",
        "            'datetime': datetime.fromtimestamp(timestamp).strftime('%Y-%m-%d %H:%M:%S')\n",
        "        }\n",
        "        # Add sensor values\n",
        "        for sensor_name, value in sensor_values.items():\n",
        "            if isinstance(value, (int, float)):\n",
        "                record[sensor_name.lower()] = float(value)\n",
        "        records.append(record)\n",
        "    return records\n",
        "\n",
        "# Prepare data for Spark\n",
        "indoor_records = prepare_sensor_data_for_spark(indoor_data, 'indoor')\n",
        "outdoor_records = prepare_sensor_data_for_spark(outdoor_data, 'outdoor')\n",
        "\n",
        "# Combine all records\n",
        "all_records = indoor_records + outdoor_records\n",
        "\n",
        "print(f\"Total records prepared for Spark: {len(all_records)}\")\n",
        "if all_records:\n",
        "    print(f\"Sample record: {all_records[0]}\")\n",
        "\n",
        "# Create Spark DataFrame\n",
        "if all_records:\n",
        "    df_sensors = spark.createDataFrame(all_records)\n",
        "    print(\"\\n✅ Spark DataFrame created successfully!\")\n",
        "    df_sensors.printSchema()\n",
        "    print(f\"Total rows in DataFrame: {df_sensors.count()}\")\n",
        "else:\n",
        "    print(\"❌ No data available to create DataFrame\")"
      ],
      "metadata": {
        "id": "fHjTsRBKkFGJ",
        "outputId": "39d85486-f5ae-4b59-dc43-d1f054566dc7",
        "colab": {
          "base_uri": "https://localhost:8080/"
        }
      },
      "execution_count": 8,
      "outputs": [
        {
          "output_type": "stream",
          "name": "stdout",
          "text": [
            "Total records prepared for Spark: 40320\n",
            "Sample record: {'timestamp': 1747688122, 'environment': 'indoor', 'datetime': '2025-05-19 20:55:22', 'distance': 1542.0, 'humidity': 40.1, 'pressure': 97458.1, 'temperature': 20.77}\n",
            "\n",
            "✅ Spark DataFrame created successfully!\n",
            "root\n",
            " |-- datetime: string (nullable = true)\n",
            " |-- distance: double (nullable = true)\n",
            " |-- environment: string (nullable = true)\n",
            " |-- humidity: double (nullable = true)\n",
            " |-- pressure: double (nullable = true)\n",
            " |-- temperature: double (nullable = true)\n",
            " |-- timestamp: long (nullable = true)\n",
            " |-- dlight: double (nullable = true)\n",
            "\n",
            "Total rows in DataFrame: 40320\n"
          ]
        }
      ]
    },
    {
      "cell_type": "code",
      "source": [
        "# MapReduce Analysis 1: Temperature Statistics by Environment\n",
        "print(\"🔍 MapReduce Analysis 1: Temperature Statistics by Environment\")\n",
        "print(\"=\" * 60)\n",
        "\n",
        "if 'df_sensors' in locals() and df_sensors.count() > 0:\n",
        "    # Filter data that has temperature readings\n",
        "    temp_data = df_sensors.filter(col(\"temperature\").isNotNull())\n",
        "\n",
        "    # MapReduce operation: Group by environment and calculate temperature statistics\n",
        "    temp_stats = temp_data.groupBy(\"environment\") \\\n",
        "        .agg(\n",
        "            avg(\"temperature\").alias(\"avg_temperature\"),\n",
        "            spark_min(\"temperature\").alias(\"min_temperature\"),\n",
        "            spark_max(\"temperature\").alias(\"max_temperature\"),\n",
        "            count(\"temperature\").alias(\"reading_count\")\n",
        "        ).collect()\n",
        "\n",
        "    print(\"Temperature Statistics by Environment:\")\n",
        "    for row in temp_stats:\n",
        "        print(f\"Environment: {row['environment']}\")\n",
        "        print(f\"  Average Temperature: {row['avg_temperature']:.2f}°C\")\n",
        "        print(f\"  Min Temperature: {row['min_temperature']:.2f}°C\")\n",
        "        print(f\"  Max Temperature: {row['max_temperature']:.2f}°C\")\n",
        "        print(f\"  Total Readings: {row['reading_count']}\")\n",
        "        print()\n",
        "\n",
        "    # Store results for visualization\n",
        "    temp_analysis_results = temp_stats\n",
        "else:\n",
        "    print(\"❌ No data available for temperature analysis\")"
      ],
      "metadata": {
        "id": "s107eporkHEh",
        "outputId": "91aede26-e7fe-482b-b007-06e29a9a94fa",
        "colab": {
          "base_uri": "https://localhost:8080/"
        }
      },
      "execution_count": 9,
      "outputs": [
        {
          "output_type": "stream",
          "name": "stdout",
          "text": [
            "🔍 MapReduce Analysis 1: Temperature Statistics by Environment\n",
            "============================================================\n",
            "Temperature Statistics by Environment:\n",
            "Environment: indoor\n",
            "  Average Temperature: 22.17°C\n",
            "  Min Temperature: 18.00°C\n",
            "  Max Temperature: 28.00°C\n",
            "  Total Readings: 20160\n",
            "\n",
            "Environment: outdoor\n",
            "  Average Temperature: 26.96°C\n",
            "  Min Temperature: 16.24°C\n",
            "  Max Temperature: 35.00°C\n",
            "  Total Readings: 20160\n",
            "\n"
          ]
        }
      ]
    },
    {
      "cell_type": "code",
      "source": [
        "# Graph 1: Temperature Comparison Between Indoor and Outdoor Environments\n",
        "print(\"📊 Creating Temperature Comparison Visualization\")\n",
        "\n",
        "if 'temp_analysis_results' in locals():\n",
        "    # Create subplot with multiple visualizations\n",
        "    fig = make_subplots(\n",
        "        rows=2, cols=2,\n",
        "        subplot_titles=('Average Temperature by Environment',\n",
        "                       'Temperature Range Analysis',\n",
        "                       'Reading Count Distribution',\n",
        "                       'Temperature Statistics Summary'),\n",
        "        specs=[[{\"type\": \"bar\"}, {\"type\": \"bar\"}],\n",
        "               [{\"type\": \"pie\"}, {\"type\": \"table\"}]]\n",
        "    )\n",
        "\n",
        "    # Extract data for visualization\n",
        "    environments = [row['environment'] for row in temp_analysis_results]\n",
        "    avg_temps = [row['avg_temperature'] for row in temp_analysis_results]\n",
        "    min_temps = [row['min_temperature'] for row in temp_analysis_results]\n",
        "    max_temps = [row['max_temperature'] for row in temp_analysis_results]\n",
        "    reading_counts = [row['reading_count'] for row in temp_analysis_results]\n",
        "\n",
        "    # Bar chart 1: Average Temperature\n",
        "    fig.add_trace(\n",
        "        go.Bar(x=environments, y=avg_temps, name='Average Temperature',\n",
        "               marker_color=['lightblue', 'lightcoral']),\n",
        "        row=1, col=1\n",
        "    )\n",
        "\n",
        "    # Bar chart 2: Temperature Range (Min-Max)\n",
        "    fig.add_trace(\n",
        "        go.Bar(x=environments, y=min_temps, name='Min Temperature',\n",
        "               marker_color='lightblue', opacity=0.7),\n",
        "        row=1, col=2\n",
        "    )\n",
        "    fig.add_trace(\n",
        "        go.Bar(x=environments, y=max_temps, name='Max Temperature',\n",
        "               marker_color='lightcoral', opacity=0.7),\n",
        "        row=1, col=2\n",
        "    )\n",
        "\n",
        "    # Pie chart: Reading distribution\n",
        "    fig.add_trace(\n",
        "        go.Pie(labels=environments, values=reading_counts, name=\"Reading Distribution\"),\n",
        "        row=2, col=1\n",
        "    )\n",
        "\n",
        "    # Table: Summary statistics\n",
        "    fig.add_trace(\n",
        "        go.Table(\n",
        "            header=dict(values=['Environment', 'Avg Temp (°C)', 'Min Temp (°C)', 'Max Temp (°C)', 'Readings']),\n",
        "            cells=dict(values=[environments,\n",
        "                              [f\"{temp:.2f}\" for temp in avg_temps],\n",
        "                              [f\"{temp:.2f}\" for temp in min_temps],\n",
        "                              [f\"{temp:.2f}\" for temp in max_temps],\n",
        "                              reading_counts])\n",
        "        ),\n",
        "        row=2, col=2\n",
        "    )\n",
        "\n",
        "    # Update layout\n",
        "    fig.update_layout(\n",
        "        title_text=\"🌡️ Comprehensive Temperature Analysis - MapReduce Results\",\n",
        "        height=800,\n",
        "        showlegend=True\n",
        "    )\n",
        "\n",
        "    # Update axes labels\n",
        "    fig.update_xaxes(title_text=\"Environment\", row=1, col=1)\n",
        "    fig.update_yaxes(title_text=\"Temperature (°C)\", row=1, col=1)\n",
        "    fig.update_xaxes(title_text=\"Environment\", row=1, col=2)\n",
        "    fig.update_yaxes(title_text=\"Temperature (°C)\", row=1, col=2)\n",
        "\n",
        "    fig.show()\n",
        "\n",
        "    # Summary insights\n",
        "    temp_diff = abs(avg_temps[0] - avg_temps[1]) if len(avg_temps) == 2 else 0\n",
        "    print(f\"\\n🔍 Key Insights:\")\n",
        "    print(f\"• Temperature difference between environments: {temp_diff:.2f}°C\")\n",
        "    print(f\"• Total temperature readings analyzed: {sum(reading_counts)}\")\n",
        "\n",
        "else:\n",
        "    print(\"❌ No temperature analysis results available for visualization\")"
      ],
      "metadata": {
        "id": "sq9WUjSokWQZ",
        "outputId": "af826759-c7a1-4f4e-97c3-e062f37d75f6",
        "colab": {
          "base_uri": "https://localhost:8080/",
          "height": 906
        }
      },
      "execution_count": 10,
      "outputs": [
        {
          "output_type": "stream",
          "name": "stdout",
          "text": [
            "📊 Creating Temperature Comparison Visualization\n"
          ]
        },
        {
          "output_type": "display_data",
          "data": {
            "text/html": [
              "<html>\n",
              "<head><meta charset=\"utf-8\" /></head>\n",
              "<body>\n",
              "    <div>            <script src=\"https://cdnjs.cloudflare.com/ajax/libs/mathjax/2.7.5/MathJax.js?config=TeX-AMS-MML_SVG\"></script><script type=\"text/javascript\">if (window.MathJax && window.MathJax.Hub && window.MathJax.Hub.Config) {window.MathJax.Hub.Config({SVG: {font: \"STIX-Web\"}});}</script>                <script type=\"text/javascript\">window.PlotlyConfig = {MathJaxConfig: 'local'};</script>\n",
              "        <script charset=\"utf-8\" src=\"https://cdn.plot.ly/plotly-2.35.2.min.js\"></script>                <div id=\"578bf998-fb12-40c7-963c-733dc649b5c6\" class=\"plotly-graph-div\" style=\"height:800px; width:100%;\"></div>            <script type=\"text/javascript\">                                    window.PLOTLYENV=window.PLOTLYENV || {};                                    if (document.getElementById(\"578bf998-fb12-40c7-963c-733dc649b5c6\")) {                    Plotly.newPlot(                        \"578bf998-fb12-40c7-963c-733dc649b5c6\",                        [{\"marker\":{\"color\":[\"lightblue\",\"lightcoral\"]},\"name\":\"Average Temperature\",\"x\":[\"indoor\",\"outdoor\"],\"y\":[22.167981646825375,26.96117212301578],\"type\":\"bar\",\"xaxis\":\"x\",\"yaxis\":\"y\"},{\"marker\":{\"color\":\"lightblue\"},\"name\":\"Min Temperature\",\"opacity\":0.7,\"x\":[\"indoor\",\"outdoor\"],\"y\":[18.0,16.24],\"type\":\"bar\",\"xaxis\":\"x2\",\"yaxis\":\"y2\"},{\"marker\":{\"color\":\"lightcoral\"},\"name\":\"Max Temperature\",\"opacity\":0.7,\"x\":[\"indoor\",\"outdoor\"],\"y\":[28.0,35.0],\"type\":\"bar\",\"xaxis\":\"x2\",\"yaxis\":\"y2\"},{\"labels\":[\"indoor\",\"outdoor\"],\"name\":\"Reading Distribution\",\"values\":[20160,20160],\"type\":\"pie\",\"domain\":{\"x\":[0.0,0.45],\"y\":[0.0,0.375]}},{\"cells\":{\"values\":[[\"indoor\",\"outdoor\"],[\"22.17\",\"26.96\"],[\"18.00\",\"16.24\"],[\"28.00\",\"35.00\"],[20160,20160]]},\"header\":{\"values\":[\"Environment\",\"Avg Temp (°C)\",\"Min Temp (°C)\",\"Max Temp (°C)\",\"Readings\"]},\"type\":\"table\",\"domain\":{\"x\":[0.55,1.0],\"y\":[0.0,0.375]}}],                        {\"template\":{\"data\":{\"histogram2dcontour\":[{\"type\":\"histogram2dcontour\",\"colorbar\":{\"outlinewidth\":0,\"ticks\":\"\"},\"colorscale\":[[0.0,\"#0d0887\"],[0.1111111111111111,\"#46039f\"],[0.2222222222222222,\"#7201a8\"],[0.3333333333333333,\"#9c179e\"],[0.4444444444444444,\"#bd3786\"],[0.5555555555555556,\"#d8576b\"],[0.6666666666666666,\"#ed7953\"],[0.7777777777777778,\"#fb9f3a\"],[0.8888888888888888,\"#fdca26\"],[1.0,\"#f0f921\"]]}],\"choropleth\":[{\"type\":\"choropleth\",\"colorbar\":{\"outlinewidth\":0,\"ticks\":\"\"}}],\"histogram2d\":[{\"type\":\"histogram2d\",\"colorbar\":{\"outlinewidth\":0,\"ticks\":\"\"},\"colorscale\":[[0.0,\"#0d0887\"],[0.1111111111111111,\"#46039f\"],[0.2222222222222222,\"#7201a8\"],[0.3333333333333333,\"#9c179e\"],[0.4444444444444444,\"#bd3786\"],[0.5555555555555556,\"#d8576b\"],[0.6666666666666666,\"#ed7953\"],[0.7777777777777778,\"#fb9f3a\"],[0.8888888888888888,\"#fdca26\"],[1.0,\"#f0f921\"]]}],\"heatmap\":[{\"type\":\"heatmap\",\"colorbar\":{\"outlinewidth\":0,\"ticks\":\"\"},\"colorscale\":[[0.0,\"#0d0887\"],[0.1111111111111111,\"#46039f\"],[0.2222222222222222,\"#7201a8\"],[0.3333333333333333,\"#9c179e\"],[0.4444444444444444,\"#bd3786\"],[0.5555555555555556,\"#d8576b\"],[0.6666666666666666,\"#ed7953\"],[0.7777777777777778,\"#fb9f3a\"],[0.8888888888888888,\"#fdca26\"],[1.0,\"#f0f921\"]]}],\"heatmapgl\":[{\"type\":\"heatmapgl\",\"colorbar\":{\"outlinewidth\":0,\"ticks\":\"\"},\"colorscale\":[[0.0,\"#0d0887\"],[0.1111111111111111,\"#46039f\"],[0.2222222222222222,\"#7201a8\"],[0.3333333333333333,\"#9c179e\"],[0.4444444444444444,\"#bd3786\"],[0.5555555555555556,\"#d8576b\"],[0.6666666666666666,\"#ed7953\"],[0.7777777777777778,\"#fb9f3a\"],[0.8888888888888888,\"#fdca26\"],[1.0,\"#f0f921\"]]}],\"contourcarpet\":[{\"type\":\"contourcarpet\",\"colorbar\":{\"outlinewidth\":0,\"ticks\":\"\"}}],\"contour\":[{\"type\":\"contour\",\"colorbar\":{\"outlinewidth\":0,\"ticks\":\"\"},\"colorscale\":[[0.0,\"#0d0887\"],[0.1111111111111111,\"#46039f\"],[0.2222222222222222,\"#7201a8\"],[0.3333333333333333,\"#9c179e\"],[0.4444444444444444,\"#bd3786\"],[0.5555555555555556,\"#d8576b\"],[0.6666666666666666,\"#ed7953\"],[0.7777777777777778,\"#fb9f3a\"],[0.8888888888888888,\"#fdca26\"],[1.0,\"#f0f921\"]]}],\"surface\":[{\"type\":\"surface\",\"colorbar\":{\"outlinewidth\":0,\"ticks\":\"\"},\"colorscale\":[[0.0,\"#0d0887\"],[0.1111111111111111,\"#46039f\"],[0.2222222222222222,\"#7201a8\"],[0.3333333333333333,\"#9c179e\"],[0.4444444444444444,\"#bd3786\"],[0.5555555555555556,\"#d8576b\"],[0.6666666666666666,\"#ed7953\"],[0.7777777777777778,\"#fb9f3a\"],[0.8888888888888888,\"#fdca26\"],[1.0,\"#f0f921\"]]}],\"mesh3d\":[{\"type\":\"mesh3d\",\"colorbar\":{\"outlinewidth\":0,\"ticks\":\"\"}}],\"scatter\":[{\"fillpattern\":{\"fillmode\":\"overlay\",\"size\":10,\"solidity\":0.2},\"type\":\"scatter\"}],\"parcoords\":[{\"type\":\"parcoords\",\"line\":{\"colorbar\":{\"outlinewidth\":0,\"ticks\":\"\"}}}],\"scatterpolargl\":[{\"type\":\"scatterpolargl\",\"marker\":{\"colorbar\":{\"outlinewidth\":0,\"ticks\":\"\"}}}],\"bar\":[{\"error_x\":{\"color\":\"#2a3f5f\"},\"error_y\":{\"color\":\"#2a3f5f\"},\"marker\":{\"line\":{\"color\":\"#E5ECF6\",\"width\":0.5},\"pattern\":{\"fillmode\":\"overlay\",\"size\":10,\"solidity\":0.2}},\"type\":\"bar\"}],\"scattergeo\":[{\"type\":\"scattergeo\",\"marker\":{\"colorbar\":{\"outlinewidth\":0,\"ticks\":\"\"}}}],\"scatterpolar\":[{\"type\":\"scatterpolar\",\"marker\":{\"colorbar\":{\"outlinewidth\":0,\"ticks\":\"\"}}}],\"histogram\":[{\"marker\":{\"pattern\":{\"fillmode\":\"overlay\",\"size\":10,\"solidity\":0.2}},\"type\":\"histogram\"}],\"scattergl\":[{\"type\":\"scattergl\",\"marker\":{\"colorbar\":{\"outlinewidth\":0,\"ticks\":\"\"}}}],\"scatter3d\":[{\"type\":\"scatter3d\",\"line\":{\"colorbar\":{\"outlinewidth\":0,\"ticks\":\"\"}},\"marker\":{\"colorbar\":{\"outlinewidth\":0,\"ticks\":\"\"}}}],\"scattermapbox\":[{\"type\":\"scattermapbox\",\"marker\":{\"colorbar\":{\"outlinewidth\":0,\"ticks\":\"\"}}}],\"scatterternary\":[{\"type\":\"scatterternary\",\"marker\":{\"colorbar\":{\"outlinewidth\":0,\"ticks\":\"\"}}}],\"scattercarpet\":[{\"type\":\"scattercarpet\",\"marker\":{\"colorbar\":{\"outlinewidth\":0,\"ticks\":\"\"}}}],\"carpet\":[{\"aaxis\":{\"endlinecolor\":\"#2a3f5f\",\"gridcolor\":\"white\",\"linecolor\":\"white\",\"minorgridcolor\":\"white\",\"startlinecolor\":\"#2a3f5f\"},\"baxis\":{\"endlinecolor\":\"#2a3f5f\",\"gridcolor\":\"white\",\"linecolor\":\"white\",\"minorgridcolor\":\"white\",\"startlinecolor\":\"#2a3f5f\"},\"type\":\"carpet\"}],\"table\":[{\"cells\":{\"fill\":{\"color\":\"#EBF0F8\"},\"line\":{\"color\":\"white\"}},\"header\":{\"fill\":{\"color\":\"#C8D4E3\"},\"line\":{\"color\":\"white\"}},\"type\":\"table\"}],\"barpolar\":[{\"marker\":{\"line\":{\"color\":\"#E5ECF6\",\"width\":0.5},\"pattern\":{\"fillmode\":\"overlay\",\"size\":10,\"solidity\":0.2}},\"type\":\"barpolar\"}],\"pie\":[{\"automargin\":true,\"type\":\"pie\"}]},\"layout\":{\"autotypenumbers\":\"strict\",\"colorway\":[\"#636efa\",\"#EF553B\",\"#00cc96\",\"#ab63fa\",\"#FFA15A\",\"#19d3f3\",\"#FF6692\",\"#B6E880\",\"#FF97FF\",\"#FECB52\"],\"font\":{\"color\":\"#2a3f5f\"},\"hovermode\":\"closest\",\"hoverlabel\":{\"align\":\"left\"},\"paper_bgcolor\":\"white\",\"plot_bgcolor\":\"#E5ECF6\",\"polar\":{\"bgcolor\":\"#E5ECF6\",\"angularaxis\":{\"gridcolor\":\"white\",\"linecolor\":\"white\",\"ticks\":\"\"},\"radialaxis\":{\"gridcolor\":\"white\",\"linecolor\":\"white\",\"ticks\":\"\"}},\"ternary\":{\"bgcolor\":\"#E5ECF6\",\"aaxis\":{\"gridcolor\":\"white\",\"linecolor\":\"white\",\"ticks\":\"\"},\"baxis\":{\"gridcolor\":\"white\",\"linecolor\":\"white\",\"ticks\":\"\"},\"caxis\":{\"gridcolor\":\"white\",\"linecolor\":\"white\",\"ticks\":\"\"}},\"coloraxis\":{\"colorbar\":{\"outlinewidth\":0,\"ticks\":\"\"}},\"colorscale\":{\"sequential\":[[0.0,\"#0d0887\"],[0.1111111111111111,\"#46039f\"],[0.2222222222222222,\"#7201a8\"],[0.3333333333333333,\"#9c179e\"],[0.4444444444444444,\"#bd3786\"],[0.5555555555555556,\"#d8576b\"],[0.6666666666666666,\"#ed7953\"],[0.7777777777777778,\"#fb9f3a\"],[0.8888888888888888,\"#fdca26\"],[1.0,\"#f0f921\"]],\"sequentialminus\":[[0.0,\"#0d0887\"],[0.1111111111111111,\"#46039f\"],[0.2222222222222222,\"#7201a8\"],[0.3333333333333333,\"#9c179e\"],[0.4444444444444444,\"#bd3786\"],[0.5555555555555556,\"#d8576b\"],[0.6666666666666666,\"#ed7953\"],[0.7777777777777778,\"#fb9f3a\"],[0.8888888888888888,\"#fdca26\"],[1.0,\"#f0f921\"]],\"diverging\":[[0,\"#8e0152\"],[0.1,\"#c51b7d\"],[0.2,\"#de77ae\"],[0.3,\"#f1b6da\"],[0.4,\"#fde0ef\"],[0.5,\"#f7f7f7\"],[0.6,\"#e6f5d0\"],[0.7,\"#b8e186\"],[0.8,\"#7fbc41\"],[0.9,\"#4d9221\"],[1,\"#276419\"]]},\"xaxis\":{\"gridcolor\":\"white\",\"linecolor\":\"white\",\"ticks\":\"\",\"title\":{\"standoff\":15},\"zerolinecolor\":\"white\",\"automargin\":true,\"zerolinewidth\":2},\"yaxis\":{\"gridcolor\":\"white\",\"linecolor\":\"white\",\"ticks\":\"\",\"title\":{\"standoff\":15},\"zerolinecolor\":\"white\",\"automargin\":true,\"zerolinewidth\":2},\"scene\":{\"xaxis\":{\"backgroundcolor\":\"#E5ECF6\",\"gridcolor\":\"white\",\"linecolor\":\"white\",\"showbackground\":true,\"ticks\":\"\",\"zerolinecolor\":\"white\",\"gridwidth\":2},\"yaxis\":{\"backgroundcolor\":\"#E5ECF6\",\"gridcolor\":\"white\",\"linecolor\":\"white\",\"showbackground\":true,\"ticks\":\"\",\"zerolinecolor\":\"white\",\"gridwidth\":2},\"zaxis\":{\"backgroundcolor\":\"#E5ECF6\",\"gridcolor\":\"white\",\"linecolor\":\"white\",\"showbackground\":true,\"ticks\":\"\",\"zerolinecolor\":\"white\",\"gridwidth\":2}},\"shapedefaults\":{\"line\":{\"color\":\"#2a3f5f\"}},\"annotationdefaults\":{\"arrowcolor\":\"#2a3f5f\",\"arrowhead\":0,\"arrowwidth\":1},\"geo\":{\"bgcolor\":\"white\",\"landcolor\":\"#E5ECF6\",\"subunitcolor\":\"white\",\"showland\":true,\"showlakes\":true,\"lakecolor\":\"white\"},\"title\":{\"x\":0.05},\"mapbox\":{\"style\":\"light\"}}},\"xaxis\":{\"anchor\":\"y\",\"domain\":[0.0,0.45],\"title\":{\"text\":\"Environment\"}},\"yaxis\":{\"anchor\":\"x\",\"domain\":[0.625,1.0],\"title\":{\"text\":\"Temperature (°C)\"}},\"xaxis2\":{\"anchor\":\"y2\",\"domain\":[0.55,1.0],\"title\":{\"text\":\"Environment\"}},\"yaxis2\":{\"anchor\":\"x2\",\"domain\":[0.625,1.0],\"title\":{\"text\":\"Temperature (°C)\"}},\"annotations\":[{\"font\":{\"size\":16},\"showarrow\":false,\"text\":\"Average Temperature by Environment\",\"x\":0.225,\"xanchor\":\"center\",\"xref\":\"paper\",\"y\":1.0,\"yanchor\":\"bottom\",\"yref\":\"paper\"},{\"font\":{\"size\":16},\"showarrow\":false,\"text\":\"Temperature Range Analysis\",\"x\":0.775,\"xanchor\":\"center\",\"xref\":\"paper\",\"y\":1.0,\"yanchor\":\"bottom\",\"yref\":\"paper\"},{\"font\":{\"size\":16},\"showarrow\":false,\"text\":\"Reading Count Distribution\",\"x\":0.225,\"xanchor\":\"center\",\"xref\":\"paper\",\"y\":0.375,\"yanchor\":\"bottom\",\"yref\":\"paper\"},{\"font\":{\"size\":16},\"showarrow\":false,\"text\":\"Temperature Statistics Summary\",\"x\":0.775,\"xanchor\":\"center\",\"xref\":\"paper\",\"y\":0.375,\"yanchor\":\"bottom\",\"yref\":\"paper\"}],\"title\":{\"text\":\"🌡️ Comprehensive Temperature Analysis - MapReduce Results\"},\"height\":800,\"showlegend\":true},                        {\"responsive\": true}                    ).then(function(){\n",
              "                            \n",
              "var gd = document.getElementById('578bf998-fb12-40c7-963c-733dc649b5c6');\n",
              "var x = new MutationObserver(function (mutations, observer) {{\n",
              "        var display = window.getComputedStyle(gd).display;\n",
              "        if (!display || display === 'none') {{\n",
              "            console.log([gd, 'removed!']);\n",
              "            Plotly.purge(gd);\n",
              "            observer.disconnect();\n",
              "        }}\n",
              "}});\n",
              "\n",
              "// Listen for the removal of the full notebook cells\n",
              "var notebookContainer = gd.closest('#notebook-container');\n",
              "if (notebookContainer) {{\n",
              "    x.observe(notebookContainer, {childList: true});\n",
              "}}\n",
              "\n",
              "// Listen for the clearing of the current output cell\n",
              "var outputEl = gd.closest('.output');\n",
              "if (outputEl) {{\n",
              "    x.observe(outputEl, {childList: true});\n",
              "}}\n",
              "\n",
              "                        })                };                            </script>        </div>\n",
              "</body>\n",
              "</html>"
            ]
          },
          "metadata": {}
        },
        {
          "output_type": "stream",
          "name": "stdout",
          "text": [
            "\n",
            "🔍 Key Insights:\n",
            "• Temperature difference between environments: 4.79°C\n",
            "• Total temperature readings analyzed: 40320\n"
          ]
        }
      ]
    }
  ],
  "metadata": {
    "colab": {
      "provenance": [],
      "include_colab_link": true
    },
    "kernelspec": {
      "display_name": "Python 3",
      "name": "python3"
    },
    "language_info": {
      "name": "python"
    }
  },
  "nbformat": 4,
  "nbformat_minor": 0
}