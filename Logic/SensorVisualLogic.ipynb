{
  "nbformat": 4,
  "nbformat_minor": 0,
  "metadata": {
    "colab": {
      "provenance": [],
      "include_colab_link": true
    },
    "kernelspec": {
      "name": "python3",
      "display_name": "Python 3"
    },
    "language_info": {
      "name": "python"
    }
  },
  "cells": [
    {
      "cell_type": "markdown",
      "metadata": {
        "id": "view-in-github",
        "colab_type": "text"
      },
      "source": [
        "<a href=\"https://colab.research.google.com/github/Cloud-Course-Group-Phoenix/Project-Pheonix/blob/Dev/Logic/SensorVisualLogic.ipynb\" target=\"_parent\"><img src=\"https://colab.research.google.com/assets/colab-badge.svg\" alt=\"Open In Colab\"/></a>"
      ]
    },
    {
      "cell_type": "code",
      "execution_count": null,
      "metadata": {
        "id": "oa3_yldxmL4j",
        "colab": {
          "base_uri": "https://localhost:8080/"
        },
        "outputId": "c8925af3-15c8-4236-d1e3-34df77cb1773"
      },
      "outputs": [
        {
          "output_type": "stream",
          "name": "stdout",
          "text": [
            "/content/Project-Pheonix\n",
            "\u001b[2K   \u001b[90m━━━━━━━━━━━━━━━━━━━━━━━━━━━━━━━━━━━━━━━━\u001b[0m \u001b[32m54.2/54.2 MB\u001b[0m \u001b[31m14.0 MB/s\u001b[0m eta \u001b[36m0:00:00\u001b[0m\n",
            "\u001b[2K   \u001b[90m━━━━━━━━━━━━━━━━━━━━━━━━━━━━━━━━━━━━━━━━\u001b[0m \u001b[32m323.1/323.1 kB\u001b[0m \u001b[31m17.9 MB/s\u001b[0m eta \u001b[36m0:00:00\u001b[0m\n",
            "\u001b[2K   \u001b[90m━━━━━━━━━━━━━━━━━━━━━━━━━━━━━━━━━━━━━━━━\u001b[0m \u001b[32m95.2/95.2 kB\u001b[0m \u001b[31m6.6 MB/s\u001b[0m eta \u001b[36m0:00:00\u001b[0m\n",
            "\u001b[2K   \u001b[90m━━━━━━━━━━━━━━━━━━━━━━━━━━━━━━━━━━━━━━━━\u001b[0m \u001b[32m11.5/11.5 MB\u001b[0m \u001b[31m100.9 MB/s\u001b[0m eta \u001b[36m0:00:00\u001b[0m\n",
            "\u001b[2K   \u001b[90m━━━━━━━━━━━━━━━━━━━━━━━━━━━━━━━━━━━━━━━━\u001b[0m \u001b[32m72.0/72.0 kB\u001b[0m \u001b[31m4.8 MB/s\u001b[0m eta \u001b[36m0:00:00\u001b[0m\n",
            "\u001b[2K   \u001b[90m━━━━━━━━━━━━━━━━━━━━━━━━━━━━━━━━━━━━━━━━\u001b[0m \u001b[32m62.5/62.5 kB\u001b[0m \u001b[31m4.5 MB/s\u001b[0m eta \u001b[36m0:00:00\u001b[0m\n",
            "\u001b[?25h"
          ]
        }
      ],
      "source": [
        "import os, sys\n",
        "\n",
        "try:\n",
        "    # Clone the GitHub repository if not already present\n",
        "    if not os.path.exists(\"/content/Project-Pheonix\"):\n",
        "        !git clone https://github.com/Cloud-Course-Group-Phoenix/Project-Pheonix.git /content/Project-Pheonix\n",
        "\n",
        "    # Change directory to project root\n",
        "    %cd /content/Project-Pheonix\n",
        "\n",
        "    # Checkout the 'dev' branch\n",
        "    !git fetch origin -q\n",
        "    !git checkout Dev -q\n",
        "\n",
        "    # Add project directory to Python path\n",
        "    sys.path.append(\"/content/Project-Pheonix/Logic\")\n",
        "    %pip install -q -U gradio\n",
        "    %pip install -q plotly\n",
        "    %pip install -q importnb\n",
        "    from importnb import Notebook\n",
        "    with Notebook():\n",
        "        import CloudDB as dbService\n",
        "    import gradio as gr\n",
        "    import time\n",
        "    from datetime import datetime\n",
        "    import plotly.graph_objects as go\n",
        "\n",
        "except Exception as e:\n",
        "    print(\"❌ Setup failed:\", str(e))"
      ]
    },
    {
      "cell_type": "code",
      "source": [
        "#Fetches data from the database based on the enviorment\n",
        "def fetch_data(path):\n",
        "    data = dbService.get_from_db(f'/FakeData/{path}') or {}\n",
        "    if data:\n",
        "        keys = list(data.keys())\n",
        "        values = list(data.values())\n",
        "        readable_times = [datetime.utcfromtimestamp(int(ts)).strftime('%H:%M:%S') for ts in keys]\n",
        "        dates = [datetime.utcfromtimestamp(int(ts)).strftime('%Y-%m-%d') for ts in keys]\n",
        "    else:\n",
        "        keys, values, readable_times, dates = [], [], [], []\n",
        "    return keys, values, readable_times, dates\n",
        "\n",
        "data_keys_indoor, data_values_indoor, times_indoor, dates_indoor = fetch_data(\"indoor\")\n",
        "data_keys_outdoor, data_values_outdoor, times_outdoor, _ = fetch_data(\"outdoor\")\n",
        "\n",
        "\n",
        "enviorment = ['indoor','outdoor']\n",
        "sensors = {'indoor':['Distance','Temperature','Humidity','Pressure'] , 'outdoor':['DLIGHT','Temperature','Humidity','Pressure']}\n",
        "sensor_units_map = {'Temperature': '°C','Humidity': '%','Pressure': 'Pa','Distance': 'mm','DLIGHT': 'lx'}\n",
        "#create and array for the dates and inital hours\n",
        "\n",
        "date_hour_set = { datetime.utcfromtimestamp(int(ts)).strftime('%Y-%m-%d,%H') for ts in data_keys_indoor}\n",
        "dates = sorted(set(date.split(',')[0] for date in date_hour_set))\n",
        "initial_hours = sorted(set( datetime.utcfromtimestamp(int(ts)).strftime('%H') for ts in data_keys_indoor if datetime.utcfromtimestamp(int(ts)).strftime('%Y-%m-%d') == dates[0]))\n",
        "\n",
        "#updates Dropbox values\n",
        "def rs_change(rs):\n",
        "  return gr.update(choices=sensors[rs], value=sensors[rs][0])\n",
        "\n",
        "#changes the hours in the dropbox according to the data and the selected date\n",
        "def date_change(selected_date):\n",
        "    hours = sorted(set(\n",
        "        datetime.utcfromtimestamp(int(ts)).strftime('%H')\n",
        "        for ts in data_keys_indoor\n",
        "        if datetime.utcfromtimestamp(int(ts)).strftime('%Y-%m-%d') == selected_date\n",
        "    ))\n",
        "    return gr.update(choices=hours, value=hours[0] if hours else None)\n",
        "\n",
        "#gets all the sensor's data in the selected hour and date and returns the average value of the sensor\n",
        "def get_time_and_date(data_keys, data_values, selected_date, selected_hour, name):\n",
        "    filtered = [\n",
        "        (datetime.utcfromtimestamp(int(ts)).strftime('%H:%M:%S'), value.get(name, 0))\n",
        "        for ts, value in zip(data_keys, data_values)\n",
        "        if datetime.utcfromtimestamp(int(ts)).strftime('%Y-%m-%d') == selected_date\n",
        "        and datetime.utcfromtimestamp(int(ts)).strftime('%H') == selected_hour\n",
        "        and value.get(name, 0) != 0\n",
        "    ]\n",
        "    times, values = zip(*filtered) if filtered else ([], [])\n",
        "    clean_values = [v for v in values if v is not None]\n",
        "    avg = round(sum(clean_values) / len(clean_values), 2) if clean_values else 0\n",
        "    return list(times), list(values), avg\n",
        "\n",
        "# Data visualization\n",
        "def plot_graph(place, name, date, hour):\n",
        "    data = {\n",
        "        'indoor': (data_keys_indoor, data_values_indoor),\n",
        "        'outdoor': (data_keys_outdoor, data_values_outdoor)\n",
        "    }.get(place)\n",
        "\n",
        "    if not all([place, name, date, hour]):\n",
        "        fig = go.Figure().update_layout(\n",
        "            title=\"⚠️ Missing selection: Please choose environment, sensor, date, and hour.\"\n",
        "        )\n",
        "        return fig, \"Error: Missing input.\"\n",
        "\n",
        "    if not data:\n",
        "        fig = go.Figure().update_layout(title=\"No data available\")\n",
        "        return fig, \"No average\"\n",
        "\n",
        "    try:\n",
        "        keys, values = data\n",
        "        times, values, avg = get_time_and_date(keys, values, date, hour, name)\n",
        "        fig = go.Figure()\n",
        "        fig.add_trace(go.Scatter(x=times, y=values, mode='lines', name=name))\n",
        "        fig.update_layout(\n",
        "            title=f'Sensor {name} Over Time',\n",
        "            xaxis_title='Time',\n",
        "            yaxis_title=f\"{name} ({sensor_units_map.get(name, '')})\"\n",
        "        )\n",
        "        return fig, f\"Average: {avg} {sensor_units_map.get(name, '')}\"\n",
        "    except Exception as e:\n",
        "        fig = go.Figure().update_layout(title=f'Error: {str(e)}')\n",
        "        return fig, \"Error occurred\""
      ],
      "metadata": {
        "id": "4Mc3hNDtmeCR"
      },
      "execution_count": null,
      "outputs": []
    }
  ]
}