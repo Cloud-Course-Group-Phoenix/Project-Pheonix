{
  "nbformat": 4,
  "nbformat_minor": 0,
  "metadata": {
    "colab": {
      "provenance": [],
      "authorship_tag": "ABX9TyOKHk3B5vPPTmVMwzUBtAAr",
      "include_colab_link": true
    },
    "kernelspec": {
      "name": "python3",
      "display_name": "Python 3"
    },
    "language_info": {
      "name": "python"
    }
  },
  "cells": [
    {
      "cell_type": "markdown",
      "metadata": {
        "id": "view-in-github",
        "colab_type": "text"
      },
      "source": [
        "<a href=\"https://colab.research.google.com/github/Cloud-Course-Group-Phoenix/Project-Pheonix/blob/main/Logic/TaskLogicTest.ipynb\" target=\"_parent\"><img src=\"https://colab.research.google.com/assets/colab-badge.svg\" alt=\"Open In Colab\"/></a>"
      ]
    },
    {
      "cell_type": "code",
      "execution_count": null,
      "metadata": {
        "id": "Tx5XudWAUoId"
      },
      "outputs": [],
      "source": [
        "import os, sys,re,operator\n",
        "\n",
        "\n",
        "try:\n",
        "    # Step 1: Clone the GitHub repository if not already present\n",
        "    if not os.path.exists(\"/content/Project-Pheonix\"):\n",
        "        !git clone https://github.com/Cloud-Course-Group-Phoenix/Project-Pheonix.git /content/Project-Pheonix\n",
        "\n",
        "    # Step 2: Change directory to project root\n",
        "    %cd /content/Project-Pheonix\n",
        "\n",
        "    # Step 3: Checkout the 'main' branch (or develop if you have one)\n",
        "    !git fetch origin -q\n",
        "    !git checkout main -q\n",
        "\n",
        "    # Step 4: Add project directory to Python path\n",
        "    sys.path.append(\"/content/Project-Pheonix/Logic\")\n",
        "\n",
        "    # Step 5: Install required Python packages (quietly)\n",
        "    %pip install -q firebase\n",
        "    %pip install -q importnb\n",
        "\n",
        "    print(\"✅ Setup completed successfully.\")\n",
        "    from importnb import Notebook\n",
        "    with Notebook():\n",
        "        import CloudDB as dbService\n",
        "\n",
        "except Exception as e:\n",
        "    print(\"❌ Setup failed:\", str(e))\n",
        "\n",
        "# Clear installation output for cleaner display\n",
        "from IPython.display import clear_output\n",
        "clear_output()"
      ]
    },
    {
      "cell_type": "code",
      "source": [
        "def get_all_tasks():\n",
        "    try:\n",
        "        tasks_dict = dbService.get_all_tasks_dict()\n",
        "        # Convert dictionary to list for UI compatibility\n",
        "        tasks_list = []\n",
        "        for task_id, task_data in tasks_dict.items():\n",
        "            if isinstance(task_data, dict):\n",
        "                # Add the task_id to the task data for reference\n",
        "                task_with_id = task_data.copy()\n",
        "                task_with_id['task_id'] = task_id\n",
        "                tasks_list.append(task_with_id)\n",
        "        return tasks_list\n",
        "    except Exception as e:\n",
        "        print(f\"Error getting tasks: {e}\")\n",
        "        return []\n",
        "\n",
        "def add_task(task_data):\n",
        "    try:\n",
        "        task_id = dbService.add_task(task_data)\n",
        "        return True if task_id else False\n",
        "    except Exception as e:\n",
        "        print(f\"Error adding task: {e}\")\n",
        "        return False\n",
        "\n",
        "def get_task(task_name):\n",
        "    try:\n",
        "        return dbService.get_task(task_name)\n",
        "    except Exception as e:\n",
        "        print(f\"Error getting task: {e}\")\n",
        "        return None\n",
        "\n",
        "def remove_task(task_name):\n",
        "    \"\"\"Remove a task from the database by name\"\"\"\n",
        "    try:\n",
        "        return dbService.delete_task_by_name(task_name)\n",
        "    except Exception as e:\n",
        "        print(f\"Error removing task: {e}\")\n",
        "        return False\n",
        "\n",
        "def remove_task_by_id(task_id):\n",
        "    \"\"\"Remove a task from the database by ID\"\"\"\n",
        "    try:\n",
        "        return dbService.delete_task(task_id)\n",
        "    except Exception as e:\n",
        "        print(f\"Error removing task: {e}\")\n",
        "        return False\n",
        "\n",
        "def mark_task_complete(task_name):\n",
        "    \"\"\"Mark a task as complete by name\"\"\"\n",
        "    try:\n",
        "        return dbService.mark_task_complete_by_name(task_name)\n",
        "    except Exception as e:\n",
        "        print(f\"Error marking task complete: {e}\")\n",
        "        return False\n",
        "\n",
        "def mark_task_complete_by_id(task_id):\n",
        "    \"\"\"Mark a task as complete by ID\"\"\"\n",
        "    try:\n",
        "        return dbService.mark_task_complete(task_id)\n",
        "    except Exception as e:\n",
        "        print(f\"Error marking task complete: {e}\")\n",
        "        return False\n"
      ],
      "metadata": {
        "id": "dR4QjaeFVETL"
      },
      "execution_count": null,
      "outputs": []
    }
  ]
}