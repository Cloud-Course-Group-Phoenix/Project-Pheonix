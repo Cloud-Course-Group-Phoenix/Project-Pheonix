{
  "nbformat": 4,
  "nbformat_minor": 0,
  "metadata": {
    "colab": {
      "provenance": [],
      "include_colab_link": true
    },
    "kernelspec": {
      "name": "python3",
      "display_name": "Python 3"
    },
    "language_info": {
      "name": "python"
    }
  },
  "cells": [
    {
      "cell_type": "markdown",
      "metadata": {
        "id": "view-in-github",
        "colab_type": "text"
      },
      "source": [
        "<a href=\"https://colab.research.google.com/github/Cloud-Course-Group-Phoenix/Project-Pheonix/blob/Dev/Logic/UserManager.ipynb\" target=\"_parent\"><img src=\"https://colab.research.google.com/assets/colab-badge.svg\" alt=\"Open In Colab\"/></a>"
      ]
    },
    {
      "cell_type": "code",
      "execution_count": null,
      "metadata": {
        "id": "qoasWWm-wOaM",
        "outputId": "a2a89994-ae87-43fc-9bb0-7320bd020e80",
        "colab": {
          "base_uri": "https://localhost:8080/"
        }
      },
      "outputs": [
        {
          "output_type": "stream",
          "name": "stdout",
          "text": [
            "\u001b[?25l   \u001b[90m━━━━━━━━━━━━━━━━━━━━━━━━━━━━━━━━━━━━━━━━\u001b[0m \u001b[32m0.0/46.0 kB\u001b[0m \u001b[31m?\u001b[0m eta \u001b[36m-:--:--\u001b[0m\r\u001b[2K   \u001b[90m━━━━━━━━━━━━━━━━━━━━━━━━━━━━━━━━━━━━━━━━\u001b[0m \u001b[32m46.0/46.0 kB\u001b[0m \u001b[31m1.7 MB/s\u001b[0m eta \u001b[36m0:00:00\u001b[0m\n",
            "\u001b[?25hCloning into '/content/Project-Pheonix'...\n",
            "remote: Enumerating objects: 527, done.\u001b[K\n",
            "remote: Counting objects: 100% (102/102), done.\u001b[K\n",
            "remote: Compressing objects: 100% (86/86), done.\u001b[K\n",
            "remote: Total 527 (delta 62), reused 13 (delta 13), pack-reused 425 (from 1)\u001b[K\n",
            "Receiving objects: 100% (527/527), 1.90 MiB | 13.30 MiB/s, done.\n",
            "Resolving deltas: 100% (289/289), done.\n",
            "/content/Project-Pheonix\n"
          ]
        }
      ],
      "source": [
        "import os, sys\n",
        "%pip install -q importnb\n",
        "\n",
        "try:\n",
        "    # Clone the GitHub repository if not already present\n",
        "    if not os.path.exists(\"/content/Project-Pheonix\"):\n",
        "        !git clone https://github.com/Cloud-Course-Group-Phoenix/Project-Pheonix.git /content/Project-Pheonix\n",
        "\n",
        "    # Change directory to project root\n",
        "    %cd /content/Project-Pheonix\n",
        "\n",
        "    # Checkout the 'dev' branch\n",
        "    !git fetch origin -q\n",
        "    !git checkout Dev -q\n",
        "\n",
        "    # Add project directory to Python path\n",
        "    sys.path.append(\"/content/Project-Pheonix/Logic\")\n",
        "    from importnb import Notebook\n",
        "    with Notebook():\n",
        "        import CloudDB as dbService\n",
        "\n",
        "\n",
        "except Exception as e:\n",
        "    print(\"❌ Setup failed:\", str(e))"
      ]
    },
    {
      "cell_type": "code",
      "source": [
        "def login(username, password):\n",
        "    if not username or not password:\n",
        "        return \"❌ Please fill in all fields.\", None, False\n",
        "\n",
        "    user_data = dbService.get_user_by_username(username)\n",
        "\n",
        "    # Check if user exists\n",
        "    if not user_data:\n",
        "        return \"❌ Invalid username or password.\", None, False\n",
        "\n",
        "    # Verify password\n",
        "    if user_data[\"password\"] != password:\n",
        "        return \"❌ Invalid username or password.\", None, False\n",
        "\n",
        "    # Return success message, username, and admin status\n",
        "    if user_data.get(\"is_admin\"):\n",
        "        return f\"✅ Welcome Admin {username}!\", username, user_data.get(\"is_admin\")\n",
        "    else:\n",
        "        return f\"✅ Welcome {username}!\", username, user_data.get(\"is_admin\")\n",
        "\n",
        "\n",
        "def register_account(username, password, confirm_password, is_admin):\n",
        "    if not username or not password:\n",
        "        return \"❌ Please fill in all fields.\", None, False\n",
        "    if password != confirm_password:\n",
        "        return \"❌ Passwords do not match.\", None, False\n",
        "\n",
        "    # Use Firebase's direct method to check if user exists\n",
        "    existing_user = dbService.get_user_by_username(username)\n",
        "\n",
        "    if existing_user is not None:\n",
        "        return \"❌ Username already exists.\", None, False\n",
        "\n",
        "    user_data = {\n",
        "        \"password\": password,\n",
        "        \"is_admin\": is_admin,\n",
        "        \"coins\": 2500\n",
        "    }\n",
        "\n",
        "    # Save user directly to Firebase\n",
        "    result = dbService.insert_to_db_user(username, user_data)\n",
        "    if result:\n",
        "        return f\"✅ User '{username}' registered successfully!\", username, is_admin\n",
        "    else:\n",
        "        return \"❌ Failed to register. Try again later.\", None, False\n",
        "\n",
        "def get_all_users():\n",
        "    \"\"\"Get all users from database except Admin\"\"\"\n",
        "    try:\n",
        "        users = dbService.get_from_db('users') or {}\n",
        "        return users\n",
        "    except Exception as e:\n",
        "        print(f\"Error getting users: {e}\")\n",
        "        return []\n",
        "\n",
        "def update_user_coins(username, coins_to_add):\n",
        "    \"\"\"Update user's coins by adding the specified amount\"\"\"\n",
        "    try:\n",
        "        userExist = dbService.check_user_exists(username)\n",
        "        if not userExist:\n",
        "            return False, f\"User '{username}' not found!\"\n",
        "\n",
        "        secsess = dbService.change_coins_for_user(username,coins_to_add)\n",
        "        if secsess:\n",
        "            return True, f\"Added {coins_to_add} coins to {username}. New balance: {secsess} coins\"\n",
        "        else:\n",
        "            return False, f\"Error updating coins for {username}.\"\n",
        "\n",
        "    except Exception as e:\n",
        "        return False, f\"Error updating coins: {str(e)}\""
      ],
      "metadata": {
        "id": "axaaCcpPxmBg"
      },
      "execution_count": null,
      "outputs": []
    }
  ]
}