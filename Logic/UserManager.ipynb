{
  "nbformat": 4,
  "nbformat_minor": 0,
  "metadata": {
    "colab": {
      "provenance": [],
      "authorship_tag": "ABX9TyOxFIVwi52cLWbt/4ruUftF",
      "include_colab_link": true
    },
    "kernelspec": {
      "name": "python3",
      "display_name": "Python 3"
    },
    "language_info": {
      "name": "python"
    }
  },
  "cells": [
    {
      "cell_type": "markdown",
      "metadata": {
        "id": "view-in-github",
        "colab_type": "text"
      },
      "source": [
        "<a href=\"https://colab.research.google.com/github/Cloud-Course-Group-Phoenix/Project-Pheonix/blob/main/Logic/UserManager.ipynb\" target=\"_parent\"><img src=\"https://colab.research.google.com/assets/colab-badge.svg\" alt=\"Open In Colab\"/></a>"
      ]
    },
    {
      "cell_type": "code",
      "execution_count": null,
      "metadata": {
        "id": "qoasWWm-wOaM"
      },
      "outputs": [],
      "source": [
        "import os, sys\n",
        "\n",
        "try:\n",
        "    # Clone the GitHub repository if not already present\n",
        "    if not os.path.exists(\"/content/Project-Pheonix\"):\n",
        "        !git clone https://github.com/Cloud-Course-Group-Phoenix/Project-Pheonix.git /content/Project-Pheonix\n",
        "\n",
        "    # Change directory to project root\n",
        "    %cd /content/Project-Pheonix\n",
        "\n",
        "    # Checkout the 'main' branch\n",
        "    !git fetch origin -q\n",
        "    !git checkout main -q\n",
        "\n",
        "    # Add project directory to Python path\n",
        "    sys.path.append(\"/content/Project-Pheonix/Logic\")\n",
        "\n",
        "    # Install required Python packages\n",
        "    %pip install -q firebase\n",
        "    %pip install -q importnb\n",
        "\n",
        "    print(\"✅ Setup completed successfully.\")\n",
        "\n",
        "    # Imports\n",
        "    from firebase import firebase\n",
        "    from IPython.display import clear_output\n",
        "    from importnb import Notebook\n",
        "    with Notebook():\n",
        "        import CloudDB as dbService\n",
        "\n",
        "except Exception as e:\n",
        "    print(\"❌ Setup failed:\", str(e))\n",
        "\n",
        "# Clear installation output for cleaner display\n",
        "clear_output()"
      ]
    },
    {
      "cell_type": "code",
      "source": [
        "def login(username, password):\n",
        "    if not username or not password:\n",
        "        return \"❌ Please fill in all fields.\", None, False\n",
        "\n",
        "    user_data = dbService.get_user_by_username(username)\n",
        "\n",
        "    # Check if user exists\n",
        "    if not user_data:\n",
        "        return \"❌ Invalid username or password.\", None, False\n",
        "\n",
        "    # Verify password\n",
        "    if user_data[\"password\"] != password:\n",
        "        return \"❌ Invalid username or password.\", None, False\n",
        "\n",
        "    # Return success message, username, and admin status\n",
        "    if user_data.get(\"is_admin\"):\n",
        "        return f\"✅ Welcome Admin {username}!\", username, user_data.get(\"is_admin\")\n",
        "    else:\n",
        "        return f\"✅ Welcome {username}!\", username, user_data.get(\"is_admin\")\n",
        "\n",
        "\n",
        "def register_account(username, password, confirm_password, is_admin):\n",
        "    if not username or not password:\n",
        "        return \"❌ Please fill in all fields.\", None, False\n",
        "    if password != confirm_password:\n",
        "        return \"❌ Passwords do not match.\", None, False\n",
        "\n",
        "    # Use Firebase's direct method to check if user exists\n",
        "    existing_user = dbService.get_user_by_username(username)\n",
        "\n",
        "    if existing_user is not None:\n",
        "        return \"❌ Username already exists.\", None, False\n",
        "\n",
        "    user_data = {\n",
        "        \"password\": password,\n",
        "        \"is_admin\": is_admin\n",
        "        \"coins\": 2500\n",
        "    }\n",
        "\n",
        "    # Save user directly to Firebase\n",
        "    result = dbService.insert_to_db_user(username, user_data)\n",
        "    if result:\n",
        "        return f\"✅ User '{username}' registered successfully!\", username, is_admin\n",
        "    else:\n",
        "        return \"❌ Failed to register. Try again later.\", None, False\n"
      ],
      "metadata": {
        "id": "axaaCcpPxmBg"
      },
      "execution_count": null,
      "outputs": []
    }
  ]
}