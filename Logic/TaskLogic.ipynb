{
  "nbformat": 4,
  "nbformat_minor": 0,
  "metadata": {
    "colab": {
      "provenance": [],
      "include_colab_link": true
    },
    "kernelspec": {
      "name": "python3",
      "display_name": "Python 3"
    },
    "language_info": {
      "name": "python"
    }
  },
  "cells": [
    {
      "cell_type": "markdown",
      "metadata": {
        "id": "view-in-github",
        "colab_type": "text"
      },
      "source": [
        "<a href=\"https://colab.research.google.com/github/Cloud-Course-Group-Phoenix/Project-Pheonix/blob/Dev/Logic/TaskLogic.ipynb\" target=\"_parent\"><img src=\"https://colab.research.google.com/assets/colab-badge.svg\" alt=\"Open In Colab\"/></a>"
      ]
    },
    {
      "cell_type": "code",
      "execution_count": null,
      "metadata": {
        "id": "Tx5XudWAUoId",
        "outputId": "f1afea67-8063-4705-e159-f0bf405749b3",
        "colab": {
          "base_uri": "https://localhost:8080/"
        }
      },
      "outputs": [
        {
          "output_type": "stream",
          "name": "stdout",
          "text": [
            "\u001b[?25l   \u001b[90m━━━━━━━━━━━━━━━━━━━━━━━━━━━━━━━━━━━━━━━━\u001b[0m \u001b[32m0.0/46.0 kB\u001b[0m \u001b[31m?\u001b[0m eta \u001b[36m-:--:--\u001b[0m\r\u001b[2K   \u001b[90m━━━━━━━━━━━━━━━━━━━━━━━━━━━━━━━━━━━━━━━━\u001b[0m \u001b[32m46.0/46.0 kB\u001b[0m \u001b[31m1.3 MB/s\u001b[0m eta \u001b[36m0:00:00\u001b[0m\n",
            "\u001b[?25hCloning into '/content/Project-Pheonix'...\n",
            "remote: Enumerating objects: 523, done.\u001b[K\n",
            "remote: Counting objects: 100% (98/98), done.\u001b[K\n",
            "remote: Compressing objects: 100% (82/82), done.\u001b[K\n",
            "remote: Total 523 (delta 58), reused 13 (delta 13), pack-reused 425 (from 1)\u001b[K\n",
            "Receiving objects: 100% (523/523), 1.90 MiB | 8.29 MiB/s, done.\n",
            "Resolving deltas: 100% (285/285), done.\n",
            "/content/Project-Pheonix\n"
          ]
        }
      ],
      "source": [
        "import os, sys\n",
        "%pip install -q importnb\n",
        "\n",
        "try:\n",
        "    # Clone the GitHub repository if not already present\n",
        "    if not os.path.exists(\"/content/Project-Pheonix\"):\n",
        "        !git clone https://github.com/Cloud-Course-Group-Phoenix/Project-Pheonix.git /content/Project-Pheonix\n",
        "\n",
        "    # Change directory to project root\n",
        "    %cd /content/Project-Pheonix\n",
        "\n",
        "    # Checkout the 'dev' branch\n",
        "    !git fetch origin -q\n",
        "    !git checkout Dev -q\n",
        "\n",
        "    #  Add project directory to Python path\n",
        "    sys.path.append(\"/content/Project-Pheonix/Logic\")\n",
        "    from importnb import Notebook\n",
        "    with Notebook():\n",
        "        import CloudDB as dbService\n",
        "\n",
        "except Exception as e:\n",
        "    print(\"❌ Setup failed:\", str(e))"
      ]
    },
    {
      "cell_type": "code",
      "source": [
        "def get_all_tasks():\n",
        "    try:\n",
        "        return dbService.get_from_db('Tasks') or {}\n",
        "    except Exception as e:\n",
        "        print(f\"Error getting tasks: {e}\")\n",
        "        return {}\n",
        "\n",
        "def add_task(task_data):\n",
        "    try:\n",
        "        dbService.add_task(task_data)\n",
        "        return True\n",
        "    except Exception as e:\n",
        "        print(f\"Error adding task: {e}\")\n",
        "        return False\n",
        "\n",
        "def get_task(task_name):\n",
        "    try:\n",
        "        tasks = dbService.get_from_db('Tasks') or {}\n",
        "        # Handle Firebase's dictionary structure\n",
        "        if isinstance(tasks, dict):\n",
        "            for task_id, task_data in tasks.items():\n",
        "                if isinstance(task_data, dict) and task_data.get('name') == task_name:\n",
        "                    return task_data\n",
        "        return None\n",
        "    except Exception as e:\n",
        "        print(f\"Error getting task: {e}\")\n",
        "        return None\n",
        "\n",
        "def remove_task(task_name):\n",
        "    try:\n",
        "        tasks = dbService.get_from_db('Tasks') or {}\n",
        "        # Handle Firebase's dictionary structure\n",
        "        if isinstance(tasks, dict):\n",
        "            task_key_to_remove = None\n",
        "            for task_id, task_data in tasks.items():\n",
        "                if isinstance(task_data, dict) and task_data.get('name') == task_name:\n",
        "                    task_key_to_remove = task_id\n",
        "                    break\n",
        "\n",
        "            if task_key_to_remove:\n",
        "                # Remove the specific task by its Firebase key\n",
        "                del tasks[task_key_to_remove]\n",
        "                dbService.insert_to_db_task(tasks)\n",
        "                return True\n",
        "        return False\n",
        "    except Exception as e:\n",
        "        print(f\"Error removing task: {e}\")\n",
        "        return False\n"
      ],
      "metadata": {
        "id": "dR4QjaeFVETL"
      },
      "execution_count": null,
      "outputs": []
    }
  ]
}