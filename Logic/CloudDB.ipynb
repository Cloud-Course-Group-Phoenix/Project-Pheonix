{
  "nbformat": 4,
  "nbformat_minor": 0,
  "metadata": {
    "colab": {
      "provenance": [],
      "authorship_tag": "ABX9TyOyJF8i2Y2X889vd2eFFFPC",
      "include_colab_link": true
    },
    "kernelspec": {
      "name": "python3",
      "display_name": "Python 3"
    },
    "language_info": {
      "name": "python"
    }
  },
  "cells": [
    {
      "cell_type": "markdown",
      "metadata": {
        "id": "view-in-github",
        "colab_type": "text"
      },
      "source": [
        "<a href=\"https://colab.research.google.com/github/Cloud-Course-Group-Phoenix/Project-Pheonix/blob/main/Logic/CloudDB.ipynb\" target=\"_parent\"><img src=\"https://colab.research.google.com/assets/colab-badge.svg\" alt=\"Open In Colab\"/></a>"
      ]
    },
    {
      "cell_type": "code",
      "execution_count": null,
      "metadata": {
        "id": "047ADqrkrsWY"
      },
      "outputs": [],
      "source": [
        "from firebase import firebase"
      ]
    },
    {
      "cell_type": "code",
      "source": [
        "DBLink = \"https://couldproject-a621d-default-rtdb.europe-west1.firebasedatabase.app/\""
      ],
      "metadata": {
        "id": "5kwEphSfrzE6"
      },
      "execution_count": null,
      "outputs": []
    },
    {
      "cell_type": "code",
      "source": [
        "class DbService:\n",
        "    def __init__(self, DbLink):\n",
        "        self.db_link = DbLink\n",
        "\n",
        "    def insert_to_db_index(self, results, page_count):\n",
        "        FBconn = firebase.FirebaseApplication(self.db_link, None)\n",
        "        FBconn.put('/','terms', results)\n",
        "        stats = FBconn.get('/', 'indexStats') or {}\n",
        "        stats[\"word_count\"] = len(results)\n",
        "        stats[\"page_count\"] = page_count\n",
        "        stats[\"last_indexed\"] = datetime.now().strftime(\"%Y-%m-%d %H:%M:%S\")\n",
        "        FBconn.put('/','indexStats', stats)\n",
        "        return stats[\"last_indexed\"]\n",
        "\n",
        "    def get_from_db(self,path):\n",
        "        FBconn = firebase.FirebaseApplication(self.db_link,None)\n",
        "        results = FBconn.get('/',path)\n",
        "        return results\n"
      ],
      "metadata": {
        "id": "8RfZd6Lgr31a"
      },
      "execution_count": null,
      "outputs": []
    }
  ]
}