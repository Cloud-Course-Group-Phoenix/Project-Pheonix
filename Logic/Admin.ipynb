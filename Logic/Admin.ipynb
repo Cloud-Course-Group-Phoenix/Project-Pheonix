{
  "nbformat": 4,
  "nbformat_minor": 0,
  "metadata": {
    "colab": {
      "provenance": [],
      "include_colab_link": true
    },
    "kernelspec": {
      "name": "python3",
      "display_name": "Python 3"
    },
    "language_info": {
      "name": "python"
    }
  },
  "cells": [
    {
      "cell_type": "markdown",
      "metadata": {
        "id": "view-in-github",
        "colab_type": "text"
      },
      "source": [
        "<a href=\"https://colab.research.google.com/github/Cloud-Course-Group-Phoenix/Project-Pheonix/blob/Dev/Logic/Admin.ipynb\" target=\"_parent\"><img src=\"https://colab.research.google.com/assets/colab-badge.svg\" alt=\"Open In Colab\"/></a>"
      ]
    },
    {
      "cell_type": "markdown",
      "source": [
        "#**Admin Logic**\n",
        "A component that handles the admin's logic in the system.\n",
        "this components help a user with an admin status preform actions that only he can do.\n",
        "With this component you can:\n",
        "1. get the top 10 most search terms\n",
        "2. record a term that was searched\n",
        "3. get the current status of the index\n",
        "4. get, add and delete tasks"
      ],
      "metadata": {
        "id": "W9UNFm-1KAWV"
      }
    },
    {
      "cell_type": "code",
      "execution_count": null,
      "metadata": {
        "id": "0BcCZ6PNAjWV",
        "colab": {
          "base_uri": "https://localhost:8080/"
        },
        "outputId": "64173659-2f86-4483-fc32-d51df9b1e69d"
      },
      "outputs": [
        {
          "output_type": "stream",
          "name": "stdout",
          "text": [
            "/content/Project-Pheonix\n"
          ]
        }
      ],
      "source": [
        "import os, sys, re, operator\n",
        "\n",
        "try:\n",
        "    # Clone the GitHub repository if not already present\n",
        "    if not os.path.exists(\"/content/Project-Pheonix\"):\n",
        "        !git clone https://github.com/Cloud-Course-Group-Phoenix/Project-Pheonix.git /content/Project-Pheonix\n",
        "\n",
        "    # Change directory to project root\n",
        "    %cd /content/Project-Pheonix\n",
        "\n",
        "    # Checkout the 'dev' branch\n",
        "    !git fetch origin -q\n",
        "    !git checkout Dev -q\n",
        "\n",
        "    # Add project directory to Python path\n",
        "    sys.path.append(\"/content/Project-Pheonix/Logic\")\n",
        "    %pip install -q importnb\n",
        "    from importnb import Notebook\n",
        "    with Notebook():\n",
        "        import CloudDB as dbService\n",
        "        import Indexmqtt as indx\n",
        "\n",
        "except Exception as e:\n",
        "    print(\"❌ Setup failed:\", str(e))"
      ]
    },
    {
      "cell_type": "code",
      "source": [
        "# Get the top 10 most searched terms from the index\n",
        "def get_top_search_terms():\n",
        "    stats = dbService.get_from_db('indexStats')\n",
        "    if not stats or 'search_counts' not in stats:\n",
        "        return []\n",
        "    sorted_terms = sorted(\n",
        "        stats['search_counts'].items(),\n",
        "        key=operator.itemgetter(1),\n",
        "        reverse=True\n",
        "    )[:10]\n",
        "    if sorted_terms:\n",
        "        return sorted_terms\n",
        "    return []\n",
        "\n",
        "\n",
        "# Record that a term was searched\n",
        "def record_search_term(term):\n",
        "    stats = dbService.get_from_db('indexStats')\n",
        "    if not stats:\n",
        "        stats = {\"search_counts\": {\"placeholder\": 0}}\n",
        "    elif 'search_counts' not in stats:\n",
        "        stats['search_counts'] = {\"placeholder\": 0}\n",
        "\n",
        "    # Remove placeholder if it exists and this isn't a placeholder term\n",
        "    if \"placeholder\" in stats['search_counts'] and term != \"placeholder\":\n",
        "        if len(stats['search_counts']) > 1:  # Only remove if there are other terms\n",
        "            del stats['search_counts'][\"placeholder\"]\n",
        "\n",
        "    # Increment search count for this term\n",
        "    if term in stats['search_counts']:\n",
        "        stats['search_counts'][term] += 1\n",
        "    else:\n",
        "        stats['search_counts'][term] = 1\n",
        "\n",
        "    # Save back to DB\n",
        "    dbService.insert_to_db_stats(stats)\n",
        "\n",
        "\n",
        "# Get the current status of the index\n",
        "def update_index_status():\n",
        "    stats = dbService.get_from_db('indexStats')\n",
        "    if not stats:\n",
        "      dbService.init_stats_if_needed()\n",
        "    return {\n",
        "      \"word_count\": stats.get(\"word_count\", 0),\n",
        "      \"page_count\": stats.get(\"page_count\", 0),\n",
        "      \"last_indexed\": stats.get(\"last_indexed\", \"Unknown\")\n",
        "    }\n",
        "\n",
        "\n",
        "\n",
        "def get_daily_tasks():\n",
        "    return dbService.get_from_db('dailyTasks') or []\n",
        "\n",
        "def add_daily_task(task):\n",
        "    if not task:\n",
        "        return\n",
        "    tasks = get_daily_tasks()\n",
        "    tasks.append(task)\n",
        "    dbService.insert_to_db_task(tasks)\n",
        "\n",
        "def remove_daily_task(task):\n",
        "    tasks = get_daily_tasks()\n",
        "    if task in tasks:\n",
        "        tasks.remove(task)\n",
        "        dbService.insert_to_db_task(tasks)\n",
        "\n",
        "\n",
        "\n",
        "def get_index_status():\n",
        "  return dbService.get_from_db('indexStats')\n",
        "\n",
        "def reindex_content():\n",
        "  return indx.index_mqtt_website()\n",
        "\n",
        "# Track search terms for stats\n",
        "def track_search_terms(query):\n",
        "    if query :\n",
        "        words = re.findall(r'\\w+', query.lower())\n",
        "        for word in words:\n",
        "            record_search_term(word)\n"
      ],
      "metadata": {
        "id": "4tLfkzT5Aml3"
      },
      "execution_count": null,
      "outputs": []
    }
  ]
}