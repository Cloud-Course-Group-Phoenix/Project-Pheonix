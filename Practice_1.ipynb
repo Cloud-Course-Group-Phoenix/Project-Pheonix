{
  "nbformat": 4,
  "nbformat_minor": 0,
  "metadata": {
    "colab": {
      "provenance": []
    },
    "kernelspec": {
      "name": "python3",
      "display_name": "Python 3"
    },
    "language_info": {
      "name": "python"
    },
    "widgets": {
      "application/vnd.jupyter.widget-state+json": {
        "d005a71526564348bd29f7923587ee69": {
          "model_module": "@jupyter-widgets/controls",
          "model_name": "DropdownModel",
          "model_module_version": "1.5.0",
          "state": {
            "_dom_classes": [],
            "_model_module": "@jupyter-widgets/controls",
            "_model_module_version": "1.5.0",
            "_model_name": "DropdownModel",
            "_options_labels": [
              "ishay yulzary",
              "nathan trostianitser",
              "bob bobinson"
            ],
            "_view_count": null,
            "_view_module": "@jupyter-widgets/controls",
            "_view_module_version": "1.5.0",
            "_view_name": "DropdownView",
            "description": "Student:",
            "description_tooltip": null,
            "disabled": false,
            "index": 1,
            "layout": "IPY_MODEL_04b8ae2e23d943179aa5e76298a50b5c",
            "style": "IPY_MODEL_601b2ee2986b4917b450d661d2bf1f29"
          }
        },
        "04b8ae2e23d943179aa5e76298a50b5c": {
          "model_module": "@jupyter-widgets/base",
          "model_name": "LayoutModel",
          "model_module_version": "1.2.0",
          "state": {
            "_model_module": "@jupyter-widgets/base",
            "_model_module_version": "1.2.0",
            "_model_name": "LayoutModel",
            "_view_count": null,
            "_view_module": "@jupyter-widgets/base",
            "_view_module_version": "1.2.0",
            "_view_name": "LayoutView",
            "align_content": null,
            "align_items": null,
            "align_self": null,
            "border": null,
            "bottom": null,
            "display": null,
            "flex": null,
            "flex_flow": null,
            "grid_area": null,
            "grid_auto_columns": null,
            "grid_auto_flow": null,
            "grid_auto_rows": null,
            "grid_column": null,
            "grid_gap": null,
            "grid_row": null,
            "grid_template_areas": null,
            "grid_template_columns": null,
            "grid_template_rows": null,
            "height": null,
            "justify_content": null,
            "justify_items": null,
            "left": null,
            "margin": null,
            "max_height": null,
            "max_width": null,
            "min_height": null,
            "min_width": null,
            "object_fit": null,
            "object_position": null,
            "order": null,
            "overflow": null,
            "overflow_x": null,
            "overflow_y": null,
            "padding": null,
            "right": null,
            "top": null,
            "visibility": null,
            "width": null
          }
        },
        "601b2ee2986b4917b450d661d2bf1f29": {
          "model_module": "@jupyter-widgets/controls",
          "model_name": "DescriptionStyleModel",
          "model_module_version": "1.5.0",
          "state": {
            "_model_module": "@jupyter-widgets/controls",
            "_model_module_version": "1.5.0",
            "_model_name": "DescriptionStyleModel",
            "_view_count": null,
            "_view_module": "@jupyter-widgets/base",
            "_view_module_version": "1.2.0",
            "_view_name": "StyleView",
            "description_width": ""
          }
        },
        "fdb0ee2a12e644a3a66d8057b2a4945b": {
          "model_module": "@jupyter-widgets/controls",
          "model_name": "TextModel",
          "model_module_version": "1.5.0",
          "state": {
            "_dom_classes": [],
            "_model_module": "@jupyter-widgets/controls",
            "_model_module_version": "1.5.0",
            "_model_name": "TextModel",
            "_view_count": null,
            "_view_module": "@jupyter-widgets/controls",
            "_view_module_version": "1.5.0",
            "_view_name": "TextView",
            "continuous_update": true,
            "description": "Email:",
            "description_tooltip": null,
            "disabled": false,
            "layout": "IPY_MODEL_c382b97411c84adbb1f22cc139c94692",
            "placeholder": "​",
            "style": "IPY_MODEL_fb9e1b4168f4462f867587a163fa2bd3",
            "value": "natan.trostianitser@e.braude.ac.il"
          }
        },
        "c382b97411c84adbb1f22cc139c94692": {
          "model_module": "@jupyter-widgets/base",
          "model_name": "LayoutModel",
          "model_module_version": "1.2.0",
          "state": {
            "_model_module": "@jupyter-widgets/base",
            "_model_module_version": "1.2.0",
            "_model_name": "LayoutModel",
            "_view_count": null,
            "_view_module": "@jupyter-widgets/base",
            "_view_module_version": "1.2.0",
            "_view_name": "LayoutView",
            "align_content": null,
            "align_items": null,
            "align_self": null,
            "border": null,
            "bottom": null,
            "display": null,
            "flex": null,
            "flex_flow": null,
            "grid_area": null,
            "grid_auto_columns": null,
            "grid_auto_flow": null,
            "grid_auto_rows": null,
            "grid_column": null,
            "grid_gap": null,
            "grid_row": null,
            "grid_template_areas": null,
            "grid_template_columns": null,
            "grid_template_rows": null,
            "height": null,
            "justify_content": null,
            "justify_items": null,
            "left": null,
            "margin": null,
            "max_height": null,
            "max_width": null,
            "min_height": null,
            "min_width": null,
            "object_fit": null,
            "object_position": null,
            "order": null,
            "overflow": null,
            "overflow_x": null,
            "overflow_y": null,
            "padding": null,
            "right": null,
            "top": null,
            "visibility": null,
            "width": "500px"
          }
        },
        "fb9e1b4168f4462f867587a163fa2bd3": {
          "model_module": "@jupyter-widgets/controls",
          "model_name": "DescriptionStyleModel",
          "model_module_version": "1.5.0",
          "state": {
            "_model_module": "@jupyter-widgets/controls",
            "_model_module_version": "1.5.0",
            "_model_name": "DescriptionStyleModel",
            "_view_count": null,
            "_view_module": "@jupyter-widgets/base",
            "_view_module_version": "1.2.0",
            "_view_name": "StyleView",
            "description_width": ""
          }
        },
        "e1b20f9789f64720b26b1c86f36716a7": {
          "model_module": "@jupyter-widgets/controls",
          "model_name": "TextModel",
          "model_module_version": "1.5.0",
          "state": {
            "_dom_classes": [],
            "_model_module": "@jupyter-widgets/controls",
            "_model_module_version": "1.5.0",
            "_model_name": "TextModel",
            "_view_count": null,
            "_view_module": "@jupyter-widgets/controls",
            "_view_module_version": "1.5.0",
            "_view_name": "TextView",
            "continuous_update": true,
            "description": "Courses:",
            "description_tooltip": null,
            "disabled": false,
            "layout": "IPY_MODEL_98630bb024b84a04948606ced359142b",
            "placeholder": "​",
            "style": "IPY_MODEL_4f0dfa6415d04eaab6686db723a3b4af",
            "value": "Cloud computing, Advanced web systems, Data Mining and Machine Learning"
          }
        },
        "98630bb024b84a04948606ced359142b": {
          "model_module": "@jupyter-widgets/base",
          "model_name": "LayoutModel",
          "model_module_version": "1.2.0",
          "state": {
            "_model_module": "@jupyter-widgets/base",
            "_model_module_version": "1.2.0",
            "_model_name": "LayoutModel",
            "_view_count": null,
            "_view_module": "@jupyter-widgets/base",
            "_view_module_version": "1.2.0",
            "_view_name": "LayoutView",
            "align_content": null,
            "align_items": null,
            "align_self": null,
            "border": null,
            "bottom": null,
            "display": null,
            "flex": null,
            "flex_flow": null,
            "grid_area": null,
            "grid_auto_columns": null,
            "grid_auto_flow": null,
            "grid_auto_rows": null,
            "grid_column": null,
            "grid_gap": null,
            "grid_row": null,
            "grid_template_areas": null,
            "grid_template_columns": null,
            "grid_template_rows": null,
            "height": null,
            "justify_content": null,
            "justify_items": null,
            "left": null,
            "margin": null,
            "max_height": null,
            "max_width": null,
            "min_height": null,
            "min_width": null,
            "object_fit": null,
            "object_position": null,
            "order": null,
            "overflow": null,
            "overflow_x": null,
            "overflow_y": null,
            "padding": null,
            "right": null,
            "top": null,
            "visibility": null,
            "width": "500px"
          }
        },
        "4f0dfa6415d04eaab6686db723a3b4af": {
          "model_module": "@jupyter-widgets/controls",
          "model_name": "DescriptionStyleModel",
          "model_module_version": "1.5.0",
          "state": {
            "_model_module": "@jupyter-widgets/controls",
            "_model_module_version": "1.5.0",
            "_model_name": "DescriptionStyleModel",
            "_view_count": null,
            "_view_module": "@jupyter-widgets/base",
            "_view_module_version": "1.2.0",
            "_view_name": "StyleView",
            "description_width": ""
          }
        },
        "be5d76c580ad4b298b5b97d61975b69a": {
          "model_module": "@jupyter-widgets/controls",
          "model_name": "TextModel",
          "model_module_version": "1.5.0",
          "state": {
            "_dom_classes": [],
            "_model_module": "@jupyter-widgets/controls",
            "_model_module_version": "1.5.0",
            "_model_name": "TextModel",
            "_view_count": null,
            "_view_module": "@jupyter-widgets/controls",
            "_view_module_version": "1.5.0",
            "_view_name": "TextView",
            "continuous_update": true,
            "description": "Name:",
            "description_tooltip": null,
            "disabled": false,
            "layout": "IPY_MODEL_59f27aa794a844978c2b55b842abaeb0",
            "placeholder": "​",
            "style": "IPY_MODEL_f2ca38953e044b538632751c746245fd",
            "value": "nathan trostianitser"
          }
        },
        "59f27aa794a844978c2b55b842abaeb0": {
          "model_module": "@jupyter-widgets/base",
          "model_name": "LayoutModel",
          "model_module_version": "1.2.0",
          "state": {
            "_model_module": "@jupyter-widgets/base",
            "_model_module_version": "1.2.0",
            "_model_name": "LayoutModel",
            "_view_count": null,
            "_view_module": "@jupyter-widgets/base",
            "_view_module_version": "1.2.0",
            "_view_name": "LayoutView",
            "align_content": null,
            "align_items": null,
            "align_self": null,
            "border": null,
            "bottom": null,
            "display": null,
            "flex": null,
            "flex_flow": null,
            "grid_area": null,
            "grid_auto_columns": null,
            "grid_auto_flow": null,
            "grid_auto_rows": null,
            "grid_column": null,
            "grid_gap": null,
            "grid_row": null,
            "grid_template_areas": null,
            "grid_template_columns": null,
            "grid_template_rows": null,
            "height": null,
            "justify_content": null,
            "justify_items": null,
            "left": null,
            "margin": null,
            "max_height": null,
            "max_width": null,
            "min_height": null,
            "min_width": null,
            "object_fit": null,
            "object_position": null,
            "order": null,
            "overflow": null,
            "overflow_x": null,
            "overflow_y": null,
            "padding": null,
            "right": null,
            "top": null,
            "visibility": null,
            "width": "500px"
          }
        },
        "f2ca38953e044b538632751c746245fd": {
          "model_module": "@jupyter-widgets/controls",
          "model_name": "DescriptionStyleModel",
          "model_module_version": "1.5.0",
          "state": {
            "_model_module": "@jupyter-widgets/controls",
            "_model_module_version": "1.5.0",
            "_model_name": "DescriptionStyleModel",
            "_view_count": null,
            "_view_module": "@jupyter-widgets/base",
            "_view_module_version": "1.2.0",
            "_view_name": "StyleView",
            "description_width": ""
          }
        },
        "c9431fe7a92d4e5e92dc793a36bf7008": {
          "model_module": "@jupyter-widgets/controls",
          "model_name": "TextModel",
          "model_module_version": "1.5.0",
          "state": {
            "_dom_classes": [],
            "_model_module": "@jupyter-widgets/controls",
            "_model_module_version": "1.5.0",
            "_model_name": "TextModel",
            "_view_count": null,
            "_view_module": "@jupyter-widgets/controls",
            "_view_module_version": "1.5.0",
            "_view_name": "TextView",
            "continuous_update": true,
            "description": "Link:",
            "description_tooltip": null,
            "disabled": false,
            "layout": "IPY_MODEL_9c2ee9d704c7475c8b1c5683a6a05806",
            "placeholder": "​",
            "style": "IPY_MODEL_fc7769cc6db14bc7bd31ff1d4b878c72",
            "value": "https://deepnight.itch.io/tabletop-rpg-map-editor"
          }
        },
        "9c2ee9d704c7475c8b1c5683a6a05806": {
          "model_module": "@jupyter-widgets/base",
          "model_name": "LayoutModel",
          "model_module_version": "1.2.0",
          "state": {
            "_model_module": "@jupyter-widgets/base",
            "_model_module_version": "1.2.0",
            "_model_name": "LayoutModel",
            "_view_count": null,
            "_view_module": "@jupyter-widgets/base",
            "_view_module_version": "1.2.0",
            "_view_name": "LayoutView",
            "align_content": null,
            "align_items": null,
            "align_self": null,
            "border": null,
            "bottom": null,
            "display": null,
            "flex": null,
            "flex_flow": null,
            "grid_area": null,
            "grid_auto_columns": null,
            "grid_auto_flow": null,
            "grid_auto_rows": null,
            "grid_column": null,
            "grid_gap": null,
            "grid_row": null,
            "grid_template_areas": null,
            "grid_template_columns": null,
            "grid_template_rows": null,
            "height": null,
            "justify_content": null,
            "justify_items": null,
            "left": null,
            "margin": null,
            "max_height": null,
            "max_width": null,
            "min_height": null,
            "min_width": null,
            "object_fit": null,
            "object_position": null,
            "order": null,
            "overflow": null,
            "overflow_x": null,
            "overflow_y": null,
            "padding": null,
            "right": null,
            "top": null,
            "visibility": null,
            "width": "500px"
          }
        },
        "fc7769cc6db14bc7bd31ff1d4b878c72": {
          "model_module": "@jupyter-widgets/controls",
          "model_name": "DescriptionStyleModel",
          "model_module_version": "1.5.0",
          "state": {
            "_model_module": "@jupyter-widgets/controls",
            "_model_module_version": "1.5.0",
            "_model_name": "DescriptionStyleModel",
            "_view_count": null,
            "_view_module": "@jupyter-widgets/base",
            "_view_module_version": "1.2.0",
            "_view_name": "StyleView",
            "description_width": ""
          }
        },
        "28c83b68241e4523afa2649f6708e4b8": {
          "model_module": "@jupyter-widgets/controls",
          "model_name": "TextModel",
          "model_module_version": "1.5.0",
          "state": {
            "_dom_classes": [],
            "_model_module": "@jupyter-widgets/controls",
            "_model_module_version": "1.5.0",
            "_model_name": "TextModel",
            "_view_count": null,
            "_view_module": "@jupyter-widgets/controls",
            "_view_module_version": "1.5.0",
            "_view_name": "TextView",
            "continuous_update": true,
            "description": "Favorite TV Show:",
            "description_tooltip": null,
            "disabled": false,
            "layout": "IPY_MODEL_4c627315129142ce87c45fe309cff111",
            "placeholder": "​",
            "style": "IPY_MODEL_6eeb400d09514f449a7f5df309b0c597",
            "value": "tomer"
          }
        },
        "4c627315129142ce87c45fe309cff111": {
          "model_module": "@jupyter-widgets/base",
          "model_name": "LayoutModel",
          "model_module_version": "1.2.0",
          "state": {
            "_model_module": "@jupyter-widgets/base",
            "_model_module_version": "1.2.0",
            "_model_name": "LayoutModel",
            "_view_count": null,
            "_view_module": "@jupyter-widgets/base",
            "_view_module_version": "1.2.0",
            "_view_name": "LayoutView",
            "align_content": null,
            "align_items": null,
            "align_self": null,
            "border": null,
            "bottom": null,
            "display": null,
            "flex": null,
            "flex_flow": null,
            "grid_area": null,
            "grid_auto_columns": null,
            "grid_auto_flow": null,
            "grid_auto_rows": null,
            "grid_column": null,
            "grid_gap": null,
            "grid_row": null,
            "grid_template_areas": null,
            "grid_template_columns": null,
            "grid_template_rows": null,
            "height": null,
            "justify_content": null,
            "justify_items": null,
            "left": null,
            "margin": null,
            "max_height": null,
            "max_width": null,
            "min_height": null,
            "min_width": null,
            "object_fit": null,
            "object_position": null,
            "order": null,
            "overflow": null,
            "overflow_x": null,
            "overflow_y": null,
            "padding": null,
            "right": null,
            "top": null,
            "visibility": null,
            "width": "500px"
          }
        },
        "6eeb400d09514f449a7f5df309b0c597": {
          "model_module": "@jupyter-widgets/controls",
          "model_name": "DescriptionStyleModel",
          "model_module_version": "1.5.0",
          "state": {
            "_model_module": "@jupyter-widgets/controls",
            "_model_module_version": "1.5.0",
            "_model_name": "DescriptionStyleModel",
            "_view_count": null,
            "_view_module": "@jupyter-widgets/base",
            "_view_module_version": "1.2.0",
            "_view_name": "StyleView",
            "description_width": ""
          }
        },
        "7a006c1ba53f46bc882f60313bf602d1": {
          "model_module": "@jupyter-widgets/controls",
          "model_name": "ButtonModel",
          "model_module_version": "1.5.0",
          "state": {
            "_dom_classes": [],
            "_model_module": "@jupyter-widgets/controls",
            "_model_module_version": "1.5.0",
            "_model_name": "ButtonModel",
            "_view_count": null,
            "_view_module": "@jupyter-widgets/controls",
            "_view_module_version": "1.5.0",
            "_view_name": "ButtonView",
            "button_style": "",
            "description": "Submit",
            "disabled": false,
            "icon": "",
            "layout": "IPY_MODEL_bb27f90a8ea2447eb91f021e8775ec88",
            "style": "IPY_MODEL_950458412ed540a1a9e8c55b5470557f",
            "tooltip": ""
          }
        },
        "bb27f90a8ea2447eb91f021e8775ec88": {
          "model_module": "@jupyter-widgets/base",
          "model_name": "LayoutModel",
          "model_module_version": "1.2.0",
          "state": {
            "_model_module": "@jupyter-widgets/base",
            "_model_module_version": "1.2.0",
            "_model_name": "LayoutModel",
            "_view_count": null,
            "_view_module": "@jupyter-widgets/base",
            "_view_module_version": "1.2.0",
            "_view_name": "LayoutView",
            "align_content": null,
            "align_items": null,
            "align_self": null,
            "border": null,
            "bottom": null,
            "display": null,
            "flex": null,
            "flex_flow": null,
            "grid_area": null,
            "grid_auto_columns": null,
            "grid_auto_flow": null,
            "grid_auto_rows": null,
            "grid_column": null,
            "grid_gap": null,
            "grid_row": null,
            "grid_template_areas": null,
            "grid_template_columns": null,
            "grid_template_rows": null,
            "height": null,
            "justify_content": null,
            "justify_items": null,
            "left": null,
            "margin": null,
            "max_height": null,
            "max_width": null,
            "min_height": null,
            "min_width": null,
            "object_fit": null,
            "object_position": null,
            "order": null,
            "overflow": null,
            "overflow_x": null,
            "overflow_y": null,
            "padding": null,
            "right": null,
            "top": null,
            "visibility": null,
            "width": null
          }
        },
        "950458412ed540a1a9e8c55b5470557f": {
          "model_module": "@jupyter-widgets/controls",
          "model_name": "ButtonStyleModel",
          "model_module_version": "1.5.0",
          "state": {
            "_model_module": "@jupyter-widgets/controls",
            "_model_module_version": "1.5.0",
            "_model_name": "ButtonStyleModel",
            "_view_count": null,
            "_view_module": "@jupyter-widgets/base",
            "_view_module_version": "1.2.0",
            "_view_name": "StyleView",
            "button_color": null,
            "font_weight": ""
          }
        }
      }
    }
  },
  "cells": [
    {
      "cell_type": "code",
      "source": [
        "from google.colab import drive\n",
        "drive.mount('/content/drive')"
      ],
      "metadata": {
        "colab": {
          "base_uri": "https://localhost:8080/"
        },
        "collapsed": true,
        "id": "s7-7BfNZTs20",
        "outputId": "133c83c1-6c01-411f-e939-a1355d776e67"
      },
      "execution_count": null,
      "outputs": [
        {
          "output_type": "stream",
          "name": "stdout",
          "text": [
            "Drive already mounted at /content/drive; to attempt to forcibly remount, call drive.mount(\"/content/drive\", force_remount=True).\n"
          ]
        }
      ]
    },
    {
      "cell_type": "code",
      "source": [
        "import ipywidgets as widgets\n",
        "from IPython.display import display"
      ],
      "metadata": {
        "id": "r1a1E5Joc2fT"
      },
      "execution_count": null,
      "outputs": []
    },
    {
      "cell_type": "code",
      "source": [
        "#global variables\n",
        "students = []\n",
        "studName = []\n",
        "i = 0\n",
        "studentID = 0\n",
        "\n",
        "#reads the students into the student list from the file\n",
        "with open('/content/drive/MyDrive/Cloud-Computing/studentsTest.txt', 'r') as file:\n",
        "  contents = file.read()\n",
        "  contents = contents.split('\\n')\n",
        "  print(contents)\n",
        "  for line in contents:\n",
        "    students.append(line.split(';'))\n",
        "#creates an array for the student name and the identifying index\n",
        "for student in students:\n",
        "  studName.append((student[0] + ' ' + student[1], i))\n",
        "  i += 1"
      ],
      "metadata": {
        "id": "naT8zZRCV7bH",
        "colab": {
          "base_uri": "https://localhost:8080/"
        },
        "outputId": "6b28f18a-aeeb-42ed-f7ac-8aa7fb7041cb"
      },
      "execution_count": null,
      "outputs": [
        {
          "output_type": "stream",
          "name": "stdout",
          "text": [
            "['ishay;yulzary;ishay.yulzary@e.braude.ac.il;Cloud computing,Advanced web systems,Data Mining and Machine Learning;https://www.youtube.com/watch?v=dQw4w9WgXcQ', 'nathan;trostianitser;natan.trostianitser@e.braude.ac.il;Cloud computing, Advanced web systems, Data Mining and Machine Learning;https://deepnight.itch.io/tabletop-rpg-map-editor', 'bob;bobinson;bob.bobinson@e.braude.ac.il;Cloud computing,Advanced web systems,Data Mining and Machine Learning;https://tybayn.github.io/phasmo-cheat-sheet/']\n"
          ]
        }
      ]
    },
    {
      "cell_type": "code",
      "source": [
        "#student form skeleton\n",
        "comboBox = widgets.Dropdown(options = studName, value = 0, description = 'Student:')\n",
        "\n",
        "#defines the name box\n",
        "nameBox = widgets.Text(description = 'Name:')\n",
        "nameBox.layout.width = '500px'\n",
        "\n",
        "#define the mail box\n",
        "mailBox = widgets.Text(description = 'Email:')\n",
        "mailBox.layout.width = '500px'\n",
        "\n",
        "#define the courses box\n",
        "coursesBox = widgets.Text(description = 'Courses:')\n",
        "coursesBox.layout.width = '500px'\n",
        "\n",
        "#define the interesting link box\n",
        "interestingLinkBox = widgets.Text(description = 'Link:')\n",
        "interestingLinkBox.layout.width = '500px'\n",
        "\n",
        "#defines the favorite TV show\n",
        "favoriteTVBox = widgets.Text(description = 'Favorite TV Show:')\n",
        "favoriteTVBox.layout.width = '500px'\n",
        "\n",
        "#creates a button\n",
        "button = widgets.Button(description = 'Submit')"
      ],
      "metadata": {
        "id": "glfSOhU1YgJP"
      },
      "execution_count": null,
      "outputs": []
    },
    {
      "cell_type": "code",
      "source": [
        "# a logic block for data proccessing\n",
        "def onChange(change):\n",
        "  studentID = comboBox.value\n",
        "  nameBox.value = students[studentID][0] + ' ' + students[studentID][1]\n",
        "  mailBox.value = students[studentID][2]\n",
        "  coursesBox.value = students[studentID][3]\n",
        "  interestingLinkBox.value = students[studentID][4]\n",
        "\n",
        "def updateFile(change):\n",
        "  #print(students)\n",
        "  studentID = comboBox.value\n",
        "  students[studentID][0] = nameBox.value.split(' ')[0]\n",
        "  students[studentID][1] = nameBox.value.split(' ')[1]\n",
        "  students[studentID][2] = mailBox.value\n",
        "  students[studentID][3] = coursesBox.value\n",
        "  students[studentID][4] = interestingLinkBox.value\n",
        "  if(len(students[studentID])==6):\n",
        "    students[studentID][5] = favoriteTVBox.value\n",
        "  else:\n",
        "    students[studentID].append(favoriteTVBox.value)\n",
        "\n",
        "  with open('/content/drive/MyDrive/Cloud-Computing/studentsTest.txt', 'w') as file:\n",
        "    tempstr = \"\"\n",
        "    for student in students:\n",
        "      if(len(student)==6):\n",
        "        tempstr += student[0] + ';' + student[1] + ';' + student[2] + ';' + student[3] + ';' + student[4] + ';' + student[5]+'\\n'\n",
        "      else:\n",
        "        tempstr += student[0] + ';' + student[1] + ';' + student[2] + ';' + student[3] + ';' + student[4] + '\\n'\n",
        "    #tempstr +=\"\"\n",
        "    file.write(tempstr)\n",
        "\n",
        "comboBox.observe(onChange, names='value')\n",
        "button.on_click(updateFile)"
      ],
      "metadata": {
        "id": "3F_IOJzsjR1r"
      },
      "execution_count": null,
      "outputs": []
    },
    {
      "cell_type": "code",
      "source": [
        "#display the graphic elements\n",
        "display(comboBox)\n",
        "display(mailBox)\n",
        "display(coursesBox)\n",
        "display(nameBox)\n",
        "display(interestingLinkBox)\n",
        "display(favoriteTVBox)\n",
        "display(button)"
      ],
      "metadata": {
        "id": "Q4c66s3wjLk2",
        "colab": {
          "base_uri": "https://localhost:8080/",
          "height": 390,
          "referenced_widgets": [
            "d005a71526564348bd29f7923587ee69",
            "04b8ae2e23d943179aa5e76298a50b5c",
            "601b2ee2986b4917b450d661d2bf1f29",
            "fdb0ee2a12e644a3a66d8057b2a4945b",
            "c382b97411c84adbb1f22cc139c94692",
            "fb9e1b4168f4462f867587a163fa2bd3",
            "e1b20f9789f64720b26b1c86f36716a7",
            "98630bb024b84a04948606ced359142b",
            "4f0dfa6415d04eaab6686db723a3b4af",
            "be5d76c580ad4b298b5b97d61975b69a",
            "59f27aa794a844978c2b55b842abaeb0",
            "f2ca38953e044b538632751c746245fd",
            "c9431fe7a92d4e5e92dc793a36bf7008",
            "9c2ee9d704c7475c8b1c5683a6a05806",
            "fc7769cc6db14bc7bd31ff1d4b878c72",
            "28c83b68241e4523afa2649f6708e4b8",
            "4c627315129142ce87c45fe309cff111",
            "6eeb400d09514f449a7f5df309b0c597",
            "7a006c1ba53f46bc882f60313bf602d1",
            "bb27f90a8ea2447eb91f021e8775ec88",
            "950458412ed540a1a9e8c55b5470557f"
          ]
        },
        "outputId": "503e061d-ed23-4169-e7bd-ba7be6f3c160"
      },
      "execution_count": null,
      "outputs": [
        {
          "output_type": "display_data",
          "data": {
            "text/plain": [
              "Dropdown(description='Student:', options=(('ishay yulzary', 0), ('nathan trostianitser', 1), ('bob bobinson', …"
            ],
            "application/vnd.jupyter.widget-view+json": {
              "version_major": 2,
              "version_minor": 0,
              "model_id": "d005a71526564348bd29f7923587ee69"
            }
          },
          "metadata": {}
        },
        {
          "output_type": "display_data",
          "data": {
            "text/plain": [
              "Text(value='', description='Email:', layout=Layout(width='500px'))"
            ],
            "application/vnd.jupyter.widget-view+json": {
              "version_major": 2,
              "version_minor": 0,
              "model_id": "fdb0ee2a12e644a3a66d8057b2a4945b"
            }
          },
          "metadata": {}
        },
        {
          "output_type": "display_data",
          "data": {
            "text/plain": [
              "Text(value='', description='Courses:', layout=Layout(width='500px'))"
            ],
            "application/vnd.jupyter.widget-view+json": {
              "version_major": 2,
              "version_minor": 0,
              "model_id": "e1b20f9789f64720b26b1c86f36716a7"
            }
          },
          "metadata": {}
        },
        {
          "output_type": "display_data",
          "data": {
            "text/plain": [
              "Text(value='', description='Name:', layout=Layout(width='500px'))"
            ],
            "application/vnd.jupyter.widget-view+json": {
              "version_major": 2,
              "version_minor": 0,
              "model_id": "be5d76c580ad4b298b5b97d61975b69a"
            }
          },
          "metadata": {}
        },
        {
          "output_type": "display_data",
          "data": {
            "text/plain": [
              "Text(value='', description='Link:', layout=Layout(width='500px'))"
            ],
            "application/vnd.jupyter.widget-view+json": {
              "version_major": 2,
              "version_minor": 0,
              "model_id": "c9431fe7a92d4e5e92dc793a36bf7008"
            }
          },
          "metadata": {}
        },
        {
          "output_type": "display_data",
          "data": {
            "text/plain": [
              "Text(value='', description='Favorite TV Show:', layout=Layout(width='500px'))"
            ],
            "application/vnd.jupyter.widget-view+json": {
              "version_major": 2,
              "version_minor": 0,
              "model_id": "28c83b68241e4523afa2649f6708e4b8"
            }
          },
          "metadata": {}
        },
        {
          "output_type": "display_data",
          "data": {
            "text/plain": [
              "Button(description='Submit', style=ButtonStyle())"
            ],
            "application/vnd.jupyter.widget-view+json": {
              "version_major": 2,
              "version_minor": 0,
              "model_id": "7a006c1ba53f46bc882f60313bf602d1"
            }
          },
          "metadata": {}
        },
        {
          "output_type": "stream",
          "name": "stdout",
          "text": [
            "ishay;yulzary;ishay.yulzary@e.braude.ac.il;Cloud computing,Advanced web systems,Data Mining and Machine Learning;https://www.youtube.com/watch?v=dQw4w9WgXcQ\n",
            "nathan;trostianitser;natan.trostianitser@e.braude.ac.il;Cloud computing, Advanced web systems, Data Mining and Machine Learning;https://deepnight.itch.io/tabletop-rpg-map-editor;bob\n",
            "bob;bobinson;bob.bobinson@e.braude.ac.il;Cloud computing,Advanced web systems,Data Mining and Machine Learning;https://tybayn.github.io/phasmo-cheat-sheet/\n",
            "\n",
            "ishay;yulzary;ishay.yulzary@e.braude.ac.il;Cloud computing,Advanced web systems,Data Mining and Machine Learning;https://www.youtube.com/watch?v=dQw4w9WgXcQ\n",
            "nathan;trostianitser;natan.trostianitser@e.braude.ac.il;Cloud computing, Advanced web systems, Data Mining and Machine Learning;https://deepnight.itch.io/tabletop-rpg-map-editor;tomer\n",
            "bob;bobinson;bob.bobinson@e.braude.ac.il;Cloud computing,Advanced web systems,Data Mining and Machine Learning;https://tybayn.github.io/phasmo-cheat-sheet/\n",
            "\n"
          ]
        }
      ]
    }
  ]
}