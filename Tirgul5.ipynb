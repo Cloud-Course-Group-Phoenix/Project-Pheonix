{
  "cells": [
    {
      "cell_type": "markdown",
      "metadata": {
        "id": "view-in-github",
        "colab_type": "text"
      },
      "source": [
        "<a href=\"https://colab.research.google.com/github/Cloud-Course-Group-Phoenix/Project-Pheonix/blob/Or_Gilad_tirgul/Tirgul5.ipynb\" target=\"_parent\"><img src=\"https://colab.research.google.com/assets/colab-badge.svg\" alt=\"Open In Colab\"/></a>"
      ]
    },
    {
      "cell_type": "code",
      "source": [
        "DBLink = \"ENTER YOUR DB LINK\""
      ],
      "metadata": {
        "id": "2_sbFeS88THN"
      },
      "execution_count": 2,
      "outputs": []
    },
    {
      "cell_type": "code",
      "execution_count": null,
      "metadata": {
        "id": "BRwwE0iP8CbY"
      },
      "outputs": [],
      "source": [
        "!pip install firebase\n"
      ]
    },
    {
      "cell_type": "code",
      "execution_count": null,
      "metadata": {
        "id": "3p83gtmTmxjY"
      },
      "outputs": [],
      "source": [
        "from firebase import firebase\n",
        "\n",
        "# Initialize Firebase connection\n",
        "FBconn = firebase.FirebaseApplication(DBLink, None)\n",
        "\n",
        "def get_all_words():\n",
        "    \"\"\"Retrieve all words\"\"\"\n",
        "    return FBconn.get('/WordBag/', None)\n",
        "\n",
        "def update_word(word, new_count):\n",
        "    \"\"\"Update an existing word\"\"\"\n",
        "    return FBconn.put('/WordBag/' + word, 'count', new_count)\n",
        "\n",
        "def delete_word(word):\n",
        "    \"\"\"Delete a word\"\"\"\n",
        "    return FBconn.delete('/WordBag/', word)\n",
        "\n",
        "def display_words():\n",
        "    \"\"\"Display all words\"\"\"\n",
        "    words = get_all_words()\n",
        "    if words:\n",
        "        print(\"\\nCurrent words in DB:\")\n",
        "        for word in words:\n",
        "            print(f\"Word: {word}, Count: {words[word]['count']}\")\n",
        "    else:\n",
        "        print(\"\\nNo records found\")\n",
        "\n",
        "def add_word(records, word):\n",
        "    if records and word in records:\n",
        "          #+1 to the counter\n",
        "          data_to_upload = {\n",
        "              'count': records[word]['count'] + 1\n",
        "          }\n",
        "          result = FBconn.put('/WordBag/', word ,data_to_upload)\n",
        "    else: # Word was added for the first time\n",
        "          try:\n",
        "            data_to_upload = {\n",
        "                'count': 1\n",
        "            }\n",
        "            result = FBconn.put('/WordBag/', word ,data_to_upload)\n",
        "            print(f\"The word: {word} was added successfully\")\n",
        "          except ValueError:\n",
        "            print(\"Error\")\n",
        "\n",
        "while True:\n",
        "    print(\"\\nWord Bag Menu:\")\n",
        "    print(\"1. Add single Word\")\n",
        "    print(\"2. Add text for analysis\")\n",
        "    print(\"3. Update word count\")\n",
        "    print(\"4. Delete word\")\n",
        "    print(\"5. View all words\")\n",
        "    print(\"6. Exit\")\n",
        "\n",
        "    choice = input(\"\\nEnter your choice (1-5): \")\n",
        "\n",
        "    if choice == '1':\n",
        "        # Add a new Word\n",
        "        word = input(\"Enter a word to enter the DB \")\n",
        "        words = get_all_words()\n",
        "        add_word(words, word)\n",
        "\n",
        "    elif choice == '2':\n",
        "        # Add text for analysis\n",
        "        text = input(\"Enter text to add: \")\n",
        "        splited_text = text.split()\n",
        "        words = get_all_words()\n",
        "        for word in splited_text:\n",
        "            add_word(words, word)\n",
        "\n",
        "    elif choice == '3':\n",
        "        # Update words and count\n",
        "        display_words()\n",
        "        word = input(\"\\nEnter the word to update: \")\n",
        "        try:\n",
        "            new_count = int(input(\"Enter the new count: \"))\n",
        "            result = update_word(word, new_count)\n",
        "            if result:\n",
        "                print(\"Word count was updated successfully!\")\n",
        "            else:\n",
        "                print(\"Failed to update word count.\")\n",
        "        except ValueError:\n",
        "            print(\"Please enter a valid word count\")\n",
        "\n",
        "    elif choice == '4':\n",
        "        # Delete word\n",
        "        display_words()\n",
        "        word = input(\"\\nEnter the word to delete: \")\n",
        "        result = delete_word(word)\n",
        "        if result is None:\n",
        "            print(\"Word was deleted successfully!\")\n",
        "        else:\n",
        "            print(\"Failed to delete word.\")\n",
        "\n",
        "    elif choice == '5':\n",
        "        # View all records\n",
        "        display_words()\n",
        "\n",
        "    elif choice == '6':\n",
        "        print(\"Exiting program...\")\n",
        "        break\n",
        "\n",
        "    else:\n",
        "        print(\"Invalid choice. Please try again.\")\n"
      ]
    },
    {
      "cell_type": "code",
      "execution_count": null,
      "metadata": {
        "id": "2bjm3SEh8A4x"
      },
      "outputs": [],
      "source": []
    }
  ],
  "metadata": {
    "colab": {
      "provenance": [],
      "include_colab_link": true
    },
    "kernelspec": {
      "display_name": "Python 3",
      "name": "python3"
    },
    "language_info": {
      "name": "python"
    }
  },
  "nbformat": 4,
  "nbformat_minor": 0
}