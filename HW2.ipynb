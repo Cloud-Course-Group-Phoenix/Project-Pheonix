{
  "nbformat": 4,
  "nbformat_minor": 0,
  "metadata": {
    "colab": {
      "provenance": [],
      "include_colab_link": true
    },
    "kernelspec": {
      "name": "python3",
      "display_name": "Python 3"
    },
    "language_info": {
      "name": "python"
    }
  },
  "cells": [
    {
      "cell_type": "markdown",
      "metadata": {
        "id": "view-in-github",
        "colab_type": "text"
      },
      "source": [
        "<a href=\"https://colab.research.google.com/github/Cloud-Course-Group-Phoenix/Project-Pheonix/blob/main/HW2.ipynb\" target=\"_parent\"><img src=\"https://colab.research.google.com/assets/colab-badge.svg\" alt=\"Open In Colab\"/></a>"
      ]
    },
    {
      "cell_type": "markdown",
      "source": [
        "# Imports and Package installations"
      ],
      "metadata": {
        "id": "dcnWzreI_3vK"
      }
    },
    {
      "cell_type": "code",
      "source": [
        "# pip installs\n",
        "!pip install firebase\n",
        "!pip install gradio\n",
        "!pip install paho-mqtt\n",
        "\n",
        "#================================= make sure all pip installs are above this line ============================================\n",
        "\n",
        "# import to clear the installation code output\n",
        "from IPython.display import clear_output\n",
        "clear_output()"
      ],
      "metadata": {
        "id": "jVQsBoLZs6zd"
      },
      "execution_count": 38,
      "outputs": []
    },
    {
      "cell_type": "code",
      "source": [
        "#imports\n",
        "import gradio as gr\n",
        "import json\n",
        "import time\n",
        "from firebase import firebase\n",
        "import paho.mqtt.client as mqtt\n",
        "import requests\n",
        "import re\n",
        "from bs4 import BeautifulSoup\n",
        "from urllib.parse import urljoin\n",
        "from urllib.parse import urljoin, urlparse\n",
        "import nltk\n",
        "from nltk.stem import PorterStemmer\n",
        "from nltk.corpus import stopwords\n",
        "from datetime import datetime\n",
        "import plotly.graph_objects as go\n",
        "import pandas as pd\n",
        "import requests\n",
        "nltk.download('stopwords')"
      ],
      "metadata": {
        "id": "stAxnFFt27_y",
        "colab": {
          "base_uri": "https://localhost:8080/"
        },
        "outputId": "84f2962f-8297-48cd-a05a-31be117bf0f3"
      },
      "execution_count": 53,
      "outputs": [
        {
          "output_type": "stream",
          "name": "stderr",
          "text": [
            "[nltk_data] Downloading package stopwords to /root/nltk_data...\n",
            "[nltk_data]   Package stopwords is already up-to-date!\n"
          ]
        },
        {
          "output_type": "execute_result",
          "data": {
            "text/plain": [
              "True"
            ]
          },
          "metadata": {},
          "execution_count": 53
        }
      ]
    },
    {
      "cell_type": "code",
      "source": [
        "#DBLink = \"https://wordbank-c75f1-default-rtdb.firebaseio.com/\"\n",
        "DBLink = \"https://alexaanddaniel-c1413-default-rtdb.firebaseio.com/\"\n"
      ],
      "metadata": {
        "id": "jg6v4N0MSpnc"
      },
      "execution_count": 40,
      "outputs": []
    },
    {
      "cell_type": "markdown",
      "source": [
        "# Index"
      ],
      "metadata": {
        "id": "IHJCMr7qrwDZ"
      }
    },
    {
      "cell_type": "code",
      "source": [
        "class DbService:\n",
        "    def __init__(self,Dblink):\n",
        "        self.dbLink= Dblink\n",
        "\n",
        "    def insert_to_db(self,results):\n",
        "        FBconn = firebase.FirebaseApplication(self.dbLink,None)\n",
        "        FBconn.put('/','terms',results)\n",
        "\n",
        "    def get_from_db(self):\n",
        "        FBconn = firebase.FirebaseApplication(self.dbLink,None)\n",
        "        results = FBconn.get('/','terms')\n",
        "        return results\n",
        "\n",
        "\n",
        "class QueryService:\n",
        "    def __init__(self,url):\n",
        "        self.url = url\n",
        "\n",
        "    def fetch_page(self):\n",
        "        response = requests.get(self.url)\n",
        "        if response.status_code == 200:\n",
        "            soup = BeautifulSoup(response.text, 'html.parser')\n",
        "            return soup\n",
        "        else:\n",
        "            return None\n",
        "\n",
        "    def index_words(self, soup, index = {}, url = ''):\n",
        "        words = re.findall(r'\\w+', soup.get_text())\n",
        "        for word in words:\n",
        "            word = word.lower()\n",
        "            if word in index:\n",
        "                index[word][\"Appearences\"] += 1\n",
        "                # Add URL to docid if it's not already there\n",
        "                if url and url not in index[word][\"DocIDs\"]:\n",
        "                    index[word][\"DocIDs\"].append(url)\n",
        "            else:\n",
        "                # Initialize with count and docid list containing the current URL\n",
        "                index[word] = {\"Appearences\": 1, \"DocIDs\": [url] if url else []}\n",
        "\n",
        "        return index\n",
        "\n",
        "    def remove_stop_words(self,index):\n",
        "      stop_words = set(stopwords.words('english'))\n",
        "      for stop_word in stop_words:\n",
        "        if stop_word in index:\n",
        "          del index[stop_word]\n",
        "      return index\n",
        "\n",
        "class Crawler:\n",
        "  def __init__(self, url):\n",
        "    self.url = url\n",
        "\n",
        "  #Fetches all sub urls from a given url\n",
        "  def get_sub_urls(self, url):\n",
        "    sub_urls = []\n",
        "    stack = [url]\n",
        "    while stack:\n",
        "      url = stack.pop()\n",
        "      response = requests.get(url)\n",
        "      response.raise_for_status()  # Raise an exception for bad responses\n",
        "      soup = BeautifulSoup(response.content, 'html.parser')\n",
        "      for link in soup.find_all('a', href=True):\n",
        "          href = link['href']\n",
        "          absolute_url = urljoin(url, href)  # Make URL absolute\n",
        "\n",
        "          if (absolute_url.startswith(url)) and (absolute_url != url) and (absolute_url not in sub_urls):\n",
        "              sub_urls.append(absolute_url)\n",
        "              stack.append(absolute_url)\n",
        "\n",
        "    return sub_urls\n",
        "\n",
        "\n",
        "\n",
        "def main():\n",
        "  try:\n",
        "    dbService = DbService(DBLink)\n",
        "    url = \"https://mqtt.org/\"\n",
        "    crawler = Crawler(url)\n",
        "    sub_urls = crawler.get_sub_urls(url)\n",
        "    index = {}\n",
        "    for sub_url in sub_urls:\n",
        "      queryService = QueryService(sub_url)\n",
        "      soup = queryService.fetch_page()\n",
        "      index = queryService.index_words(soup, index, sub_url)\n",
        "      index = queryService.remove_stop_words(index)\n",
        "    dbService.insert_to_db(index)\n",
        "    return\n",
        "  except Exception as e:\n",
        "            return f\"Error during indexing: {str(e)}\"\n",
        "\n",
        "\n",
        "if __name__ == '__main__':\n",
        "  main()"
      ],
      "metadata": {
        "id": "tu4wr_EOr5Si"
      },
      "execution_count": 41,
      "outputs": []
    },
    {
      "cell_type": "markdown",
      "source": [
        "# Login UI"
      ],
      "metadata": {
        "id": "DVvD8LBuLk8H"
      }
    },
    {
      "cell_type": "code",
      "source": [
        "def login(username, password):\n",
        "    if not username or not password:\n",
        "        return \"❌ Please fill in all fields.\"\n",
        "\n",
        "    user_url = f\"{DBLink}/users/{username}.json\"\n",
        "    response = requests.get(user_url)\n",
        "\n",
        "    if response.status_code != 200 or response.json() is None:\n",
        "        return \"❌ Invalid username or password.\"\n",
        "\n",
        "    user_data = response.json()\n",
        "    if user_data[\"password\"] != password:\n",
        "        return \"❌ Invalid username or password.\"\n",
        "\n",
        "    if user_data.get(\"is_admin\"):\n",
        "        return f\"✅ Welcome Admin {username}!\"\n",
        "    else:\n",
        "        return f\"✅ Welcome {username}!\"\n",
        "\n",
        "def create_login_ui():\n",
        "    with gr.Blocks(title=\"Login\") as login_ui:\n",
        "        gr.Markdown(\"## 🔐 Login\")\n",
        "        with gr.Row():\n",
        "            username = gr.Textbox(label=\"Username\")\n",
        "            password = gr.Textbox(label=\"Password\", type=\"password\")\n",
        "        login_button = gr.Button(\"Login\")\n",
        "        login_output = gr.Textbox(label=\"Login Status\", lines=1)\n",
        "\n",
        "        login_button.click(fn=login, inputs=[username, password], outputs=login_output)\n",
        "\n",
        "    return login_ui\n",
        "\n",
        "login_ui = create_login_ui()\n",
        "login_ui.launch(inline=True)"
      ],
      "metadata": {
        "id": "sxv1R_G8LrJW",
        "outputId": "091b001b-0e76-4aa9-a7bf-208f45f5f693",
        "colab": {
          "base_uri": "https://localhost:8080/",
          "height": 646
        }
      },
      "execution_count": 55,
      "outputs": [
        {
          "output_type": "stream",
          "name": "stdout",
          "text": [
            "It looks like you are running Gradio on a hosted a Jupyter notebook. For the Gradio app to work, sharing must be enabled. Automatically setting `share=True` (you can turn this off by setting `share=False` in `launch()` explicitly).\n",
            "\n",
            "Colab notebook detected. To show errors in colab notebook, set debug=True in launch()\n",
            "* Running on public URL: https://f55890e4a4b709b95b.gradio.live\n",
            "\n",
            "This share link expires in 1 week. For free permanent hosting and GPU upgrades, run `gradio deploy` from the terminal in the working directory to deploy to Hugging Face Spaces (https://huggingface.co/spaces)\n"
          ]
        },
        {
          "output_type": "display_data",
          "data": {
            "text/plain": [
              "<IPython.core.display.HTML object>"
            ],
            "text/html": [
              "<div><iframe src=\"https://f55890e4a4b709b95b.gradio.live\" width=\"100%\" height=\"500\" allow=\"autoplay; camera; microphone; clipboard-read; clipboard-write;\" frameborder=\"0\" allowfullscreen></iframe></div>"
            ]
          },
          "metadata": {}
        },
        {
          "output_type": "execute_result",
          "data": {
            "text/plain": []
          },
          "metadata": {},
          "execution_count": 55
        }
      ]
    },
    {
      "cell_type": "markdown",
      "source": [
        "# Register UI"
      ],
      "metadata": {
        "id": "aXS_OzvRLoTP"
      }
    },
    {
      "cell_type": "code",
      "source": [
        "def register(username, password, confirm_password, is_admin):\n",
        "    if not username or not password:\n",
        "        return \"❌ Please fill in all fields.\"\n",
        "    if password != confirm_password:\n",
        "        return \"❌ Passwords do not match.\"\n",
        "\n",
        "    user_url = f\"{DBLink}/users/{username}.json\"\n",
        "    user_check = requests.get(user_url)\n",
        "\n",
        "    if user_check.status_code == 200 and user_check.json() is not None:\n",
        "        return \"❌ Username already exists.\"\n",
        "\n",
        "    user_data = {\n",
        "        \"password\": password,\n",
        "        \"is_admin\": is_admin\n",
        "    }\n",
        "\n",
        "    save_user = requests.put(user_url, json=user_data)\n",
        "\n",
        "    if save_user.status_code == 200:\n",
        "        return f\"✅ User '{username}' registered successfully!\"\n",
        "    else:\n",
        "        return \"❌ Failed to register. Try again later.\"\n",
        "\n",
        "def create_register_ui():\n",
        "    with gr.Blocks(title=\"Register\") as register_ui:\n",
        "        gr.Markdown(\"## 📝 Register\")\n",
        "\n",
        "        with gr.Row():\n",
        "            username = gr.Textbox(label=\"Choose Username\")\n",
        "            password = gr.Textbox(label=\"Choose Password\", type=\"password\")\n",
        "            confirm_password = gr.Textbox(label=\"Confirm Password\", type=\"password\")\n",
        "\n",
        "        is_admin_checkbox = gr.Checkbox(label=\"Register as Admin\")\n",
        "\n",
        "        register_button = gr.Button(\"Register\")\n",
        "        register_output = gr.Textbox(label=\"Registration Status\", lines=1)\n",
        "\n",
        "        register_button.click(\n",
        "            fn=register,\n",
        "            inputs=[username, password, confirm_password, is_admin_checkbox],\n",
        "            outputs=register_output\n",
        "        )\n",
        "\n",
        "    return register_ui\n",
        "\n",
        "register_ui = create_register_ui()\n",
        "register_ui.launch(inline=True)\n"
      ],
      "metadata": {
        "id": "4fLrsHS-LyDG",
        "outputId": "845e260f-ab64-431d-fe31-23949f1702f7",
        "colab": {
          "base_uri": "https://localhost:8080/",
          "height": 646
        }
      },
      "execution_count": 56,
      "outputs": [
        {
          "output_type": "stream",
          "name": "stdout",
          "text": [
            "It looks like you are running Gradio on a hosted a Jupyter notebook. For the Gradio app to work, sharing must be enabled. Automatically setting `share=True` (you can turn this off by setting `share=False` in `launch()` explicitly).\n",
            "\n",
            "Colab notebook detected. To show errors in colab notebook, set debug=True in launch()\n",
            "* Running on public URL: https://b0b8928bd549f3854a.gradio.live\n",
            "\n",
            "This share link expires in 1 week. For free permanent hosting and GPU upgrades, run `gradio deploy` from the terminal in the working directory to deploy to Hugging Face Spaces (https://huggingface.co/spaces)\n"
          ]
        },
        {
          "output_type": "display_data",
          "data": {
            "text/plain": [
              "<IPython.core.display.HTML object>"
            ],
            "text/html": [
              "<div><iframe src=\"https://b0b8928bd549f3854a.gradio.live\" width=\"100%\" height=\"500\" allow=\"autoplay; camera; microphone; clipboard-read; clipboard-write;\" frameborder=\"0\" allowfullscreen></iframe></div>"
            ]
          },
          "metadata": {}
        },
        {
          "output_type": "execute_result",
          "data": {
            "text/plain": []
          },
          "metadata": {},
          "execution_count": 56
        }
      ]
    },
    {
      "cell_type": "markdown",
      "source": [
        "# Admin panel functions"
      ],
      "metadata": {
        "id": "NX3opH8Nr0qq"
      }
    },
    {
      "cell_type": "code",
      "source": [
        "# Index Management class for handling index-related functionality\n",
        "class IndexManager:\n",
        "    def __init__(self, db_link):\n",
        "        self.db_link = db_link\n",
        "        self.db_service = DbService(db_link)\n",
        "        self.stats_path = \"/indexStats\"\n",
        "        self._init_stats_if_needed()\n",
        "\n",
        "\n",
        "    # Initialize stats in the database if they don't exist\n",
        "    def _init_stats_if_needed(self):\n",
        "        FBconn = firebase.FirebaseApplication(self.db_link, None)\n",
        "        stats = FBconn.get('/', self.stats_path[1:])  # Remove leading slash\n",
        "        if not stats:\n",
        "            # Initialize with default values\n",
        "            default_stats = {\n",
        "                \"word_count\": 0,\n",
        "                \"page_count\": 0,\n",
        "                \"last_indexed\": datetime.now().strftime(\"%Y-%m-%d %H:%M:%S\"),\n",
        "                \"search_counts\": {\"placeholder\": 0}  # Start with a placeholder entry\n",
        "            }\n",
        "            FBconn.put('/', self.stats_path[1:], default_stats)\n",
        "\n",
        "\n",
        "    # Get the top 10 most searched terms from the index\n",
        "    def get_top_search_terms(self):\n",
        "        FBconn = firebase.FirebaseApplication(self.db_link, None)\n",
        "        stats = FBconn.get('/', self.stats_path[1:])\n",
        "        if not stats or 'search_counts' not in stats:\n",
        "            return []\n",
        "        sorted_terms = sorted(\n",
        "            stats['search_counts'].items(),\n",
        "            key=operator.itemgetter(1),\n",
        "            reverse=True\n",
        "        )[:10]\n",
        "        if sorted_terms:\n",
        "            return sorted_terms\n",
        "        return []\n",
        "\n",
        "\n",
        "    # Record that a term was searched\n",
        "    def record_search_term(self, term):\n",
        "        FBconn = firebase.FirebaseApplication(self.db_link, None)\n",
        "        stats = FBconn.get('/', self.stats_path[1:])\n",
        "        if not stats:\n",
        "            stats = {\"search_counts\": {\"placeholder\": 0}}\n",
        "        elif 'search_counts' not in stats:\n",
        "            stats['search_counts'] = {\"placeholder\": 0}\n",
        "\n",
        "        # Remove placeholder if it exists and this isn't a placeholder term\n",
        "        if \"placeholder\" in stats['search_counts'] and term != \"placeholder\":\n",
        "            if len(stats['search_counts']) > 1:  # Only remove if there are other terms\n",
        "                del stats['search_counts'][\"placeholder\"]\n",
        "\n",
        "        # Increment search count for this term\n",
        "        if term in stats['search_counts']:\n",
        "            stats['search_counts'][term] += 1\n",
        "        else:\n",
        "            stats['search_counts'][term] = 1\n",
        "\n",
        "        # Save back to DB\n",
        "        FBconn.put('/', self.stats_path[1:], stats)\n",
        "\n",
        "\n",
        "    # Get the current status of the index\n",
        "    def update_index_status(self):\n",
        "        FBconn = firebase.FirebaseApplication(self.db_link, None)\n",
        "        stats = FBconn.get('/', self.stats_path[1:])\n",
        "        if not stats:\n",
        "            return {\n",
        "                \"word_count\": 0,\n",
        "                \"page_count\": 0,\n",
        "                \"last_indexed\": \"Never\"\n",
        "            }\n",
        "        return {\n",
        "            \"word_count\": stats.get(\"word_count\", 0),\n",
        "            \"page_count\": stats.get(\"page_count\", 0),\n",
        "            \"last_indexed\": stats.get(\"last_indexed\", \"Unknown\")\n",
        "        }\n",
        "\n",
        "    # Re-index content from the target website\n",
        "    def reindex_content(self):\n",
        "        try:\n",
        "            url = \"https://mqtt.org/\"\n",
        "            crawler = Crawler(url)\n",
        "            sub_urls = crawler.get_sub_urls(url)\n",
        "            index = {}\n",
        "            for sub_url in sub_urls:\n",
        "                queryService = QueryService(sub_url)\n",
        "                soup = queryService.fetch_page()\n",
        "                index = queryService.index_words(soup, index, sub_url)\n",
        "                index = queryService.remove_stop_words(index)\n",
        "            self.db_service.insert_to_db(index)\n",
        "\n",
        "            # Update stats\n",
        "            FBconn = firebase.FirebaseApplication(self.db_link, None)\n",
        "            stats = FBconn.get('/', self.stats_path[1:]) or {}\n",
        "            stats[\"word_count\"] = len(index)\n",
        "            stats[\"page_count\"] = len(sub_urls)\n",
        "            stats[\"last_indexed\"] = datetime.now().strftime(\"%Y-%m-%d %H:%M:%S\")\n",
        "            FBconn.put('/', self.stats_path[1:], stats)\n",
        "\n",
        "            return f\"Re-indexing complete: {len(index)} words from {len(sub_urls)} pages\"\n",
        "        except Exception as e:\n",
        "            return f\"Error during re-indexing: {str(e)}\"\n",
        "\n",
        "def get_index_status():\n",
        "  return index_manager.update_index_status()\n",
        "\n",
        "def reindex_content():\n",
        "  return index_manager.reindex_content()\n",
        "\n",
        "# Track search terms for stats\n",
        "def track_search_terms(query):\n",
        "    if query :\n",
        "        words = re.findall(r'\\w+', query.lower())\n",
        "        for word in words:\n",
        "            index_manager.record_search_term(word)\n",
        "\n",
        "\n",
        "# Check if MQTT broker is connected\n",
        "def get_mqtt_connection_status():\n",
        "    return False\n",
        "\n",
        "\n",
        "# Reconnect to the MQTT broker\n",
        "def reconnect_mqtt():\n",
        "    return False\n",
        "\n",
        "\n",
        "index_manager = IndexManager(DBLink)"
      ],
      "metadata": {
        "id": "Oh7Dy30TDCtD"
      },
      "execution_count": 50,
      "outputs": []
    },
    {
      "cell_type": "markdown",
      "source": [
        "#Admin Panel UI"
      ],
      "metadata": {
        "id": "FlAKf8zaNs6P"
      }
    },
    {
      "cell_type": "code",
      "source": [
        "\n",
        "# Create the admin dashboard UI\n",
        "def create_admin_dashboard():\n",
        "    with gr.Blocks(title=\"Admin Dashboard\") as dashboard:\n",
        "        gr.Markdown(\"# Admin Dashboard\")\n",
        "\n",
        "        with gr.Tab(\"Index Management\"):\n",
        "            with gr.Row():\n",
        "                with gr.Column(scale=2):\n",
        "                    gr.Markdown(\"### Top 10 Most Searched Terms\")\n",
        "                    top_terms_output = gr.Dataframe(\n",
        "                        headers=[\"Rank\", \"Term\", \"Searches\"],\n",
        "                        row_count=10,\n",
        "                        interactive=False\n",
        "                    )\n",
        "\n",
        "                    refresh_top_terms = gr.Button(\"Refresh Top Terms\")\n",
        "\n",
        "                with gr.Column(scale=3):\n",
        "                    gr.Markdown(\"### Index Status\")\n",
        "                    index_status_md = gr.Markdown(\"\")\n",
        "\n",
        "                    with gr.Row():\n",
        "                        reindex_button = gr.Button(\"Re-index Content\", variant=\"primary\")\n",
        "                        refresh_index_status = gr.Button(\"Refresh Status\")\n",
        "\n",
        "                    index_action_output = gr.Textbox(label=\"Action Output\", lines=2)\n",
        "\n",
        "        with gr.Tab(\"MQTT Connection\"):\n",
        "            with gr.Row():\n",
        "                with gr.Column():\n",
        "                    gr.Markdown(\"### MQTT Broker Connection Status\")\n",
        "                    connection_status_md = gr.Markdown(\"\")\n",
        "\n",
        "                    reconnect_button = gr.Button(\"Reconnect to MQTT Broker\", variant=\"primary\")\n",
        "                    connection_output = gr.Textbox(label=\"Connection Output\", lines=2)\n",
        "\n",
        "        # Initialize displayed data on load\n",
        "        def update_top_terms():\n",
        "            terms_with_counts = index_manager.get_top_search_terms()\n",
        "            data = []\n",
        "            for i, (term, count) in enumerate(terms_with_counts, 1):\n",
        "                data.append([i, term, f\"{count} Searches\"])\n",
        "            return pd.DataFrame(data, columns=[\"Rank\", \"Term\", \"Searches\"])\n",
        "\n",
        "        def update_index_status():\n",
        "            status = get_index_status()\n",
        "            return f\"**Word Count:** {status['word_count']}<br>**Page Count:** {status['page_count']}<br>**Last Indexed:** {status['last_indexed']}\"\n",
        "\n",
        "        def update_connection_status():\n",
        "            is_connected = get_mqtt_connection_status()\n",
        "            if is_connected:\n",
        "                return \"✅ **Connected** to MQTT Broker\"\n",
        "            else:\n",
        "                return \"❌ **Disconnected** from MQTT Broker\"\n",
        "\n",
        "        # Set up event handlers\n",
        "        refresh_top_terms.click(update_top_terms, outputs=top_terms_output)\n",
        "        refresh_index_status.click(update_index_status, outputs=index_status_md)\n",
        "        reindex_button.click(reindex_content, outputs=index_action_output)\n",
        "        reconnect_button.click(reconnect_mqtt, outputs=connection_output)\n",
        "\n",
        "        # Initialize the UI\n",
        "        dashboard.load(update_top_terms, outputs=top_terms_output)\n",
        "        dashboard.load(update_index_status, outputs=index_status_md)\n",
        "        dashboard.load(update_connection_status, outputs=connection_status_md)\n",
        "\n",
        "    return dashboard\n",
        "\n",
        "# Create the admin dashboard & Launch the admin dashboard\n",
        "admin_dashboard = create_admin_dashboard()\n",
        "admin_dashboard.launch(inline=True)"
      ],
      "metadata": {
        "id": "Qo04PSwNr5qw",
        "colab": {
          "base_uri": "https://localhost:8080/",
          "height": 646
        },
        "outputId": "f0efab59-3667-4c32-8a2b-194dbdf92367"
      },
      "execution_count": 48,
      "outputs": [
        {
          "output_type": "stream",
          "name": "stdout",
          "text": [
            "It looks like you are running Gradio on a hosted a Jupyter notebook. For the Gradio app to work, sharing must be enabled. Automatically setting `share=True` (you can turn this off by setting `share=False` in `launch()` explicitly).\n",
            "\n",
            "Colab notebook detected. To show errors in colab notebook, set debug=True in launch()\n",
            "* Running on public URL: https://99b3237f6f17b78e35.gradio.live\n",
            "\n",
            "This share link expires in 1 week. For free permanent hosting and GPU upgrades, run `gradio deploy` from the terminal in the working directory to deploy to Hugging Face Spaces (https://huggingface.co/spaces)\n"
          ]
        },
        {
          "output_type": "display_data",
          "data": {
            "text/plain": [
              "<IPython.core.display.HTML object>"
            ],
            "text/html": [
              "<div><iframe src=\"https://99b3237f6f17b78e35.gradio.live\" width=\"100%\" height=\"500\" allow=\"autoplay; camera; microphone; clipboard-read; clipboard-write;\" frameborder=\"0\" allowfullscreen></iframe></div>"
            ]
          },
          "metadata": {}
        },
        {
          "output_type": "execute_result",
          "data": {
            "text/plain": []
          },
          "metadata": {},
          "execution_count": 48
        }
      ]
    },
    {
      "cell_type": "markdown",
      "source": [
        "#Search Engine UI"
      ],
      "metadata": {
        "id": "14KezAjR8jiR"
      }
    },
    {
      "cell_type": "code",
      "source": [
        "def search_word(query):\n",
        "    if not query:\n",
        "        return \"Please enter a search term\"\n",
        "\n",
        "    # Get the index from the database\n",
        "    dbService = DbService(DBLink)\n",
        "    index = dbService.get_from_db()\n",
        "\n",
        "    if not index:\n",
        "        return \"No index found in the database. Please run the indexing process first.\"\n",
        "\n",
        "    # Track search terms for analytics ############# check if works with multiple words!!!!!!!!!!!!!!!!!!!!!!!!\n",
        "    track_search_terms(query)\n",
        "\n",
        "    # Process the query - split into individual words\n",
        "    words = re.findall(r'\\w+', query.lower())\n",
        "\n",
        "    if not words:\n",
        "        return \"Please enter valid search terms\"\n",
        "\n",
        "    # Dictionary to track all found URLs and their related words\n",
        "    all_results = {}\n",
        "    # Dictionary to track word appearance counts\n",
        "    word_appearances = {}\n",
        "    # Keep track of words not found\n",
        "    words_not_found = []\n",
        "\n",
        "    # Search for each word in the index\n",
        "    for word in words:\n",
        "        if word in index:\n",
        "            urls = index[word][\"DocIDs\"]\n",
        "            appearances = index[word][\"Appearences\"]\n",
        "            word_appearances[word] = appearances\n",
        "\n",
        "            # Add each URL to the results dictionary\n",
        "            for url in urls:\n",
        "                if url in all_results:\n",
        "                    all_results[url].append(word)\n",
        "                else:\n",
        "                    all_results[url] = [word]\n",
        "        else:\n",
        "            words_not_found.append(word)\n",
        "\n",
        "    # Format the results\n",
        "    if not all_results:\n",
        "        return f\"No results found for any of the search terms: {', '.join(words)}\"\n",
        "\n",
        "    # Count the total number of URLs found and appearances\n",
        "    total_urls = len(all_results)\n",
        "    total_appearances = sum(word_appearances.values())\n",
        "\n",
        "    # Start building the result string\n",
        "    result = f\"Found {len(words) - len(words_not_found)} of {len(words)} search terms in {total_urls} pages with {total_appearances} total appearances:\\n\\n\"\n",
        "\n",
        "    # Sort results by number of matching words (most matches first)\n",
        "    sorted_results = sorted(all_results.items(), key=lambda x: len(x[1]), reverse=True)\n",
        "\n",
        "    for i, (url, found_words) in enumerate(sorted_results, 1):\n",
        "        result += f\"{i}. {url} \\n Contains words: \\t {', '.join(found_words)}\\n\\n\"\n",
        "\n",
        "    # Add information about words not found\n",
        "    if words_not_found:\n",
        "        result += f\"\\nTerms not found: {', '.join(words_not_found)}\"\n",
        "\n",
        "    return result\n",
        "\n",
        "# Create the Gradio interface for the search engine\n",
        "search_interface = gr.Interface(\n",
        "    fn=search_word,\n",
        "    inputs=gr.Textbox(placeholder=\"Enter words to search...\"),\n",
        "    outputs=gr.Textbox(label=\"Search Results\", lines=10),\n",
        "    title=\"Multi-Word Search Engine\",\n",
        "    description=\"Search for multiple words and find the URLs where they appear.\",\n",
        "    allow_flagging='never',\n",
        ")\n",
        "\n",
        "# Launch the search interface\n",
        "search_interface.launch(inline=True)"
      ],
      "metadata": {
        "colab": {
          "base_uri": "https://localhost:8080/",
          "height": 680
        },
        "id": "9TfPf3my4mXr",
        "outputId": "81f8a832-c83d-4426-a356-e5bc7d0196aa"
      },
      "execution_count": 44,
      "outputs": [
        {
          "output_type": "stream",
          "name": "stderr",
          "text": [
            "/usr/local/lib/python3.11/dist-packages/gradio/interface.py:415: UserWarning: The `allow_flagging` parameter in `Interface` is deprecated.Use `flagging_mode` instead.\n",
            "  warnings.warn(\n"
          ]
        },
        {
          "output_type": "stream",
          "name": "stdout",
          "text": [
            "It looks like you are running Gradio on a hosted a Jupyter notebook. For the Gradio app to work, sharing must be enabled. Automatically setting `share=True` (you can turn this off by setting `share=False` in `launch()` explicitly).\n",
            "\n",
            "Colab notebook detected. To show errors in colab notebook, set debug=True in launch()\n",
            "* Running on public URL: https://50ae6faed5fff07494.gradio.live\n",
            "\n",
            "This share link expires in 1 week. For free permanent hosting and GPU upgrades, run `gradio deploy` from the terminal in the working directory to deploy to Hugging Face Spaces (https://huggingface.co/spaces)\n"
          ]
        },
        {
          "output_type": "display_data",
          "data": {
            "text/plain": [
              "<IPython.core.display.HTML object>"
            ],
            "text/html": [
              "<div><iframe src=\"https://50ae6faed5fff07494.gradio.live\" width=\"100%\" height=\"500\" allow=\"autoplay; camera; microphone; clipboard-read; clipboard-write;\" frameborder=\"0\" allowfullscreen></iframe></div>"
            ]
          },
          "metadata": {}
        },
        {
          "output_type": "execute_result",
          "data": {
            "text/plain": []
          },
          "metadata": {},
          "execution_count": 44
        }
      ]
    },
    {
      "cell_type": "markdown",
      "source": [
        "# Sensor data caching and processing"
      ],
      "metadata": {
        "id": "Hcrgrrw_qF5N"
      }
    },
    {
      "cell_type": "code",
      "execution_count": 45,
      "metadata": {
        "id": "LUN71RiATiOl",
        "colab": {
          "base_uri": "https://localhost:8080/"
        },
        "outputId": "af798616-2411-4ab4-88f2-bb381aa70ba7",
        "collapsed": true
      },
      "outputs": [
        {
          "output_type": "stream",
          "name": "stderr",
          "text": [
            "<ipython-input-45-6ed2c8020976>:57: DeprecationWarning: Callback API version 1 is deprecated, update to latest version\n",
            "  client = mqtt.Client()\n"
          ]
        },
        {
          "output_type": "stream",
          "name": "stdout",
          "text": [
            "Connected to MQTT Broker!\n",
            "Subscribing to topics\n",
            "Successfully subscribed to topics!\n"
          ]
        },
        {
          "output_type": "execute_result",
          "data": {
            "text/plain": [
              "<MQTTErrorCode.MQTT_ERR_SUCCESS: 0>"
            ]
          },
          "metadata": {},
          "execution_count": 45
        }
      ],
      "source": [
        "# Data proccessing\n",
        "#def process_data(data):\n",
        "\n",
        "db_url = \"https://project-pheonix-39eef-default-rtdb.europe-west1.firebasedatabase.app/\"\n",
        "FBconn = firebase.FirebaseApplication(db_url,None)\n",
        "\n",
        "# Data saving in DB\n",
        "def send_to_db(path, data):\n",
        "  FBconn.put('/',f'/fake/{path}',data)\n",
        "  return\n",
        "\n",
        "# create an mqtt connection\n",
        "def on_connect(client, userdata, flags, rc):\n",
        "  if rc == 0:\n",
        "    print(\"Connected to MQTT Broker!\\nSubscribing to topics\")\n",
        "\n",
        "    # Subscribe to the relevant topics\n",
        "    client.subscribe(\"braude/D106/indoor\")\n",
        "    client.subscribe(\"braude/D106/outdoor\")\n",
        "\n",
        "    print(\"Successfully subscribed to topics!\")\n",
        "  else:\n",
        "    print(f\"Failed to connect, return code {rc}\")\n",
        "\n",
        "def on_disconnect(client, userdata, rc):\n",
        "  if rc != 0:\n",
        "    for i in range(5):\n",
        "      print(f\"Unexpected disconnection (error code: {rc}). Attempting to reconnect number {i + 1} in 5 seconds...\")\n",
        "      time.sleep(5)\n",
        "      try:\n",
        "        client.reconnect()\n",
        "      except Exception as e:\n",
        "        print(f\"Reconnection attempt failed: {e}\")\n",
        "\n",
        "def on_message(client, userdata, msg):\n",
        "\n",
        "  topic = msg.topic\n",
        "  payload = msg.payload.decode('utf-8')  # Decode the byte string to a string\n",
        "\n",
        "  print(f\"Received JSON message on topic '{topic}': {payload}\")\n",
        "  entry = None\n",
        "  try:\n",
        "    sensor_data = json.loads(payload)\n",
        "    print(f\"Parsed JSON data: {sensor_data}\")\n",
        "\n",
        "    if topic == \"braude/D106/indoor\":\n",
        "      send_to_db(f\"indoor/{int(time.time())}\", sensor_data)\n",
        "\n",
        "    elif topic == \"braude/D106/outdoor\":\n",
        "      send_to_db(f\"outdoor/{int(time.time())}\", sensor_data)\n",
        "\n",
        "  except json.JSONDecodeError as e:\n",
        "    print(f\"Error decoding JSON: {e}\")\n",
        "    print(f\"Problematic payload: {payload}\")\n",
        "\n",
        "# connect to the MQTT publisher\n",
        "client = mqtt.Client()\n",
        "client.on_connect = on_connect\n",
        "client.on_disconnect = on_disconnect\n",
        "client.on_message = on_message\n",
        "client.connect(\"broker.hivemq.com\", 1883, keepalive = 600)\n",
        "client.loop_start()\n",
        "\n",
        "time.sleep(5)\n",
        "client.loop_stop()\n",
        "client.disconnect()"
      ]
    },
    {
      "cell_type": "markdown",
      "source": [
        "# Screens"
      ],
      "metadata": {
        "id": "YwHW4vX0rsJm"
      }
    },
    {
      "cell_type": "code",
      "source": [
        "import plotly.graph_objects as go\n",
        "from datetime import datetime\n",
        "# Sensor data pulling from DB for indoors\n",
        "data_indoor = FBconn.get('/fake/indoor',None)\n",
        "data_keys_indoor = list(data_indoor.keys())\n",
        "data_values_indoor = list(data_indoor.values())\n",
        "readable_times_indoor = [datetime.utcfromtimestamp(int(ts)).strftime('%H:%M:%S') for ts in data_keys_indoor]\n",
        "\n",
        "#Sensor data pulling form DB for outdoors\n",
        "data_outdoor = FBconn.get('/fake/outdoor',None)\n",
        "data_keys_outdoor = list(data_outdoor.keys())\n",
        "data_values_outdoor = list(data_outdoor.values())\n",
        "readable_times_outdoor = [datetime.utcfromtimestamp(int(ts)).strftime('%H:%M:%S') for ts in data_keys_outdoor]\n",
        "\n",
        "enviorment = ['indoor','outdoor']\n",
        "sensors = {'indoor':['Distance','Temperature','Humidity','Pressure'] , 'outdoor':['DLIGHT']}\n",
        "dropdown_env = None\n",
        "dropdown_sensor = None\n",
        "#updates Dropbox values\n",
        "def rs_change(rs):\n",
        "  return gr.Dropdown(choices = sensors[rs],value=sensors[rs][0])\n",
        "\n",
        "# Data visualization\n",
        "def plot_graph(place,name):\n",
        "    if place == 'indoor':\n",
        "      val_arr = [value[name] for value in data_values_indoor]\n",
        "      fig = go.Figure()\n",
        "      fig.add_trace(go.Scatter(x=readable_times_indoor, y=val_arr, mode='lines+markers', name=name))\n",
        "      fig.update_layout(title='Sensor {} Over Time'.format(name), xaxis_title='Time', yaxis_title=name)\n",
        "    elif place == 'outdoor':\n",
        "      val_arr = [value[name] for value in data_values_outdoor]\n",
        "      fig = go.Figure()\n",
        "      fig.add_trace(go.Scatter(x=readable_times_outdoor, y=val_arr, mode='lines+markers', name=name))\n",
        "      fig.update_layout(title='Sensor {} Over Time'.format(name), xaxis_title='Time', yaxis_title=name)\n",
        "    return fig\n",
        "\n",
        "with gr.Blocks() as app:\n",
        "\n",
        "  rs = gr.Dropdown(choices = enviorment, value='indoor')\n",
        "  rs_sensors = gr.Dropdown(choices = sensors['indoor'],interactive = True)\n",
        "\n",
        "  rs.change(fn=rs_change, inputs=rs, outputs=rs_sensors)\n",
        "  #chk = gr.Dropdown(choices = readable_times_outdoor,interactive = True) for time\n",
        "  pl = gr.Interface(fn=plot_graph, inputs=[rs ,rs_sensors], outputs=gr.Plot(label=\"Graph\"))\n",
        "\n",
        "\n",
        "# Gradio interface\n",
        "#gr.Interface(fn=plot_graph, inputs=[rs ,rs_sensors], outputs=gr.Plot(label=\"Graph\"))\n",
        "\n",
        "app.launch(inline=True)"
      ],
      "metadata": {
        "id": "187M2pIshCVs",
        "outputId": "67ed2c06-c5bc-4e0d-94c3-ee8a47451ddd",
        "colab": {
          "base_uri": "https://localhost:8080/",
          "height": 646
        }
      },
      "execution_count": 46,
      "outputs": [
        {
          "output_type": "stream",
          "name": "stdout",
          "text": [
            "It looks like you are running Gradio on a hosted a Jupyter notebook. For the Gradio app to work, sharing must be enabled. Automatically setting `share=True` (you can turn this off by setting `share=False` in `launch()` explicitly).\n",
            "\n",
            "Colab notebook detected. To show errors in colab notebook, set debug=True in launch()\n",
            "* Running on public URL: https://d5fd622cd6066b0ceb.gradio.live\n",
            "\n",
            "This share link expires in 1 week. For free permanent hosting and GPU upgrades, run `gradio deploy` from the terminal in the working directory to deploy to Hugging Face Spaces (https://huggingface.co/spaces)\n"
          ]
        },
        {
          "output_type": "display_data",
          "data": {
            "text/plain": [
              "<IPython.core.display.HTML object>"
            ],
            "text/html": [
              "<div><iframe src=\"https://d5fd622cd6066b0ceb.gradio.live\" width=\"100%\" height=\"500\" allow=\"autoplay; camera; microphone; clipboard-read; clipboard-write;\" frameborder=\"0\" allowfullscreen></iframe></div>"
            ]
          },
          "metadata": {}
        },
        {
          "output_type": "execute_result",
          "data": {
            "text/plain": []
          },
          "metadata": {},
          "execution_count": 46
        }
      ]
    },
    {
      "cell_type": "code",
      "source": [
        "import gradio as gr\n",
        "\n",
        "# User's initial profile\n",
        "name = \"Bob\"\n",
        "coins = 2500\n",
        "\n",
        "# Create the Gradio interface\n",
        "with gr.Blocks(theme=gr.themes.Citrus()) as demo:\n",
        "    gr.Markdown(\"## 🛒 Shop\")\n",
        "    Total_coins_state = gr.State(coins)\n",
        "\n",
        "    # User greeting and current coin display\n",
        "    with gr.Row():\n",
        "        gr.Markdown(f\"Welcome **{name}**\")\n",
        "        current_coins=gr.Markdown(f\"Coins: **{coins}** 💰\")\n",
        "    # Checkbox group for selecting rewards\n",
        "    cart = gr.State([])\n",
        "    items_to_add = gr.CheckboxGroup(\n",
        "        [\"Free Coffee ☕️ :50 coins\", \"Free Meal 🍔 :100 coins\", \"Pizza Party 🍕 :200 coins\", \"Water Park 💧 :300 coins\", \"Day Off 😄 :400 coins\"],\n",
        "        label=\"Choose Items to Add\"\n",
        "    )\n",
        "\n",
        "    with gr.Row():\n",
        "        add_button = gr.Button(\"➕ Add Items to Cart\", variant=\"primary\", size=\"lg\")\n",
        "        delete_button = gr.Button(\"❌ Clear Cart\", variant=\"secondary\")\n",
        "    cart_display = gr.Markdown(\"🛒 **Cart is empty**\")\n",
        "    cart_size = gr.Number(label=\"Cart Size\", interactive=False)\n",
        "    checkout_result = gr.Markdown(\"\")\n",
        "\n",
        "    #returns a string of all items of the cart, or if it's empty returns empty cart\n",
        "    def format_cart(cart_list):\n",
        "        if not cart_list:\n",
        "            return \"🛒 **Cart is empty**\"\n",
        "        return \"🛒 **Your Cart:**\\n\" + \"\\n\".join([f\"- {item}\" for item in cart_list])\n",
        "    #adds items to the cart\n",
        "    def add_items(new_items, previous_cart):\n",
        "        new_cart = previous_cart + new_items\n",
        "        return new_cart, format_cart(new_cart), len(new_cart)\n",
        "\n",
        "    #initiates checkout, sums the toal cost of all items, returns what was boughts and substracts from the user's coins\n",
        "    def checkout(cart,total_coins):\n",
        "        if not cart:\n",
        "            return \"❌ Your cart is empty!\"\n",
        "        messages = [\"🧾 **Checkout Summary:**\"]\n",
        "        total_cost = 0\n",
        "        for item in cart:\n",
        "            match item:\n",
        "                case \"Free Coffee ☕️ :50 coins\":\n",
        "                    messages.append(\"☕️ Coffee - 50 coins\")\n",
        "                    total_cost += 50\n",
        "                case \"Free Meal 🍔 :100 coins\":\n",
        "                    messages.append(\"🍔 Meal - 100 coins\")\n",
        "                    total_cost += 100\n",
        "                case \"Pizza Party 🍕 :200 coins\":\n",
        "                    messages.append(\"🍕 Pizza - 200 coins\")\n",
        "                    total_cost += 200\n",
        "                case \"Water Park 💧 :300 coins\":\n",
        "                    messages.append(\"💧 Water Park - 300 coins\")\n",
        "                    total_cost += 300\n",
        "                case \"Day Off 😄 :400 coins\":\n",
        "                    messages.append(\"😄 Day Off - 400 coins\")\n",
        "                    total_cost += 400\n",
        "                case _:\n",
        "                    messages.append(f\"❓ Unknown item: {item}\")\n",
        "\n",
        "        #checks if the total sum of items in the cart is samller then the amount of coins of the user has right now\n",
        "        if total_cost > total_coins:\n",
        "            return \"❌ Not enough coins to complete the purchase!\",[],format_cart([]),0,total_coins,gr.update(value=f\"Coins: **{total_coins}** 💰\")\n",
        "        messages.append(f\"\\n💰 **Total Cost:** {total_cost} coins\")\n",
        "        return \"\\n\".join(messages),[],format_cart([]),0,total_coins-total_cost,gr.update(value=f\"Coins: **{total_coins-total_cost}** 💰\")\n",
        "\n",
        "    #clears the cart\n",
        "    def delete_cart(cart):\n",
        "        return [], \"🛒 **Cart is empty**\", 0\n",
        "\n",
        "    with gr.Row():\n",
        "      checkout_button = gr.Button(\"✅ Checkout\", variant=\"secondary\")\n",
        "\n",
        "    add_button.click(\n",
        "        fn=add_items,\n",
        "        inputs=[items_to_add, cart],\n",
        "        outputs=[cart, cart_display, cart_size]\n",
        "    )\n",
        "\n",
        "    checkout_button.click(\n",
        "        fn=checkout,\n",
        "        inputs=[cart,Total_coins_state],\n",
        "        outputs=[checkout_result,cart,cart_display,cart_size,Total_coins_state,current_coins]\n",
        "    )\n",
        "\n",
        "    delete_button.click(\n",
        "        fn=delete_cart,\n",
        "        inputs=[cart],\n",
        "        outputs=[cart, cart_display, cart_size]\n",
        "    )\n",
        "\n",
        "demo.launch()\n"
      ],
      "metadata": {
        "colab": {
          "base_uri": "https://localhost:8080/",
          "height": 646
        },
        "id": "oytOqwmM_4hl",
        "outputId": "27295191-f7ba-460a-b2c0-7dfb5c7d72d8"
      },
      "execution_count": 47,
      "outputs": [
        {
          "output_type": "stream",
          "name": "stdout",
          "text": [
            "It looks like you are running Gradio on a hosted a Jupyter notebook. For the Gradio app to work, sharing must be enabled. Automatically setting `share=True` (you can turn this off by setting `share=False` in `launch()` explicitly).\n",
            "\n",
            "Colab notebook detected. To show errors in colab notebook, set debug=True in launch()\n",
            "* Running on public URL: https://35be7c6a05707ac2a8.gradio.live\n",
            "\n",
            "This share link expires in 1 week. For free permanent hosting and GPU upgrades, run `gradio deploy` from the terminal in the working directory to deploy to Hugging Face Spaces (https://huggingface.co/spaces)\n"
          ]
        },
        {
          "output_type": "display_data",
          "data": {
            "text/plain": [
              "<IPython.core.display.HTML object>"
            ],
            "text/html": [
              "<div><iframe src=\"https://35be7c6a05707ac2a8.gradio.live\" width=\"100%\" height=\"500\" allow=\"autoplay; camera; microphone; clipboard-read; clipboard-write;\" frameborder=\"0\" allowfullscreen></iframe></div>"
            ]
          },
          "metadata": {}
        },
        {
          "output_type": "execute_result",
          "data": {
            "text/plain": []
          },
          "metadata": {},
          "execution_count": 47
        }
      ]
    },
    {
      "cell_type": "markdown",
      "source": [],
      "metadata": {
        "id": "aM-bdhBl-a7f"
      }
    }
  ]
}