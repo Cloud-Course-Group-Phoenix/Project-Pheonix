{
  "nbformat": 4,
  "nbformat_minor": 0,
  "metadata": {
    "colab": {
      "provenance": [],
      "include_colab_link": true
    },
    "kernelspec": {
      "name": "python3",
      "display_name": "Python 3"
    },
    "language_info": {
      "name": "python"
    }
  },
  "cells": [
    {
      "cell_type": "markdown",
      "metadata": {
        "id": "view-in-github",
        "colab_type": "text"
      },
      "source": [
        "<a href=\"https://colab.research.google.com/github/Cloud-Course-Group-Phoenix/Project-Pheonix/blob/main/HW2.ipynb\" target=\"_parent\"><img src=\"https://colab.research.google.com/assets/colab-badge.svg\" alt=\"Open In Colab\"/></a>"
      ]
    },
    {
      "cell_type": "markdown",
      "source": [
        "# Imports and Package installations"
      ],
      "metadata": {
        "id": "dcnWzreI_3vK"
      }
    },
    {
      "cell_type": "code",
      "source": [
        "# pip installs\n",
        "!pip install firebase\n",
        "!pip install gradio\n",
        "!pip install paho-mqtt\n",
        "\n",
        "#================================= make sure all pip installs are above this line ============================================\n",
        "\n",
        "# import to clear the installation code output\n",
        "from IPython.display import clear_output\n",
        "clear_output()"
      ],
      "metadata": {
        "id": "jVQsBoLZs6zd"
      },
      "execution_count": 1,
      "outputs": []
    },
    {
      "cell_type": "code",
      "source": [
        "#imports\n",
        "import gradio as gr\n",
        "import json\n",
        "import time\n",
        "from firebase import firebase\n",
        "import paho.mqtt.client as mqtt\n",
        "import requests\n",
        "import re\n",
        "from bs4 import BeautifulSoup\n",
        "from urllib.parse import urljoin\n",
        "from urllib.parse import urljoin, urlparse\n",
        "import nltk\n",
        "from nltk.stem import PorterStemmer\n",
        "from nltk.corpus import stopwords\n",
        "from datetime import datetime\n",
        "import plotly.graph_objects as go\n",
        "import pandas as pd\n",
        "import requests\n",
        "import operator\n",
        "nltk.download('stopwords')"
      ],
      "metadata": {
        "id": "stAxnFFt27_y",
        "colab": {
          "base_uri": "https://localhost:8080/"
        },
        "outputId": "92fe294b-f851-4666-a85c-0048d8037907"
      },
      "execution_count": 11,
      "outputs": [
        {
          "output_type": "stream",
          "name": "stderr",
          "text": [
            "[nltk_data] Downloading package stopwords to /root/nltk_data...\n",
            "[nltk_data]   Package stopwords is already up-to-date!\n"
          ]
        },
        {
          "output_type": "execute_result",
          "data": {
            "text/plain": [
              "True"
            ]
          },
          "metadata": {},
          "execution_count": 11
        }
      ]
    },
    {
      "cell_type": "markdown",
      "source": [
        "#DB Connections"
      ],
      "metadata": {
        "id": "nASoP_EwVMw3"
      }
    },
    {
      "cell_type": "code",
      "source": [
        "DBLink = \"https://couldproject-a621d-default-rtdb.europe-west1.firebasedatabase.app/\"\n",
        "url = \"https://mqtt.org/\"\n",
        "\n",
        "class DbService:\n",
        "    def __init__(self, DbLink):\n",
        "        self.db_link = DbLink\n",
        "\n",
        "    def insert_to_db(self, results):\n",
        "        FBconn = firebase.FirebaseApplication(self.db_link, None)\n",
        "        FBconn.put('/','terms', results)\n",
        "\n",
        "\n",
        "    def get_from_db(self): # change into a more general statement\n",
        "        FBconn = firebase.FirebaseApplication(self.db_link,None)\n",
        "        results = FBconn.get('/','terms')\n",
        "        return results\n",
        "\n",
        "dbService = DbService(DBLink)"
      ],
      "metadata": {
        "id": "jg6v4N0MSpnc"
      },
      "execution_count": 26,
      "outputs": []
    },
    {
      "cell_type": "markdown",
      "source": [
        "# Connection to Mqtt & Sensor data processor"
      ],
      "metadata": {
        "id": "BgfXKZ3Y7mfm"
      }
    },
    {
      "cell_type": "code",
      "execution_count": 25,
      "metadata": {
        "id": "LUN71RiATiOl",
        "colab": {
          "base_uri": "https://localhost:8080/"
        },
        "outputId": "5c350d03-8fc4-44c2-eef0-34bd0fd2bcd0",
        "collapsed": true
      },
      "outputs": [
        {
          "output_type": "stream",
          "name": "stdout",
          "text": [
            "Initializing MQTT connection...\n",
            "Attempting to connect to MQTT broker...\n",
            "Connection attempt result code: 0\n",
            "Connected to MQTT Broker!\n",
            "Subscribing to topics\n",
            "Successfully subscribed to topics!\n",
            "MQTT connection result: Connected\n"
          ]
        },
        {
          "output_type": "execute_result",
          "data": {
            "text/plain": [
              "<MQTTErrorCode.MQTT_ERR_SUCCESS: 0>"
            ]
          },
          "metadata": {},
          "execution_count": 25
        }
      ],
      "source": [
        "# Mqtt data processor microservice\n",
        "class MqttConnection:\n",
        "    # Class variable to store the singleton instance\n",
        "    _instance = None\n",
        "\n",
        "    # Implementation of the singleton pattern\n",
        "    @classmethod\n",
        "    def get_instance(cls, DBLink=None):\n",
        "        # If instance doesn't exist, create it\n",
        "        if cls._instance is None and DBLink is not None:\n",
        "            cls._instance = cls(DBLink)\n",
        "        # Return the instance\n",
        "        return cls._instance\n",
        "\n",
        "    def __init__(self, DBLink):\n",
        "        # Make sure the instance is only created once\n",
        "        if MqttConnection._instance is not None:\n",
        "            raise Exception(\"MqttConnection is a singleton.\")\n",
        "        else:\n",
        "            self.client = mqtt.Client(mqtt.CallbackAPIVersion.VERSION2)\n",
        "            self.DBLink = DBLink\n",
        "            self.FBconn = firebase.FirebaseApplication(DBLink, None)\n",
        "            self.connected = False\n",
        "\n",
        "\n",
        "    # Data saving in DB\n",
        "    def insert_to_db(self, path, data):\n",
        "        self.FBconn.put('/', f'/Data/{path}', data)\n",
        "        return\n",
        "\n",
        "\n",
        "    # Connection Handler\n",
        "    def on_connect(self, client, userdata, flags, rc, properties=None):\n",
        "        if rc == 0:\n",
        "            self.connected = True\n",
        "            print(\"Connected to MQTT Broker!\\nSubscribing to topics\")\n",
        "\n",
        "            # Subscribe to the relevant topics\n",
        "            client.subscribe(\"braude/D106/indoor\")\n",
        "            client.subscribe(\"braude/D106/outdoor\")\n",
        "\n",
        "            print(\"Successfully subscribed to topics!\")\n",
        "        else:\n",
        "            print(f\"Failed to connect, return code {rc}\")\n",
        "            self.connected = False\n",
        "\n",
        "\n",
        "    # Disconnection Handler\n",
        "    def on_disconnect(self, client, userdata, rc, properties=None):\n",
        "        self.connected = False\n",
        "        if rc != 0:\n",
        "            # Non-zero return code means unexpected disconnection\n",
        "            for i in range(5):  # Try 5 times with increasing backoff\n",
        "                wait_time = (i + 1) * 2  # Increasing backoff (2s, 4s, 6s, 8s, 10s)\n",
        "                print(f\"Unexpected disconnection. Attempting to reconnect (try {i+1}/5) in {wait_time}s...\")\n",
        "                time.sleep(wait_time)\n",
        "                try:\n",
        "                    client.reconnect()\n",
        "                    print(\"Reconnection attempted\")\n",
        "                    break\n",
        "                except Exception as e:\n",
        "                    print(f\"Reconnection attempt failed: {e}\")\n",
        "\n",
        "    # Receiver Handler\n",
        "    def on_message(self, client, userdata, msg):\n",
        "\n",
        "        topic = msg.topic\n",
        "        payload = msg.payload.decode('utf-8')  # Decode the byte string to a string\n",
        "        try:\n",
        "            sensor_data = json.loads(payload)\n",
        "            if topic == \"braude/D106/indoor\":\n",
        "                self.insert_to_db(f\"indoor/{int(time.time())}\", sensor_data)\n",
        "            elif topic == \"braude/D106/outdoor\":\n",
        "                self.insert_to_db(f\"outdoor/{int(time.time())}\", sensor_data)\n",
        "\n",
        "        except json.JSONDecodeError as e:\n",
        "            print(f\"Error decoding JSON: {e}\")\n",
        "            print(f\"Problematic payload: {payload}\")\n",
        "\n",
        "    def mqtt_handler(self):\n",
        "        # Register callbacks\n",
        "        self.client.on_connect = self.on_connect\n",
        "        self.client.on_disconnect = self.on_disconnect\n",
        "        self.client.on_message = self.on_message\n",
        "\n",
        "        try:\n",
        "            print(\"Attempting to connect to MQTT broker...\")\n",
        "            conn_result = self.client.connect(\"test.mosquitto.org\", 1883, keepalive=60)\n",
        "            print(f\"Connection attempt result code: {conn_result}\")\n",
        "\n",
        "            # Start the loop in the background\n",
        "            self.client.loop_start()\n",
        "\n",
        "            # Wait for connection to establish\n",
        "            timeout = time.time() + 10  # 10 second timeout\n",
        "            while time.time() < timeout and not self.connected:\n",
        "                time.sleep(0.2)\n",
        "\n",
        "            if self.connected:\n",
        "                return True\n",
        "            return False\n",
        "\n",
        "        except Exception as e:\n",
        "            print(f\"Connection failed with error: {e}\")\n",
        "            return False\n",
        "\n",
        "# Initialize the global MQTT connection as a singleton\n",
        "print(\"Initializing MQTT connection...\")\n",
        "global_mqtt_connection = MqttConnection.get_instance(DBLink)\n",
        "# Start the MQTT handler if it's a new instance\n",
        "if not global_mqtt_connection.connected:\n",
        "    success = global_mqtt_connection.mqtt_handler()\n",
        "    print(f\"MQTT connection result: {'Connected' if success else 'Failed'}\")\n",
        "\n",
        "time.sleep(5)\n",
        "global_mqtt_connection.client.loop_stop()\n"
      ]
    },
    {
      "cell_type": "markdown",
      "source": [
        "# Index"
      ],
      "metadata": {
        "id": "IHJCMr7qrwDZ"
      }
    },
    {
      "cell_type": "code",
      "source": [
        "\n",
        "class QueryService:\n",
        "    def __init__(self,url):\n",
        "        self.url = url\n",
        "\n",
        "    def fetch_page(self):\n",
        "        response = requests.get(self.url)\n",
        "        if response.status_code == 200:\n",
        "            soup = BeautifulSoup(response.text, 'html.parser')\n",
        "            return soup\n",
        "        else:\n",
        "            return None\n",
        "\n",
        "    def index_words(self, soup, index = {}, url = ''):\n",
        "        words = re.findall(r'\\w+', soup.get_text())\n",
        "        for word in words:\n",
        "            word = word.lower()\n",
        "            if word in index:\n",
        "                index[word][\"Appearences\"] += 1\n",
        "                # Add URL to docid if it's not already there\n",
        "                if url and url not in index[word][\"DocIDs\"]:\n",
        "                    index[word][\"DocIDs\"].append(url)\n",
        "            else:\n",
        "                # Initialize with count and docid list containing the current URL\n",
        "                index[word] = {\"Appearences\": 1, \"DocIDs\": [url] if url else [], \"Term\": word}\n",
        "\n",
        "        return index\n",
        "\n",
        "    def remove_stop_words(self, index):\n",
        "      stop_words = set(stopwords.words('english'))\n",
        "      for stop_word in stop_words:\n",
        "        if stop_word in index:\n",
        "          del index[stop_word]\n",
        "      return index\n",
        "\n",
        "class Crawler:\n",
        "  def __init__(self, url):\n",
        "    self.url = url\n",
        "\n",
        "  #Fetches all sub urls from a given url\n",
        "  def get_sub_urls(self, url):\n",
        "    sub_urls = []\n",
        "    stack = [url]\n",
        "    while stack:\n",
        "      url = stack.pop()\n",
        "      response = requests.get(url)\n",
        "      response.raise_for_status()  # Raise an exception for bad responses\n",
        "      soup = BeautifulSoup(response.content, 'html.parser')\n",
        "      for link in soup.find_all('a', href=True):\n",
        "          href = link['href']\n",
        "          absolute_url = urljoin(url, href)  # Make URL absolute\n",
        "\n",
        "          if (absolute_url.startswith(url)) and (absolute_url != url) and (absolute_url not in sub_urls):\n",
        "              sub_urls.append(absolute_url)\n",
        "              stack.append(absolute_url)\n",
        "\n",
        "    return sub_urls\n",
        "\n",
        "\n",
        "\n",
        "\n",
        "crawler = Crawler(url)\n",
        "sub_urls = crawler.get_sub_urls(url)\n",
        "index = {}\n",
        "for sub_url in sub_urls:\n",
        "  queryService = QueryService(sub_url)\n",
        "  soup = queryService.fetch_page()\n",
        "  index = queryService.index_words(soup, index, sub_url)\n",
        "  index = queryService.remove_stop_words(index)\n",
        "dbService.insert_to_db(index)\n",
        "\n",
        "\n",
        "\n",
        "\n"
      ],
      "metadata": {
        "id": "tu4wr_EOr5Si"
      },
      "execution_count": 24,
      "outputs": []
    },
    {
      "cell_type": "markdown",
      "source": [
        "# Admin panel functions"
      ],
      "metadata": {
        "id": "NX3opH8Nr0qq"
      }
    },
    {
      "cell_type": "code",
      "source": [
        "# Index Management class for handling index-related functionality\n",
        "class IndexManager:\n",
        "    def __init__(self, db_link):\n",
        "        self.db_link = db_link\n",
        "        self.db_service = DbService(db_link)\n",
        "        self.stats_path = \"/indexStats\"\n",
        "        self._init_stats_if_needed()\n",
        "\n",
        "\n",
        "    # Initialize stats in the database if they don't exist\n",
        "    def _init_stats_if_needed(self):\n",
        "        FBconn = firebase.FirebaseApplication(self.db_link, None)\n",
        "        stats = FBconn.get('/', self.stats_path[1:])  # Remove leading slash\n",
        "        if not stats:\n",
        "            # Initialize with default values\n",
        "            default_stats = {\n",
        "                \"word_count\": 0,\n",
        "                \"page_count\": 0,\n",
        "                \"last_indexed\": datetime.now().strftime(\"%Y-%m-%d %H:%M:%S\"),\n",
        "                \"search_counts\": {\"placeholder\": 0}  # Start with a placeholder entry\n",
        "            }\n",
        "            FBconn.put('/', self.stats_path[1:], default_stats)\n",
        "\n",
        "\n",
        "    # Get the top 10 most searched terms from the index\n",
        "    def get_top_search_terms(self):\n",
        "        FBconn = firebase.FirebaseApplication(self.db_link, None)\n",
        "        stats = FBconn.get('/', self.stats_path[1:])\n",
        "        if not stats or 'search_counts' not in stats:\n",
        "            return []\n",
        "        sorted_terms = sorted(\n",
        "            stats['search_counts'].items(),\n",
        "            key=operator.itemgetter(1),\n",
        "            reverse=True\n",
        "        )[:10]\n",
        "        if sorted_terms:\n",
        "            return sorted_terms\n",
        "        return []\n",
        "\n",
        "\n",
        "    # Record that a term was searched\n",
        "    def record_search_term(self, term):\n",
        "        FBconn = firebase.FirebaseApplication(self.db_link, None)\n",
        "        stats = FBconn.get('/', self.stats_path[1:])\n",
        "        if not stats:\n",
        "            stats = {\"search_counts\": {\"placeholder\": 0}}\n",
        "        elif 'search_counts' not in stats:\n",
        "            stats['search_counts'] = {\"placeholder\": 0}\n",
        "\n",
        "        # Remove placeholder if it exists and this isn't a placeholder term\n",
        "        if \"placeholder\" in stats['search_counts'] and term != \"placeholder\":\n",
        "            if len(stats['search_counts']) > 1:  # Only remove if there are other terms\n",
        "                del stats['search_counts'][\"placeholder\"]\n",
        "\n",
        "        # Increment search count for this term\n",
        "        if term in stats['search_counts']:\n",
        "            stats['search_counts'][term] += 1\n",
        "        else:\n",
        "            stats['search_counts'][term] = 1\n",
        "\n",
        "        # Save back to DB\n",
        "        FBconn.put('/', self.stats_path[1:], stats)\n",
        "\n",
        "\n",
        "    # Get the current status of the index\n",
        "    def update_index_status(self):\n",
        "        FBconn = firebase.FirebaseApplication(self.db_link, None)\n",
        "        stats = FBconn.get('/', self.stats_path[1:])\n",
        "        if not stats:\n",
        "            return {\n",
        "                \"word_count\": 0,\n",
        "                \"page_count\": 0,\n",
        "                \"last_indexed\": \"Never\"\n",
        "            }\n",
        "        return {\n",
        "            \"word_count\": stats.get(\"word_count\", 0),\n",
        "            \"page_count\": stats.get(\"page_count\", 0),\n",
        "            \"last_indexed\": stats.get(\"last_indexed\", \"Unknown\")\n",
        "        }\n",
        "\n",
        "    # Re-index content from the target website\n",
        "    def reindex_content(self):\n",
        "        try:\n",
        "            url = \"https://mqtt.org/\"\n",
        "            crawler = Crawler(url)\n",
        "            sub_urls = crawler.get_sub_urls(url)\n",
        "            index = {}\n",
        "            for sub_url in sub_urls:\n",
        "                queryService = QueryService(sub_url)\n",
        "                soup = queryService.fetch_page()\n",
        "                index = queryService.index_words(soup, index, sub_url)\n",
        "                index = queryService.remove_stop_words(index)\n",
        "            self.db_service.insert_to_db(index)\n",
        "\n",
        "            # Update stats\n",
        "            FBconn = firebase.FirebaseApplication(self.db_link, None)\n",
        "            stats = FBconn.get('/', self.stats_path[1:]) or {}\n",
        "            stats[\"word_count\"] = len(index)\n",
        "            stats[\"page_count\"] = len(sub_urls)\n",
        "            stats[\"last_indexed\"] = datetime.now().strftime(\"%Y-%m-%d %H:%M:%S\")\n",
        "            FBconn.put('/', self.stats_path[1:], stats)\n",
        "\n",
        "            return f\"Re-indexing complete: {len(index)} words from {len(sub_urls)} pages\"\n",
        "        except Exception as e:\n",
        "            return f\"Error during re-indexing: {str(e)}\"\n",
        "\n",
        "def get_index_status():\n",
        "  return index_manager.update_index_status()\n",
        "\n",
        "def reindex_content():\n",
        "  return index_manager.reindex_content()\n",
        "\n",
        "# Track search terms for stats\n",
        "def track_search_terms(query):\n",
        "    if query :\n",
        "        words = re.findall(r'\\w+', query.lower())\n",
        "        for word in words:\n",
        "            index_manager.record_search_term(word)\n",
        "\n",
        "# Check if MQTT broker is connected\n",
        "def get_mqtt_connection_status():\n",
        "    # Get the singleton instance\n",
        "    mqtt_conn = MqttConnection.get_instance()\n",
        "    if mqtt_conn is not None:\n",
        "        return mqtt_conn.connected\n",
        "    return False\n",
        "\n",
        "\n",
        "# Reconnect to the MQTT broker\n",
        "def reconnect_mqtt():\n",
        "    try:\n",
        "        # Get the singleton instance\n",
        "        mqtt_conn = MqttConnection.get_instance()\n",
        "\n",
        "        if mqtt_conn is None:\n",
        "            # Create a new connection if one doesn't exist\n",
        "            mqtt_conn = MqttConnection.get_instance(db_url)\n",
        "            success = mqtt_conn.mqtt_handler()\n",
        "        else:\n",
        "            # Stop the current loop if it's running\n",
        "            mqtt_conn.client.loop_stop()\n",
        "            # Create a fresh connection\n",
        "            success = mqtt_conn.mqtt_handler()\n",
        "\n",
        "        if success:\n",
        "            return \"✅ Connected to MQTT Broker\"\n",
        "        else:\n",
        "            return \"❌ Failed to reconnect to MQTT Broker\"\n",
        "    except Exception as e:\n",
        "        return f\"Error reconnecting to MQTT: {str(e)}\"\n",
        "\n",
        "index_manager = IndexManager(DBLink)"
      ],
      "metadata": {
        "id": "Oh7Dy30TDCtD"
      },
      "execution_count": 27,
      "outputs": []
    },
    {
      "cell_type": "markdown",
      "source": [
        "# Login UI"
      ],
      "metadata": {
        "id": "DVvD8LBuLk8H"
      }
    },
    {
      "cell_type": "code",
      "source": [
        "def login(username, password):\n",
        "    if not username or not password:\n",
        "        return \"❌ Please fill in all fields.\"\n",
        "\n",
        "    user_url = f\"{DBLink}/users/{username}.json\"\n",
        "    response = requests.get(user_url)\n",
        "\n",
        "    if response.status_code != 200 or response.json() is None:\n",
        "        return \"❌ Invalid username or password.\"\n",
        "\n",
        "    user_data = response.json()\n",
        "    if user_data[\"password\"] != password:\n",
        "        return \"❌ Invalid username or password.\"\n",
        "\n",
        "    if user_data.get(\"is_admin\"):\n",
        "        return f\"✅ Welcome Admin {username}!\"\n",
        "    else:\n",
        "        return f\"✅ Welcome {username}!\"\n",
        "\n",
        "def create_login_ui():\n",
        "    with gr.Blocks(title=\"Login\") as login_ui:\n",
        "        gr.Markdown(\"## 🔐 Login\")\n",
        "        with gr.Row():\n",
        "            username = gr.Textbox(label=\"Username\")\n",
        "            password = gr.Textbox(label=\"Password\", type=\"password\")\n",
        "        login_button = gr.Button(\"Login\")\n",
        "        login_output = gr.Textbox(label=\"Login Status\", lines=1)\n",
        "\n",
        "        login_button.click(fn=login, inputs=[username, password], outputs=login_output)\n",
        "\n",
        "    return login_ui\n",
        "\n",
        "login_ui = create_login_ui()\n",
        "login_ui.launch(inline=True)"
      ],
      "metadata": {
        "id": "sxv1R_G8LrJW",
        "outputId": "48d594e1-dd63-4f58-800e-50a9ea6b16cd",
        "colab": {
          "base_uri": "https://localhost:8080/",
          "height": 645
        }
      },
      "execution_count": 7,
      "outputs": [
        {
          "output_type": "stream",
          "name": "stdout",
          "text": [
            "It looks like you are running Gradio on a hosted a Jupyter notebook. For the Gradio app to work, sharing must be enabled. Automatically setting `share=True` (you can turn this off by setting `share=False` in `launch()` explicitly).\n",
            "\n",
            "Colab notebook detected. To show errors in colab notebook, set debug=True in launch()\n",
            "* Running on public URL: https://4bdf33fc96dfd84eed.gradio.live\n",
            "\n",
            "This share link expires in 1 week. For free permanent hosting and GPU upgrades, run `gradio deploy` from the terminal in the working directory to deploy to Hugging Face Spaces (https://huggingface.co/spaces)\n"
          ]
        },
        {
          "output_type": "display_data",
          "data": {
            "text/plain": [
              "<IPython.core.display.HTML object>"
            ],
            "text/html": [
              "<div><iframe src=\"https://4bdf33fc96dfd84eed.gradio.live\" width=\"100%\" height=\"500\" allow=\"autoplay; camera; microphone; clipboard-read; clipboard-write;\" frameborder=\"0\" allowfullscreen></iframe></div>"
            ]
          },
          "metadata": {}
        },
        {
          "output_type": "execute_result",
          "data": {
            "text/plain": []
          },
          "metadata": {},
          "execution_count": 7
        }
      ]
    },
    {
      "cell_type": "markdown",
      "source": [
        "# Register UI"
      ],
      "metadata": {
        "id": "aXS_OzvRLoTP"
      }
    },
    {
      "cell_type": "code",
      "source": [
        "def register(username, password, confirm_password, is_admin):\n",
        "    if not username or not password:\n",
        "        return \"❌ Please fill in all fields.\"\n",
        "    if password != confirm_password:\n",
        "        return \"❌ Passwords do not match.\"\n",
        "\n",
        "    user_url = f\"{DBLink}/users/{username}.json\"\n",
        "    user_check = requests.get(user_url)\n",
        "\n",
        "    if user_check.status_code == 200 and user_check.json() is not None:\n",
        "        return \"❌ Username already exists.\"\n",
        "\n",
        "    user_data = {\n",
        "        \"password\": password,\n",
        "        \"is_admin\": is_admin\n",
        "    }\n",
        "\n",
        "    save_user = requests.put(user_url, json=user_data)\n",
        "\n",
        "    if save_user.status_code == 200:\n",
        "        return f\"✅ User '{username}' registered successfully!\"\n",
        "    else:\n",
        "        return \"❌ Failed to register. Try again later.\"\n",
        "\n",
        "def create_register_ui():\n",
        "    with gr.Blocks(title=\"Register\") as register_ui:\n",
        "        gr.Markdown(\"## 📝 Register\")\n",
        "\n",
        "        with gr.Row():\n",
        "            username = gr.Textbox(label=\"Choose Username\")\n",
        "            password = gr.Textbox(label=\"Choose Password\", type=\"password\")\n",
        "            confirm_password = gr.Textbox(label=\"Confirm Password\", type=\"password\")\n",
        "\n",
        "        is_admin_checkbox = gr.Checkbox(label=\"Register as Admin\")\n",
        "\n",
        "        register_button = gr.Button(\"Register\")\n",
        "        register_output = gr.Textbox(label=\"Registration Status\", lines=1)\n",
        "\n",
        "        register_button.click(\n",
        "            fn=register,\n",
        "            inputs=[username, password, confirm_password, is_admin_checkbox],\n",
        "            outputs=register_output\n",
        "        )\n",
        "\n",
        "    return register_ui\n",
        "\n",
        "register_ui = create_register_ui()\n",
        "register_ui.launch(inline=True)\n"
      ],
      "metadata": {
        "id": "4fLrsHS-LyDG",
        "outputId": "845e260f-ab64-431d-fe31-23949f1702f7",
        "colab": {
          "base_uri": "https://localhost:8080/",
          "height": 646
        }
      },
      "execution_count": null,
      "outputs": [
        {
          "output_type": "stream",
          "name": "stdout",
          "text": [
            "It looks like you are running Gradio on a hosted a Jupyter notebook. For the Gradio app to work, sharing must be enabled. Automatically setting `share=True` (you can turn this off by setting `share=False` in `launch()` explicitly).\n",
            "\n",
            "Colab notebook detected. To show errors in colab notebook, set debug=True in launch()\n",
            "* Running on public URL: https://b0b8928bd549f3854a.gradio.live\n",
            "\n",
            "This share link expires in 1 week. For free permanent hosting and GPU upgrades, run `gradio deploy` from the terminal in the working directory to deploy to Hugging Face Spaces (https://huggingface.co/spaces)\n"
          ]
        },
        {
          "output_type": "display_data",
          "data": {
            "text/plain": [
              "<IPython.core.display.HTML object>"
            ],
            "text/html": [
              "<div><iframe src=\"https://b0b8928bd549f3854a.gradio.live\" width=\"100%\" height=\"500\" allow=\"autoplay; camera; microphone; clipboard-read; clipboard-write;\" frameborder=\"0\" allowfullscreen></iframe></div>"
            ]
          },
          "metadata": {}
        },
        {
          "output_type": "execute_result",
          "data": {
            "text/plain": []
          },
          "metadata": {},
          "execution_count": 56
        }
      ]
    },
    {
      "cell_type": "markdown",
      "source": [
        "#Admin Panel UI"
      ],
      "metadata": {
        "id": "FlAKf8zaNs6P"
      }
    },
    {
      "cell_type": "code",
      "source": [
        "# Create the admin dashboard UI\n",
        "def create_admin_dashboard():\n",
        "    with gr.Blocks(title=\"Admin Dashboard\") as dashboard:\n",
        "        gr.Markdown(\"# Admin Dashboard\")\n",
        "\n",
        "        with gr.Tab(\"Index Management\"):\n",
        "            with gr.Row():\n",
        "                with gr.Column(scale=2):\n",
        "                    gr.Markdown(\"### Top 10 Most Searched Terms\")\n",
        "                    top_terms_output = gr.Dataframe(\n",
        "                        headers=[\"Rank\", \"Term\", \"Searches\"],\n",
        "                        row_count=10,\n",
        "                        interactive=False\n",
        "                    )\n",
        "\n",
        "                    refresh_top_terms = gr.Button(\"Refresh Top Terms\")\n",
        "\n",
        "                with gr.Column(scale=3):\n",
        "                    gr.Markdown(\"### Index Status\")\n",
        "                    index_status_md = gr.Markdown(\"\")\n",
        "\n",
        "                    with gr.Row():\n",
        "                        reindex_button = gr.Button(\"Re-index Content\", variant=\"primary\")\n",
        "                        refresh_index_status = gr.Button(\"Refresh Status\")\n",
        "\n",
        "                    index_action_output = gr.Textbox(label=\"Action Output\", lines=2)\n",
        "\n",
        "        with gr.Tab(\"MQTT Connection\"):\n",
        "            with gr.Row():\n",
        "                with gr.Column():\n",
        "                    gr.Markdown(\"### MQTT Broker Connection Status\")\n",
        "                    connection_status_md = gr.Markdown(\"\")\n",
        "\n",
        "                    reconnect_button = gr.Button(\"Reconnect to MQTT Broker\", variant=\"primary\")\n",
        "                    connection_output = gr.Textbox(label=\"Connection Output\", lines=2)\n",
        "\n",
        "                    # Add a refresh button specifically for manually updating the connection status\n",
        "                    refresh_connection_status = gr.Button(\"Refresh Connection Status\")\n",
        "\n",
        "        with gr.Tab(\"Search Engine\"):\n",
        "            search_interface.render()\n",
        "\n",
        "        # Initialize displayed data on load\n",
        "        def update_top_terms():\n",
        "            terms_with_counts = index_manager.get_top_search_terms()\n",
        "            data = []\n",
        "            for i, (term, count) in enumerate(terms_with_counts, 1):\n",
        "                data.append([i, term, f\"{count} Searches\"])\n",
        "            return pd.DataFrame(data, columns=[\"Rank\", \"Term\", \"Searches\"])\n",
        "\n",
        "        def update_index_status():\n",
        "            status = get_index_status()\n",
        "            return f\"**Word Count:** {status['word_count']}<br>**Page Count:** {status['page_count']}<br>**Last Indexed:** {status['last_indexed']}\"\n",
        "\n",
        "        def update_connection_status():\n",
        "            is_connected = get_mqtt_connection_status()\n",
        "            if is_connected:\n",
        "                return \"✅ Connected to MQTT Broker\"\n",
        "            else:\n",
        "                return \"❌ Disconnected from MQTT Broker\"\n",
        "\n",
        "        # Set up event handlers\n",
        "        refresh_top_terms.click(update_top_terms, outputs=top_terms_output)\n",
        "        refresh_index_status.click(update_index_status, outputs=index_status_md)\n",
        "        reindex_button.click(reindex_content, outputs=index_action_output)\n",
        "        reconnect_button.click(reconnect_mqtt, outputs=connection_output)\n",
        "        refresh_connection_status.click(update_connection_status, outputs=connection_status_md)\n",
        "\n",
        "\n",
        "        # Initialize the UI\n",
        "        dashboard.load(update_top_terms, outputs=top_terms_output)\n",
        "        dashboard.load(update_index_status, outputs=index_status_md)\n",
        "        dashboard.load(update_connection_status, outputs=connection_status_md)\n",
        "\n",
        "        return dashboard\n",
        "\n",
        "# Create the admin dashboard\n",
        "admin_dashboard = create_admin_dashboard()\n",
        "admin_dashboard.launch(inline=True)"
      ],
      "metadata": {
        "id": "Qo04PSwNr5qw"
      },
      "execution_count": null,
      "outputs": []
    },
    {
      "cell_type": "markdown",
      "source": [
        "#Search Engine UI"
      ],
      "metadata": {
        "id": "14KezAjR8jiR"
      }
    },
    {
      "cell_type": "code",
      "source": [
        "def search_word(query):\n",
        "    if not query:\n",
        "        return \"Please enter a search term\"\n",
        "\n",
        "    # Get the index from the database\n",
        "    dbService = DbService(DBLink)\n",
        "    index = dbService.get_from_db()\n",
        "\n",
        "    if not index:\n",
        "        return \"No index found in the database. Please run the indexing process first.\"\n",
        "\n",
        "    # Track search terms for analytics ############# check if works with multiple words!!!!!!!!!!!!!!!!!!!!!!!!\n",
        "    track_search_terms(query)\n",
        "\n",
        "    # Process the query - split into individual words\n",
        "    words = re.findall(r'\\w+', query.lower())\n",
        "\n",
        "    if not words:\n",
        "        return \"Please enter valid search terms\"\n",
        "\n",
        "    # Dictionary to track all found URLs and their related words\n",
        "    all_results = {}\n",
        "    # Dictionary to track word appearance counts\n",
        "    word_appearances = {}\n",
        "    # Keep track of words not found\n",
        "    words_not_found = []\n",
        "\n",
        "    # Search for each word in the index\n",
        "    for word in words:\n",
        "        if word in index:\n",
        "            urls = index[word][\"DocIDs\"]\n",
        "            appearances = index[word][\"Appearences\"]\n",
        "            word_appearances[word] = appearances\n",
        "\n",
        "            # Add each URL to the results dictionary\n",
        "            for url in urls:\n",
        "                if url in all_results:\n",
        "                    all_results[url].append(word)\n",
        "                else:\n",
        "                    all_results[url] = [word]\n",
        "        else:\n",
        "            words_not_found.append(word)\n",
        "\n",
        "    # Format the results\n",
        "    if not all_results:\n",
        "        return f\"No results found for any of the search terms: {', '.join(words)}\"\n",
        "\n",
        "    # Count the total number of URLs found and appearances\n",
        "    total_urls = len(all_results)\n",
        "    total_appearances = sum(word_appearances.values())\n",
        "\n",
        "    # Start building the result string\n",
        "    result = f\"Found {len(words) - len(words_not_found)} of {len(words)} search terms in {total_urls} pages with {total_appearances} total appearances:\\n\\n\"\n",
        "\n",
        "    # Sort results by number of matching words (most matches first)\n",
        "    sorted_results = sorted(all_results.items(), key=lambda x: len(x[1]), reverse=True)\n",
        "\n",
        "    for i, (url, found_words) in enumerate(sorted_results, 1):\n",
        "        result += f\"{i}. {url} \\n Contains words: \\t {', '.join(found_words)}\\n\\n\"\n",
        "\n",
        "    # Add information about words not found\n",
        "    if words_not_found:\n",
        "        result += f\"\\nTerms not found: {', '.join(words_not_found)}\"\n",
        "\n",
        "    return result\n",
        "\n",
        "# Create the Gradio interface for the search engine\n",
        "search_interface = gr.Interface(\n",
        "    fn=search_word,\n",
        "    inputs=gr.Textbox(placeholder=\"Enter words to search...\"),\n",
        "    outputs=gr.Textbox(label=\"Search Results\", lines=10),\n",
        "    title=\"Multi-Word Search Engine\",\n",
        "    description=\"Search for multiple words and find the URLs where they appear.\",\n",
        "    allow_flagging='never',\n",
        ")\n",
        "\n",
        "# Launch the search interface\n",
        "search_interface.launch(inline=True)"
      ],
      "metadata": {
        "colab": {
          "base_uri": "https://localhost:8080/",
          "height": 680
        },
        "id": "9TfPf3my4mXr",
        "outputId": "3043428f-70bf-45d8-da87-3f2df22fc90a"
      },
      "execution_count": 28,
      "outputs": [
        {
          "output_type": "stream",
          "name": "stderr",
          "text": [
            "/usr/local/lib/python3.11/dist-packages/gradio/interface.py:415: UserWarning: The `allow_flagging` parameter in `Interface` is deprecated.Use `flagging_mode` instead.\n",
            "  warnings.warn(\n"
          ]
        },
        {
          "output_type": "stream",
          "name": "stdout",
          "text": [
            "It looks like you are running Gradio on a hosted a Jupyter notebook. For the Gradio app to work, sharing must be enabled. Automatically setting `share=True` (you can turn this off by setting `share=False` in `launch()` explicitly).\n",
            "\n",
            "Colab notebook detected. To show errors in colab notebook, set debug=True in launch()\n",
            "* Running on public URL: https://34f3dcf06fcf927168.gradio.live\n",
            "\n",
            "This share link expires in 1 week. For free permanent hosting and GPU upgrades, run `gradio deploy` from the terminal in the working directory to deploy to Hugging Face Spaces (https://huggingface.co/spaces)\n"
          ]
        },
        {
          "output_type": "display_data",
          "data": {
            "text/plain": [
              "<IPython.core.display.HTML object>"
            ],
            "text/html": [
              "<div><iframe src=\"https://34f3dcf06fcf927168.gradio.live\" width=\"100%\" height=\"500\" allow=\"autoplay; camera; microphone; clipboard-read; clipboard-write;\" frameborder=\"0\" allowfullscreen></iframe></div>"
            ]
          },
          "metadata": {}
        },
        {
          "output_type": "execute_result",
          "data": {
            "text/plain": []
          },
          "metadata": {},
          "execution_count": 28
        }
      ]
    },
    {
      "cell_type": "markdown",
      "source": [
        "# UI"
      ],
      "metadata": {
        "id": "YwHW4vX0rsJm"
      }
    },
    {
      "cell_type": "code",
      "source": [
        "\n",
        "# Sensor data pulling from DB for indoors\n",
        "data_indoor = FBconn.get('/Data/indoor',None)\n",
        "data_keys_indoor = list(data_indoor.keys())\n",
        "data_values_indoor = list(data_indoor.values())\n",
        "readable_times_indoor = [datetime.utcfromtimestamp(int(ts)).strftime('%H:%M:%S') for ts in data_keys_indoor]\n",
        "\n",
        "#Sensor data pulling form DB for outdoors\n",
        "data_outdoor = FBconn.get('/Data/outdoor',None)\n",
        "data_keys_outdoor = list(data_outdoor.keys())\n",
        "data_values_outdoor = list(data_outdoor.values())\n",
        "readable_times_outdoor = [datetime.utcfromtimestamp(int(ts)).strftime('%H:%M:%S') for ts in data_keys_outdoor]\n",
        "\n",
        "enviorment = ['indoor','outdoor']\n",
        "sensors = {'indoor':['Distance','Temperature','Humidity','Pressure'] , 'outdoor':['DLIGHT']}\n",
        "dropdown_env = None\n",
        "dropdown_sensor = None\n",
        "#updates Dropbox values\n",
        "def rs_change(rs):\n",
        "  return gr.Dropdown(choices = sensors[rs],value=sensors[rs][0])\n",
        "\n",
        "# Data visualization\n",
        "def plot_graph(place,name):\n",
        "    if place == 'indoor':\n",
        "      val_arr = [value[name] for value in data_values_indoor]\n",
        "      fig = go.Figure()\n",
        "      fig.add_trace(go.Scatter(x=readable_times_indoor, y=val_arr, mode='lines+markers', name=name))\n",
        "      fig.update_layout(title='Sensor {} Over Time'.format(name), xaxis_title='Time', yaxis_title=name)\n",
        "    elif place == 'outdoor':\n",
        "      val_arr = [value[name] for value in data_values_outdoor]\n",
        "      fig = go.Figure()\n",
        "      fig.add_trace(go.Scatter(x=readable_times_outdoor, y=val_arr, mode='lines+markers', name=name))\n",
        "      fig.update_layout(title='Sensor {} Over Time'.format(name), xaxis_title='Time', yaxis_title=name)\n",
        "    return fig\n",
        "\n",
        "with gr.Blocks() as app:\n",
        "\n",
        "  rs = gr.Dropdown(choices = enviorment, value='indoor')\n",
        "  rs_sensors = gr.Dropdown(choices = sensors['indoor'],interactive = True)\n",
        "\n",
        "  rs.change(fn=rs_change, inputs=rs, outputs=rs_sensors)\n",
        "  #chk = gr.Dropdown(choices = readable_times_outdoor,interactive = True) for time\n",
        "  pl = gr.Interface(fn=plot_graph, inputs=[rs ,rs_sensors], outputs=gr.Plot(label=\"Graph\"))\n",
        "\n",
        "\n",
        "# Gradio interface\n",
        "#gr.Interface(fn=plot_graph, inputs=[rs ,rs_sensors], outputs=gr.Plot(label=\"Graph\"))\n",
        "\n",
        "app.launch(inline=True)"
      ],
      "metadata": {
        "id": "187M2pIshCVs"
      },
      "execution_count": null,
      "outputs": []
    },
    {
      "cell_type": "code",
      "source": [
        "import gradio as gr\n",
        "\n",
        "# User's initial profile\n",
        "name = \"Bob\"\n",
        "coins = 2500\n",
        "\n",
        "# Create the Gradio interface\n",
        "with gr.Blocks(theme=gr.themes.Citrus()) as shop:\n",
        "    gr.Markdown(\"## 🛒 Shop\")\n",
        "    Total_coins_state = gr.State(coins)\n",
        "\n",
        "    # User greeting and current coin display\n",
        "    with gr.Row():\n",
        "        gr.Markdown(f\"Welcome **{name}**\")\n",
        "        current_coins=gr.Markdown(f\"Coins: **{coins}** 💰\")\n",
        "    # Checkbox group for selecting rewards\n",
        "    cart = gr.State([])\n",
        "    items_to_add = gr.CheckboxGroup(\n",
        "        [\"Free Coffee ☕️ :50 coins\", \"Free Meal 🍔 :100 coins\", \"Pizza Party 🍕 :200 coins\", \"Water Park 💧 :300 coins\", \"Day Off 😄 :400 coins\"],\n",
        "        label=\"Choose Items to Add\"\n",
        "    )\n",
        "\n",
        "    with gr.Row():\n",
        "        add_button = gr.Button(\"➕ Add Items to Cart\", variant=\"primary\", size=\"lg\")\n",
        "        delete_button = gr.Button(\"❌ Clear Cart\", variant=\"secondary\")\n",
        "    cart_display = gr.Markdown(\"🛒 **Cart is empty**\")\n",
        "    cart_size = gr.Number(label=\"Cart Size\", interactive=False)\n",
        "    checkout_result = gr.Markdown(\"\")\n",
        "\n",
        "    #returns a string of all items of the cart, or if it's empty returns empty cart\n",
        "    def format_cart(cart_list):\n",
        "        if not cart_list:\n",
        "            return \"🛒 **Cart is empty**\"\n",
        "        return \"🛒 **Your Cart:**\\n\" + \"\\n\".join([f\"- {item}\" for item in cart_list])\n",
        "    #adds items to the cart\n",
        "    def add_items(new_items, previous_cart):\n",
        "        new_cart = previous_cart + new_items\n",
        "        return new_cart, format_cart(new_cart), len(new_cart)\n",
        "\n",
        "    #initiates checkout, sums the toal cost of all items, returns what was boughts and substracts from the user's coins\n",
        "    def checkout(cart,total_coins):\n",
        "        if not cart:\n",
        "            return \"❌ Your cart is empty!\"\n",
        "        messages = [\"🧾 **Checkout Summary:**\"]\n",
        "        total_cost = 0\n",
        "        for item in cart:\n",
        "            match item:\n",
        "                case \"Free Coffee ☕️ :50 coins\":\n",
        "                    messages.append(\"☕️ Coffee - 50 coins\")\n",
        "                    total_cost += 50\n",
        "                case \"Free Meal 🍔 :100 coins\":\n",
        "                    messages.append(\"🍔 Meal - 100 coins\")\n",
        "                    total_cost += 100\n",
        "                case \"Pizza Party 🍕 :200 coins\":\n",
        "                    messages.append(\"🍕 Pizza - 200 coins\")\n",
        "                    total_cost += 200\n",
        "                case \"Water Park 💧 :300 coins\":\n",
        "                    messages.append(\"💧 Water Park - 300 coins\")\n",
        "                    total_cost += 300\n",
        "                case \"Day Off 😄 :400 coins\":\n",
        "                    messages.append(\"😄 Day Off - 400 coins\")\n",
        "                    total_cost += 400\n",
        "                case _:\n",
        "                    messages.append(f\"❓ Unknown item: {item}\")\n",
        "\n",
        "        #checks if the total sum of items in the cart is samller then the amount of coins of the user has right now\n",
        "        if total_cost > total_coins:\n",
        "            return \"❌ Not enough coins to complete the purchase!\",[],format_cart([]),0,total_coins,gr.update(value=f\"Coins: **{total_coins}** 💰\")\n",
        "        messages.append(f\"\\n💰 **Total Cost:** {total_cost} coins\")\n",
        "        return \"\\n\".join(messages),[],format_cart([]),0,total_coins-total_cost,gr.update(value=f\"Coins: **{total_coins-total_cost}** 💰\")\n",
        "\n",
        "    #clears the cart\n",
        "    def delete_cart(cart):\n",
        "        return [], \"🛒 **Cart is empty**\", 0\n",
        "\n",
        "    with gr.Row():\n",
        "      checkout_button = gr.Button(\"✅ Checkout\", variant=\"secondary\")\n",
        "\n",
        "    add_button.click(\n",
        "        fn=add_items,\n",
        "        inputs=[items_to_add, cart],\n",
        "        outputs=[cart, cart_display, cart_size]\n",
        "    )\n",
        "\n",
        "    checkout_button.click(\n",
        "        fn=checkout,\n",
        "        inputs=[cart,Total_coins_state],\n",
        "        outputs=[checkout_result,cart,cart_display,cart_size,Total_coins_state,current_coins]\n",
        "    )\n",
        "\n",
        "    delete_button.click(\n",
        "        fn=delete_cart,\n",
        "        inputs=[cart],\n",
        "        outputs=[cart, cart_display, cart_size]\n",
        "    )\n",
        "\n",
        "shop.launch()\n"
      ],
      "metadata": {
        "id": "oytOqwmM_4hl"
      },
      "execution_count": null,
      "outputs": []
    }
  ]
}