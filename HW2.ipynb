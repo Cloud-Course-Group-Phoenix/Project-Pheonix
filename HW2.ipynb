{
  "nbformat": 4,
  "nbformat_minor": 0,
  "metadata": {
    "colab": {
      "provenance": [],
      "include_colab_link": true
    },
    "kernelspec": {
      "name": "python3",
      "display_name": "Python 3"
    },
    "language_info": {
      "name": "python"
    }
  },
  "cells": [
    {
      "cell_type": "markdown",
      "metadata": {
        "id": "view-in-github",
        "colab_type": "text"
      },
      "source": [
        "<a href=\"https://colab.research.google.com/github/Cloud-Course-Group-Phoenix/Project-Pheonix/blob/main/HW2.ipynb\" target=\"_parent\"><img src=\"https://colab.research.google.com/assets/colab-badge.svg\" alt=\"Open In Colab\"/></a>"
      ]
    },
    {
      "cell_type": "markdown",
      "source": [
        "# Imports and Package installations"
      ],
      "metadata": {
        "id": "dcnWzreI_3vK"
      }
    },
    {
      "cell_type": "code",
      "source": [
        "# pip installs\n",
        "!pip install firebase\n",
        "!pip install gradio\n",
        "!pip install paho-mqtt\n",
        "\n",
        "#================================= make sure all pip installs are above this line ============================================\n",
        "\n",
        "# import to clear the installation code output\n",
        "from IPython.display import clear_output\n",
        "clear_output()"
      ],
      "metadata": {
        "id": "jVQsBoLZs6zd"
      },
      "execution_count": null,
      "outputs": []
    },
    {
      "cell_type": "code",
      "source": [
        "#imports\n",
        "import gradio as gr\n",
        "import json\n",
        "import time\n",
        "from firebase import firebase\n",
        "import paho.mqtt.client as mqtt"
      ],
      "metadata": {
        "id": "stAxnFFt27_y"
      },
      "execution_count": null,
      "outputs": []
    },
    {
      "cell_type": "markdown",
      "source": [
        "# Admin panel functions"
      ],
      "metadata": {
        "id": "NX3opH8Nr0qq"
      }
    },
    {
      "cell_type": "code",
      "source": [],
      "metadata": {
        "id": "Qo04PSwNr5qw"
      },
      "execution_count": null,
      "outputs": []
    },
    {
      "cell_type": "markdown",
      "source": [
        "# Index and search engine"
      ],
      "metadata": {
        "id": "IHJCMr7qrwDZ"
      }
    },
    {
      "cell_type": "code",
      "source": [],
      "metadata": {
        "id": "tu4wr_EOr5Si"
      },
      "execution_count": null,
      "outputs": []
    },
    {
      "cell_type": "markdown",
      "source": [
        "# Sensor data caching and processing"
      ],
      "metadata": {
        "id": "Hcrgrrw_qF5N"
      }
    },
    {
      "cell_type": "code",
      "execution_count": 10,
      "metadata": {
        "id": "LUN71RiATiOl",
        "colab": {
          "base_uri": "https://localhost:8080/"
        },
        "outputId": "9e732175-d063-4dda-a3ca-bf0c6344f2a3",
        "collapsed": true
      },
      "outputs": [
        {
          "output_type": "stream",
          "name": "stderr",
          "text": [
            "<ipython-input-10-7e7aa236abcb>:69: DeprecationWarning: Callback API version 1 is deprecated, update to latest version\n",
            "  client = mqtt.Client()\n"
          ]
        },
        {
          "output_type": "stream",
          "name": "stdout",
          "text": [
            "Connected to MQTT Broker!\n",
            "Subscribing to topics\n",
            "Successfully subscribed to topics!\n",
            "Received JSON message on topic 'braude/D106/indoor': {\"Temperature\": 27.0, \"Humidity\": 76.7, \"Distance\": 84.5}\n",
            "Parsed JSON data: {'Temperature': 27.0, 'Humidity': 76.7, 'Distance': 84.5}\n",
            "Temperature: 76.7°C\n",
            "Humidity: 27.0%\n",
            "Pressure: 84.5 cm\n",
            "Received JSON message on topic 'braude/D106/indoor': {\"Temperature\": 27.0, \"Humidity\": 76.7, \"Distance\": 84.5}\n",
            "Parsed JSON data: {'Temperature': 27.0, 'Humidity': 76.7, 'Distance': 84.5}\n",
            "Temperature: 76.7°C\n",
            "Humidity: 27.0%\n",
            "Pressure: 84.5 cm\n",
            "Received JSON message on topic 'braude/D106/indoor': {\"Temperature\": 29.1, \"Humidity\": 56.9, \"Distance\": 81.3}Received JSON message on topic 'braude/D106/indoor': {\"Temperature\": 29.1, \"Humidity\": 56.9, \"Distance\": 81.3}\n",
            "Parsed JSON data: {'Temperature': 29.1, 'Humidity': 56.9, 'Distance': 81.3}\n",
            "Temperature: 56.9°C\n",
            "Humidity: 29.1%\n",
            "Pressure: 81.3 cm\n",
            "\n",
            "Parsed JSON data: {'Temperature': 29.1, 'Humidity': 56.9, 'Distance': 81.3}\n",
            "Temperature: 56.9°C\n",
            "Humidity: 29.1%\n",
            "Pressure: 81.3 cm\n",
            "Received JSON message on topic 'braude/D106/indoor': {\"Temperature\": 28.6, \"Humidity\": 72.9, \"Distance\": 59.2}\n",
            "Parsed JSON data: {'Temperature': 28.6, 'Humidity': 72.9, 'Distance': 59.2}\n",
            "Temperature: 72.9°C\n",
            "Humidity: 28.6%\n",
            "Pressure: 59.2 cm\n",
            "Received JSON message on topic 'braude/D106/indoor': {\"Temperature\": 28.6, \"Humidity\": 72.9, \"Distance\": 59.2}\n",
            "Parsed JSON data: {'Temperature': 28.6, 'Humidity': 72.9, 'Distance': 59.2}\n",
            "Temperature: 72.9°C\n",
            "Humidity: 28.6%\n",
            "Pressure: 59.2 cm\n",
            "Received JSON message on topic 'braude/D106/indoor': {\"Temperature\": 26.4, \"Humidity\": 34.7, \"Distance\": 40.9}\n",
            "Parsed JSON data: {'Temperature': 26.4, 'Humidity': 34.7, 'Distance': 40.9}\n",
            "Temperature: 34.7°C\n",
            "Humidity: 26.4%\n",
            "Pressure: 40.9 cm\n",
            "Received JSON message on topic 'braude/D106/indoor': {\"Temperature\": 26.4, \"Humidity\": 34.7, \"Distance\": 40.9}\n",
            "Parsed JSON data: {'Temperature': 26.4, 'Humidity': 34.7, 'Distance': 40.9}\n",
            "Temperature: 34.7°C\n",
            "Humidity: 26.4%\n",
            "Pressure: 40.9 cm\n",
            "Received JSON message on topic 'braude/D106/indoor': {\"Temperature\": 17.9, \"Humidity\": 42.1, \"Distance\": 60.0}\n",
            "Parsed JSON data: {'Temperature': 17.9, 'Humidity': 42.1, 'Distance': 60.0}\n",
            "Temperature: 42.1°C\n",
            "Humidity: 17.9%\n",
            "Pressure: 60.0 cm\n",
            "Received JSON message on topic 'braude/D106/indoor': {\"Temperature\": 17.9, \"Humidity\": 42.1, \"Distance\": 60.0}\n",
            "Parsed JSON data: {'Temperature': 17.9, 'Humidity': 42.1, 'Distance': 60.0}\n",
            "Temperature: 42.1°C\n",
            "Humidity: 17.9%\n",
            "Pressure: 60.0 cm\n",
            "Received JSON message on topic 'braude/D106/indoor': {\"Temperature\": 26.3, \"Humidity\": 58.5, \"Distance\": 25.8}\n",
            "Parsed JSON data: {'Temperature': 26.3, 'Humidity': 58.5, 'Distance': 25.8}\n",
            "Temperature: 58.5°C\n",
            "Humidity: 26.3%\n",
            "Pressure: 25.8 cm\n",
            "Received JSON message on topic 'braude/D106/indoor': {\"Temperature\": 26.3, \"Humidity\": 58.5, \"Distance\": 25.8}\n",
            "Parsed JSON data: {'Temperature': 26.3, 'Humidity': 58.5, 'Distance': 25.8}\n",
            "Temperature: 58.5°C\n",
            "Humidity: 26.3%\n",
            "Pressure: 25.8 cm\n"
          ]
        },
        {
          "output_type": "execute_result",
          "data": {
            "text/plain": [
              "<MQTTErrorCode.MQTT_ERR_SUCCESS: 0>"
            ]
          },
          "metadata": {},
          "execution_count": 10
        }
      ],
      "source": [
        "# Data proccessing\n",
        "#def process_data(data):\n",
        "\n",
        "\n",
        "# Data saving in DB\n",
        "# def send_to_db(data):\n",
        "#   return\n",
        "\n",
        "# create an mqtt connection\n",
        "def on_connect(client, userdata, flags, rc):\n",
        "  if rc == 0:\n",
        "    print(\"Connected to MQTT Broker!\\nSubscribing to topics\")\n",
        "\n",
        "    # Subscribe to the relevant topics\n",
        "    client.subscribe(\"braude/D106/indoor\")\n",
        "    client.subscribe(\"braude/D106/outdoor\")\n",
        "\n",
        "    print(\"Successfully subscribed to topics!\")\n",
        "  else:\n",
        "    print(f\"Failed to connect, return code {rc}\")\n",
        "\n",
        "def on_disconnect(client, userdata, rc):\n",
        "  if rc != 0:\n",
        "    for i in range(5):\n",
        "      print(f\"Unexpected disconnection (error code: {rc}). Attempting to reconnect number {i + 1} in 5 seconds...\")\n",
        "      time.sleep(5)\n",
        "      try:\n",
        "        client.reconnect()\n",
        "      except Exception as e:\n",
        "        print(f\"Reconnection attempt failed: {e}\")\n",
        "\n",
        "def on_message(client, userdata, msg):\n",
        "\n",
        "  topic = msg.topic\n",
        "  payload = msg.payload.decode('utf-8')  # Decode the byte string to a string\n",
        "\n",
        "  print(f\"Received JSON message on topic '{topic}': {payload}\")\n",
        "\n",
        "  try:\n",
        "    sensor_data = json.loads(payload)\n",
        "    print(f\"Parsed JSON data: {sensor_data}\")\n",
        "\n",
        "#==============   replace with \"proccess data\" later =================\n",
        "    if topic == \"braude/D106/indoor\":\n",
        "      temperature = sensor_data.get(\"Humidity\")\n",
        "      humidity = sensor_data.get(\"Temperature\")\n",
        "      pressure = sensor_data.get(\"Pressure\")\n",
        "      distance = sensor_data.get(\"Distance\")\n",
        "      if temperature is not None:\n",
        "        print(f\"Temperature: {temperature}°C\")\n",
        "      if humidity is not None:\n",
        "        print(f\"Humidity: {humidity}%\")\n",
        "      if pressure is not None:\n",
        "        print(f\"Pressure: {pressure} hPa\")\n",
        "      if distance is not None:\n",
        "        print(f\"Pressure: {distance} cm\")\n",
        "\n",
        "    elif topic == \"braude/D106/outdoor\":\n",
        "      dlight = sensor_data.get(\"dlight\")\n",
        "\n",
        "      if dlight is not None:\n",
        "        print(f\"dlight: {dlight}\")\n",
        "\n",
        "  except json.JSONDecodeError as e:\n",
        "    print(f\"Error decoding JSON: {e}\")\n",
        "    print(f\"Problematic payload: {payload}\")\n",
        "\n",
        "# connect to the MQTT publisher\n",
        "client = mqtt.Client()\n",
        "client.on_connect = on_connect\n",
        "client.on_disconnect = on_disconnect\n",
        "client.on_message = on_message\n",
        "client.connect(\"broker.hivemq.com\", 1883, keepalive = 600)\n",
        "client.loop_start()\n",
        "\n",
        "time.sleep(5)\n",
        "\n",
        "client.loop_stop()\n",
        "client.disconnect()"
      ]
    },
    {
      "cell_type": "markdown",
      "source": [
        "# Screens"
      ],
      "metadata": {
        "id": "YwHW4vX0rsJm"
      }
    },
    {
      "cell_type": "code",
      "source": [
        "# Sensor data pulling from DB\n",
        "\n",
        "\n",
        "# Data visualization\n",
        "\n"
      ],
      "metadata": {
        "id": "FWaIWGy0rCBG"
      },
      "execution_count": null,
      "outputs": []
    }
  ]
}