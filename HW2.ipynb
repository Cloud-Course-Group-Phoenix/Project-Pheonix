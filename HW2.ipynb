{
  "nbformat": 4,
  "nbformat_minor": 0,
  "metadata": {
    "colab": {
      "provenance": [],
      "toc_visible": true,
      "include_colab_link": true
    },
    "kernelspec": {
      "name": "python3",
      "display_name": "Python 3"
    },
    "language_info": {
      "name": "python"
    }
  },
  "cells": [
    {
      "cell_type": "markdown",
      "metadata": {
        "id": "view-in-github",
        "colab_type": "text"
      },
      "source": [
        "<a href=\"https://colab.research.google.com/github/Cloud-Course-Group-Phoenix/Project-Pheonix/blob/main/HW2.ipynb\" target=\"_parent\"><img src=\"https://colab.research.google.com/assets/colab-badge.svg\" alt=\"Open In Colab\"/></a>"
      ]
    },
    {
      "cell_type": "code",
      "source": [
        "# pip installs\n",
        "!pip install firebase\n",
        "!pip install gradio\n",
        "!pip install paho-mqtt\n",
        "\n",
        "# make sure all pip installs are above this line\n",
        "# import to clear the installation code output\n",
        "from IPython.display import clear_output\n",
        "clear_output()\n",
        "\n",
        "#imports\n",
        "import gradio as gr"
      ],
      "metadata": {
        "id": "jVQsBoLZs6zd"
      },
      "execution_count": 7,
      "outputs": []
    },
    {
      "cell_type": "markdown",
      "source": [
        "# Admin panel functions"
      ],
      "metadata": {
        "id": "NX3opH8Nr0qq"
      }
    },
    {
      "cell_type": "code",
      "source": [],
      "metadata": {
        "id": "Qo04PSwNr5qw"
      },
      "execution_count": null,
      "outputs": []
    },
    {
      "cell_type": "markdown",
      "source": [
        "# Index and search engine"
      ],
      "metadata": {
        "id": "IHJCMr7qrwDZ"
      }
    },
    {
      "cell_type": "code",
      "source": [],
      "metadata": {
        "id": "tu4wr_EOr5Si"
      },
      "execution_count": null,
      "outputs": []
    },
    {
      "cell_type": "markdown",
      "source": [
        "# Sensor data caching and processing"
      ],
      "metadata": {
        "id": "Hcrgrrw_qF5N"
      }
    },
    {
      "cell_type": "code",
      "source": [
        "# Imports\n",
        "from firebase import firebase\n",
        "import paho.mqtt.client as mqtt"
      ],
      "metadata": {
        "id": "rWL8OKLIrag8"
      },
      "execution_count": 10,
      "outputs": []
    },
    {
      "cell_type": "code",
      "source": [
        "# create an mqtt connection\n",
        "def on_connect(client, userdata, flags, rc):\n",
        "    if rc == 0:\n",
        "        print(\"Connected to MQTT Broker!\")\n",
        "        # Subscribe to the topic(s) you are interested in\n",
        "        client.subscribe(\"your/sensor/topic\")  # Replace with your actual topic\n",
        "    else:\n",
        "        print(f\"Failed to connect, return code {rc}\")\n",
        "\n",
        "# closes the mqtt connection\n",
        "def on_disconnect(client, userdata, rc):\n",
        "    if rc != 0:\n",
        "        print(\"Unexpected disconnection.\")"
      ],
      "metadata": {
        "id": "iXOTODDjvm9m"
      },
      "execution_count": 8,
      "outputs": []
    },
    {
      "cell_type": "code",
      "execution_count": 13,
      "metadata": {
        "id": "LUN71RiATiOl",
        "colab": {
          "base_uri": "https://localhost:8080/"
        },
        "outputId": "30cf5cf6-ceba-4f21-9579-d16feb17f6c6"
      },
      "outputs": [
        {
          "output_type": "stream",
          "name": "stderr",
          "text": [
            "<ipython-input-13-c9023e5605a1>:39: DeprecationWarning: Callback API version 1 is deprecated, update to latest version\n",
            "  client = mqtt.Client()\n"
          ]
        },
        {
          "output_type": "execute_result",
          "data": {
            "text/plain": [
              "<MQTTErrorCode.MQTT_ERR_SUCCESS: 0>"
            ]
          },
          "metadata": {},
          "execution_count": 13
        }
      ],
      "source": [
        "# Data proccessing\n",
        "def process_data(data):\n",
        "  return\n",
        "\n",
        "# Data saving in DB\n",
        "def send_to_server(data):\n",
        "  return\n",
        "\n",
        "def on_message(client, userdata, msg):\n",
        "    payload = msg.payload\n",
        "    print(f\"Raw payload: {payload}\")\n",
        "\n",
        "    # Decode the payload (assuming it's UTF-8 encoded text)\n",
        "    try:\n",
        "        decoded_payload = payload.decode('utf-8')\n",
        "        print(f\"Decoded payload: {decoded_payload}\")\n",
        "\n",
        "        # If the data is in JSON format, parse it\n",
        "        import json\n",
        "        try:\n",
        "            sensor_data = json.loads(decoded_payload)\n",
        "            print(f\"Parsed JSON data: {sensor_data}\")\n",
        "            # Now you can access individual values from the dictionary\n",
        "            if topic == \"temperature/sensor1\":\n",
        "                temperature = sensor_data.get(\"temperature\")\n",
        "                if temperature is not None:\n",
        "                    print(f\"Temperature reading: {temperature}°C\")\n",
        "            elif topic == \"humidity/sensor1\":\n",
        "                humidity = sensor_data.get(\"humidity\")\n",
        "                if humidity is not None:\n",
        "                    print(f\"Humidity reading: {humidity}%\")\n",
        "        except json.JSONDecodeError:\n",
        "            print(\"Payload is not valid JSON.\")\n",
        "\n",
        "    except UnicodeDecodeError:\n",
        "        print(\"Payload is not valid UTF-8.\")\n",
        "\n",
        "# connect to the MQTT publisher\n",
        "client = mqtt.Client()\n",
        "client.on_connect = on_connect\n",
        "client.on_disconnect = on_disconnect\n",
        "client.on_message = on_message\n",
        "client.connect(\"test.mosquitto.org\", 1883, 60)\n",
        "client.loop_start()"
      ]
    },
    {
      "cell_type": "markdown",
      "source": [
        "# Screens"
      ],
      "metadata": {
        "id": "YwHW4vX0rsJm"
      }
    },
    {
      "cell_type": "code",
      "source": [
        "# Sensor data pulling from DB\n",
        "\n",
        "\n",
        "# Data visualization\n",
        "\n"
      ],
      "metadata": {
        "id": "FWaIWGy0rCBG"
      },
      "execution_count": null,
      "outputs": []
    }
  ]
}