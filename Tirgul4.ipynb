{
  "nbformat": 4,
  "nbformat_minor": 0,
  "metadata": {
    "colab": {
      "provenance": [],
      "authorship_tag": "ABX9TyNs2bCzGxBwkLB4/5qyGPwB",
      "include_colab_link": true
    },
    "kernelspec": {
      "name": "python3",
      "display_name": "Python 3"
    },
    "language_info": {
      "name": "python"
    },
    "widgets": {
      "application/vnd.jupyter.widget-state+json": {
        "0cd843ad516448018084bfb8dca7f0ca": {
          "model_module": "@jupyter-widgets/controls",
          "model_name": "TabModel",
          "model_module_version": "1.5.0",
          "state": {
            "_dom_classes": [],
            "_model_module": "@jupyter-widgets/controls",
            "_model_module_version": "1.5.0",
            "_model_name": "TabModel",
            "_titles": {
              "0": "Tab 1: Data Overview",
              "1": "Tab 2: Raw Data",
              "2": "Tab 3: Charts"
            },
            "_view_count": null,
            "_view_module": "@jupyter-widgets/controls",
            "_view_module_version": "1.5.0",
            "_view_name": "TabView",
            "box_style": "",
            "children": [
              "IPY_MODEL_dcd16ad40a644f21a1ff033696e5acb3",
              "IPY_MODEL_a0840e33d8384528afabd2231a69d31d",
              "IPY_MODEL_9762d18d046844ab8f0729850d5f4311"
            ],
            "layout": "IPY_MODEL_59e71c57aa1149e68349b4ac40605e40",
            "selected_index": 1
          }
        },
        "dcd16ad40a644f21a1ff033696e5acb3": {
          "model_module": "@jupyter-widgets/output",
          "model_name": "OutputModel",
          "model_module_version": "1.0.0",
          "state": {
            "_dom_classes": [],
            "_model_module": "@jupyter-widgets/output",
            "_model_module_version": "1.0.0",
            "_model_name": "OutputModel",
            "_view_count": null,
            "_view_module": "@jupyter-widgets/output",
            "_view_module_version": "1.0.0",
            "_view_name": "OutputView",
            "layout": "IPY_MODEL_d6ae16ebcdd346d3b54502f791f8e11c",
            "msg_id": "",
            "outputs": [
              {
                "output_type": "stream",
                "name": "stdout",
                "text": [
                  "Data Overview:\n"
                ]
              },
              {
                "output_type": "display_data",
                "data": {
                  "text/plain": "                _id  mispar_rechev    tozeret_cd      degem_cd  \\\ncount  32000.000000   3.200000e+04  32000.000000  32000.000000   \nmean   16000.500000   1.314576e+07    596.867031    475.701875   \nstd     9237.748643   1.856323e+07    259.427908    597.210795   \nmin        1.000000   1.000263e+06     19.000000      1.000000   \n25%     8000.750000   4.183946e+06    413.000000     75.000000   \n50%    16000.500000   6.806477e+06    588.000000    292.000000   \n75%    24000.250000   9.111006e+06    731.000000    651.000000   \nmax    32000.000000   9.255030e+07   1629.000000   8710.000000   \n\n       ramat_eivzur_betihuty  kvutzat_zihum  shnat_yitzur      tzeva_cd  \\\ncount            6090.000000   22692.000000  32000.000000  32000.000000   \nmean                3.929228      13.462322   2011.471937     43.422625   \nstd                 2.210714       3.562736      6.755698     27.556634   \nmin                 1.000000       1.000000   1996.000000      0.000000   \n25%                 2.000000      15.000000   2008.000000     25.000000   \n50%                 4.000000      15.000000   2009.000000     29.000000   \n75%                 6.000000      15.000000   2012.000000     80.000000   \nmax                 8.000000      15.000000   2025.000000     99.000000   \n\n       horaat_rishum  \ncount    7775.000000  \nmean   211421.831768  \nstd     39850.910749  \nmin     11095.000000  \n25%    200330.000000  \n50%    220223.000000  \n75%    240215.500000  \nmax    999998.000000  ",
                  "text/html": "\n  <div id=\"df-05fa50f5-186e-42c0-9ff7-cb512fa9112c\" class=\"colab-df-container\">\n    <div>\n<style scoped>\n    .dataframe tbody tr th:only-of-type {\n        vertical-align: middle;\n    }\n\n    .dataframe tbody tr th {\n        vertical-align: top;\n    }\n\n    .dataframe thead th {\n        text-align: right;\n    }\n</style>\n<table border=\"1\" class=\"dataframe\">\n  <thead>\n    <tr style=\"text-align: right;\">\n      <th></th>\n      <th>_id</th>\n      <th>mispar_rechev</th>\n      <th>tozeret_cd</th>\n      <th>degem_cd</th>\n      <th>ramat_eivzur_betihuty</th>\n      <th>kvutzat_zihum</th>\n      <th>shnat_yitzur</th>\n      <th>tzeva_cd</th>\n      <th>horaat_rishum</th>\n    </tr>\n  </thead>\n  <tbody>\n    <tr>\n      <th>count</th>\n      <td>32000.000000</td>\n      <td>3.200000e+04</td>\n      <td>32000.000000</td>\n      <td>32000.000000</td>\n      <td>6090.000000</td>\n      <td>22692.000000</td>\n      <td>32000.000000</td>\n      <td>32000.000000</td>\n      <td>7775.000000</td>\n    </tr>\n    <tr>\n      <th>mean</th>\n      <td>16000.500000</td>\n      <td>1.314576e+07</td>\n      <td>596.867031</td>\n      <td>475.701875</td>\n      <td>3.929228</td>\n      <td>13.462322</td>\n      <td>2011.471937</td>\n      <td>43.422625</td>\n      <td>211421.831768</td>\n    </tr>\n    <tr>\n      <th>std</th>\n      <td>9237.748643</td>\n      <td>1.856323e+07</td>\n      <td>259.427908</td>\n      <td>597.210795</td>\n      <td>2.210714</td>\n      <td>3.562736</td>\n      <td>6.755698</td>\n      <td>27.556634</td>\n      <td>39850.910749</td>\n    </tr>\n    <tr>\n      <th>min</th>\n      <td>1.000000</td>\n      <td>1.000263e+06</td>\n      <td>19.000000</td>\n      <td>1.000000</td>\n      <td>1.000000</td>\n      <td>1.000000</td>\n      <td>1996.000000</td>\n      <td>0.000000</td>\n      <td>11095.000000</td>\n    </tr>\n    <tr>\n      <th>25%</th>\n      <td>8000.750000</td>\n      <td>4.183946e+06</td>\n      <td>413.000000</td>\n      <td>75.000000</td>\n      <td>2.000000</td>\n      <td>15.000000</td>\n      <td>2008.000000</td>\n      <td>25.000000</td>\n      <td>200330.000000</td>\n    </tr>\n    <tr>\n      <th>50%</th>\n      <td>16000.500000</td>\n      <td>6.806477e+06</td>\n      <td>588.000000</td>\n      <td>292.000000</td>\n      <td>4.000000</td>\n      <td>15.000000</td>\n      <td>2009.000000</td>\n      <td>29.000000</td>\n      <td>220223.000000</td>\n    </tr>\n    <tr>\n      <th>75%</th>\n      <td>24000.250000</td>\n      <td>9.111006e+06</td>\n      <td>731.000000</td>\n      <td>651.000000</td>\n      <td>6.000000</td>\n      <td>15.000000</td>\n      <td>2012.000000</td>\n      <td>80.000000</td>\n      <td>240215.500000</td>\n    </tr>\n    <tr>\n      <th>max</th>\n      <td>32000.000000</td>\n      <td>9.255030e+07</td>\n      <td>1629.000000</td>\n      <td>8710.000000</td>\n      <td>8.000000</td>\n      <td>15.000000</td>\n      <td>2025.000000</td>\n      <td>99.000000</td>\n      <td>999998.000000</td>\n    </tr>\n  </tbody>\n</table>\n</div>\n    <div class=\"colab-df-buttons\">\n\n  <div class=\"colab-df-container\">\n    <button class=\"colab-df-convert\" onclick=\"convertToInteractive('df-05fa50f5-186e-42c0-9ff7-cb512fa9112c')\"\n            title=\"Convert this dataframe to an interactive table.\"\n            style=\"display:none;\">\n\n  <svg xmlns=\"http://www.w3.org/2000/svg\" height=\"24px\" viewBox=\"0 -960 960 960\">\n    <path d=\"M120-120v-720h720v720H120Zm60-500h600v-160H180v160Zm220 220h160v-160H400v160Zm0 220h160v-160H400v160ZM180-400h160v-160H180v160Zm440 0h160v-160H620v160ZM180-180h160v-160H180v160Zm440 0h160v-160H620v160Z\"/>\n  </svg>\n    </button>\n\n  <style>\n    .colab-df-container {\n      display:flex;\n      gap: 12px;\n    }\n\n    .colab-df-convert {\n      background-color: #E8F0FE;\n      border: none;\n      border-radius: 50%;\n      cursor: pointer;\n      display: none;\n      fill: #1967D2;\n      height: 32px;\n      padding: 0 0 0 0;\n      width: 32px;\n    }\n\n    .colab-df-convert:hover {\n      background-color: #E2EBFA;\n      box-shadow: 0px 1px 2px rgba(60, 64, 67, 0.3), 0px 1px 3px 1px rgba(60, 64, 67, 0.15);\n      fill: #174EA6;\n    }\n\n    .colab-df-buttons div {\n      margin-bottom: 4px;\n    }\n\n    [theme=dark] .colab-df-convert {\n      background-color: #3B4455;\n      fill: #D2E3FC;\n    }\n\n    [theme=dark] .colab-df-convert:hover {\n      background-color: #434B5C;\n      box-shadow: 0px 1px 3px 1px rgba(0, 0, 0, 0.15);\n      filter: drop-shadow(0px 1px 2px rgba(0, 0, 0, 0.3));\n      fill: #FFFFFF;\n    }\n  </style>\n\n    <script>\n      const buttonEl =\n        document.querySelector('#df-05fa50f5-186e-42c0-9ff7-cb512fa9112c button.colab-df-convert');\n      buttonEl.style.display =\n        google.colab.kernel.accessAllowed ? 'block' : 'none';\n\n      async function convertToInteractive(key) {\n        const element = document.querySelector('#df-05fa50f5-186e-42c0-9ff7-cb512fa9112c');\n        const dataTable =\n          await google.colab.kernel.invokeFunction('convertToInteractive',\n                                                    [key], {});\n        if (!dataTable) return;\n\n        const docLinkHtml = 'Like what you see? Visit the ' +\n          '<a target=\"_blank\" href=https://colab.research.google.com/notebooks/data_table.ipynb>data table notebook</a>'\n          + ' to learn more about interactive tables.';\n        element.innerHTML = '';\n        dataTable['output_type'] = 'display_data';\n        await google.colab.output.renderOutput(dataTable, element);\n        const docLink = document.createElement('div');\n        docLink.innerHTML = docLinkHtml;\n        element.appendChild(docLink);\n      }\n    </script>\n  </div>\n\n\n<div id=\"df-a3778075-b90a-4ab0-92e6-afb98b0b5367\">\n  <button class=\"colab-df-quickchart\" onclick=\"quickchart('df-a3778075-b90a-4ab0-92e6-afb98b0b5367')\"\n            title=\"Suggest charts\"\n            style=\"display:none;\">\n\n<svg xmlns=\"http://www.w3.org/2000/svg\" height=\"24px\"viewBox=\"0 0 24 24\"\n     width=\"24px\">\n    <g>\n        <path d=\"M19 3H5c-1.1 0-2 .9-2 2v14c0 1.1.9 2 2 2h14c1.1 0 2-.9 2-2V5c0-1.1-.9-2-2-2zM9 17H7v-7h2v7zm4 0h-2V7h2v10zm4 0h-2v-4h2v4z\"/>\n    </g>\n</svg>\n  </button>\n\n<style>\n  .colab-df-quickchart {\n      --bg-color: #E8F0FE;\n      --fill-color: #1967D2;\n      --hover-bg-color: #E2EBFA;\n      --hover-fill-color: #174EA6;\n      --disabled-fill-color: #AAA;\n      --disabled-bg-color: #DDD;\n  }\n\n  [theme=dark] .colab-df-quickchart {\n      --bg-color: #3B4455;\n      --fill-color: #D2E3FC;\n      --hover-bg-color: #434B5C;\n      --hover-fill-color: #FFFFFF;\n      --disabled-bg-color: #3B4455;\n      --disabled-fill-color: #666;\n  }\n\n  .colab-df-quickchart {\n    background-color: var(--bg-color);\n    border: none;\n    border-radius: 50%;\n    cursor: pointer;\n    display: none;\n    fill: var(--fill-color);\n    height: 32px;\n    padding: 0;\n    width: 32px;\n  }\n\n  .colab-df-quickchart:hover {\n    background-color: var(--hover-bg-color);\n    box-shadow: 0 1px 2px rgba(60, 64, 67, 0.3), 0 1px 3px 1px rgba(60, 64, 67, 0.15);\n    fill: var(--button-hover-fill-color);\n  }\n\n  .colab-df-quickchart-complete:disabled,\n  .colab-df-quickchart-complete:disabled:hover {\n    background-color: var(--disabled-bg-color);\n    fill: var(--disabled-fill-color);\n    box-shadow: none;\n  }\n\n  .colab-df-spinner {\n    border: 2px solid var(--fill-color);\n    border-color: transparent;\n    border-bottom-color: var(--fill-color);\n    animation:\n      spin 1s steps(1) infinite;\n  }\n\n  @keyframes spin {\n    0% {\n      border-color: transparent;\n      border-bottom-color: var(--fill-color);\n      border-left-color: var(--fill-color);\n    }\n    20% {\n      border-color: transparent;\n      border-left-color: var(--fill-color);\n      border-top-color: var(--fill-color);\n    }\n    30% {\n      border-color: transparent;\n      border-left-color: var(--fill-color);\n      border-top-color: var(--fill-color);\n      border-right-color: var(--fill-color);\n    }\n    40% {\n      border-color: transparent;\n      border-right-color: var(--fill-color);\n      border-top-color: var(--fill-color);\n    }\n    60% {\n      border-color: transparent;\n      border-right-color: var(--fill-color);\n    }\n    80% {\n      border-color: transparent;\n      border-right-color: var(--fill-color);\n      border-bottom-color: var(--fill-color);\n    }\n    90% {\n      border-color: transparent;\n      border-bottom-color: var(--fill-color);\n    }\n  }\n</style>\n\n  <script>\n    async function quickchart(key) {\n      const quickchartButtonEl =\n        document.querySelector('#' + key + ' button');\n      quickchartButtonEl.disabled = true;  // To prevent multiple clicks.\n      quickchartButtonEl.classList.add('colab-df-spinner');\n      try {\n        const charts = await google.colab.kernel.invokeFunction(\n            'suggestCharts', [key], {});\n      } catch (error) {\n        console.error('Error during call to suggestCharts:', error);\n      }\n      quickchartButtonEl.classList.remove('colab-df-spinner');\n      quickchartButtonEl.classList.add('colab-df-quickchart-complete');\n    }\n    (() => {\n      let quickchartButtonEl =\n        document.querySelector('#df-a3778075-b90a-4ab0-92e6-afb98b0b5367 button');\n      quickchartButtonEl.style.display =\n        google.colab.kernel.accessAllowed ? 'block' : 'none';\n    })();\n  </script>\n</div>\n\n    </div>\n  </div>\n",
                  "application/vnd.google.colaboratory.intrinsic+json": {
                    "type": "dataframe",
                    "summary": "{\n  \"name\": \"display(tabs)\",\n  \"rows\": 8,\n  \"fields\": [\n    {\n      \"column\": \"_id\",\n      \"properties\": {\n        \"dtype\": \"number\",\n        \"std\": 11532.650024401897,\n        \"min\": 1.0,\n        \"max\": 32000.0,\n        \"num_unique_values\": 6,\n        \"samples\": [\n          32000.0,\n          16000.5,\n          24000.25\n        ],\n        \"semantic_type\": \"\",\n        \"description\": \"\"\n      }\n    },\n    {\n      \"column\": \"mispar_rechev\",\n      \"properties\": {\n        \"dtype\": \"number\",\n        \"std\": 30679025.653498575,\n        \"min\": 32000.0,\n        \"max\": 92550301.0,\n        \"num_unique_values\": 8,\n        \"samples\": [\n          13145761.71009375,\n          6806477.0,\n          32000.0\n        ],\n        \"semantic_type\": \"\",\n        \"description\": \"\"\n      }\n    },\n    {\n      \"column\": \"tozeret_cd\",\n      \"properties\": {\n        \"dtype\": \"number\",\n        \"std\": 11109.806448249426,\n        \"min\": 19.0,\n        \"max\": 32000.0,\n        \"num_unique_values\": 8,\n        \"samples\": [\n          596.86703125,\n          588.0,\n          32000.0\n        ],\n        \"semantic_type\": \"\",\n        \"description\": \"\"\n      }\n    },\n    {\n      \"column\": \"degem_cd\",\n      \"properties\": {\n        \"dtype\": \"number\",\n        \"std\": 11160.909320227707,\n        \"min\": 1.0,\n        \"max\": 32000.0,\n        \"num_unique_values\": 8,\n        \"samples\": [\n          475.701875,\n          292.0,\n          32000.0\n        ],\n        \"semantic_type\": \"\",\n        \"description\": \"\"\n      }\n    },\n    {\n      \"column\": \"ramat_eivzur_betihuty\",\n      \"properties\": {\n        \"dtype\": \"number\",\n        \"std\": 2151.7705730182875,\n        \"min\": 1.0,\n        \"max\": 6090.0,\n        \"num_unique_values\": 8,\n        \"samples\": [\n          3.9292282430213463,\n          4.0,\n          6090.0\n        ],\n        \"semantic_type\": \"\",\n        \"description\": \"\"\n      }\n    },\n    {\n      \"column\": \"kvutzat_zihum\",\n      \"properties\": {\n        \"dtype\": \"number\",\n        \"std\": 8018.894685051581,\n        \"min\": 1.0,\n        \"max\": 22692.0,\n        \"num_unique_values\": 5,\n        \"samples\": [\n          13.462321523003702,\n          15.0,\n          3.5627355639836513\n        ],\n        \"semantic_type\": \"\",\n        \"description\": \"\"\n      }\n    },\n    {\n      \"column\": \"shnat_yitzur\",\n      \"properties\": {\n        \"dtype\": \"number\",\n        \"std\": 10727.107912277172,\n        \"min\": 6.7556976863199685,\n        \"max\": 32000.0,\n        \"num_unique_values\": 8,\n        \"samples\": [\n          2011.4719375,\n          2009.0,\n          32000.0\n        ],\n        \"semantic_type\": \"\",\n        \"description\": \"\"\n      }\n    },\n    {\n      \"column\": \"tzeva_cd\",\n      \"properties\": {\n        \"dtype\": \"number\",\n        \"std\": 11298.400186371759,\n        \"min\": 0.0,\n        \"max\": 32000.0,\n        \"num_unique_values\": 8,\n        \"samples\": [\n          43.422625,\n          29.0,\n          32000.0\n        ],\n        \"semantic_type\": \"\",\n        \"description\": \"\"\n      }\n    },\n    {\n      \"column\": \"horaat_rishum\",\n      \"properties\": {\n        \"dtype\": \"number\",\n        \"std\": 322213.16987896117,\n        \"min\": 7775.0,\n        \"max\": 999998.0,\n        \"num_unique_values\": 8,\n        \"samples\": [\n          211421.83176848874,\n          220223.0,\n          7775.0\n        ],\n        \"semantic_type\": \"\",\n        \"description\": \"\"\n      }\n    }\n  ]\n}"
                  }
                },
                "metadata": {}
              }
            ]
          }
        },
        "a0840e33d8384528afabd2231a69d31d": {
          "model_module": "@jupyter-widgets/output",
          "model_name": "OutputModel",
          "model_module_version": "1.0.0",
          "state": {
            "_dom_classes": [],
            "_model_module": "@jupyter-widgets/output",
            "_model_module_version": "1.0.0",
            "_model_name": "OutputModel",
            "_view_count": null,
            "_view_module": "@jupyter-widgets/output",
            "_view_module_version": "1.0.0",
            "_view_name": "OutputView",
            "layout": "IPY_MODEL_38c416eca9a147f49f32e2ae101f44ff",
            "msg_id": "",
            "outputs": [
              {
                "output_type": "stream",
                "name": "stdout",
                "text": [
                  "Raw Data:\n"
                ]
              },
              {
                "output_type": "display_data",
                "data": {
                  "text/plain": "         _id  mispar_rechev  tozeret_cd sug_degem     tozeret_nm  degem_cd  \\\n0          1        2759880         676         P    סקודה צ'כיה       548   \n1          2       66226201         676         P    סקודה צ'כיה       908   \n2          3        2489538         676         P    סקודה צ'כיה       516   \n3          4       50272902         885         P     קיה קוריאה       514   \n4          5       50685801         845         P  יונדאי טורקיה        56   \n...      ...            ...         ...       ...            ...       ...   \n31995  31996        4971475         730         P    פורד גרמניה         6   \n31996  31997        6443770         312         P      הונדה-יפן       871   \n31997  31998        1979764         588         P       מזדה יפן       282   \n31998  31999        6230316         143         P  ב מ וו גרמניה      1061   \n31999  32000        7161558         650         P     סובארו יפן       181   \n\n      degem_nm ramat_gimur  ramat_eivzur_betihuty  kvutzat_zihum  \\\n0       NH33RD    AMBITION                    NaN           14.0   \n1       5E33ND    AMBITION                    NaN           14.0   \n2       5E33FD    AMBITION                    NaN           14.0   \n3       CB81CG       URBAN                    2.0            4.0   \n4        A751C       PRIME                    NaN           14.0   \n...        ...         ...                    ...            ...   \n31995      DYB       TREND                    NaN           15.0   \n31996     ZE28    ELEGANCE                    NaN            7.0   \n31997    CR19F           S                    NaN            NaN   \n31998     NU91                                NaN           15.0   \n31999  GD9EL5R          GX                    NaN            NaN   \n\n       shnat_yitzur degem_manoa mivchan_acharon_dt    tokef_dt baalut  \\\n0              2017         CZC         2024-05-28  2025-02-18   פרטי   \n1              2019         DAD         2024-03-03  2025-02-18   פרטי   \n2              2016         CYV         2024-02-25  2025-02-24   פרטי   \n3              2021        G4LE         2025-04-12  2026-04-17   פרטי   \n4              2018        G4LA         2025-04-11  2026-04-14   פרטי   \n...             ...         ...                ...         ...    ...   \n31995          2012        PNDA         2025-03-14  2026-03-20   פרטי   \n31996          2010        LDA3         2024-08-11  2025-07-04   פרטי   \n31997          2008          LF         2024-12-08  2025-10-08   פרטי   \n31998          2010    N52B30AF         2024-01-11  2025-01-04   פרטי   \n31999          2006       EJ 20         2023-08-26  2024-06-21   פרטי   \n\n                  misgeret  tzeva_cd   tzeva_rechev  zmig_kidmi  zmig_ahori  \\\n0        TMBAT6NH8G4029567        29       כסף מטלי  185/60 R15  185/60 R15   \n1        TMBAR7NE7K0127449        29       כסף מטלי  R16 205/55  R16 205/55   \n2        TMBAB7NE2G0167997        29       כסף מטלי  205/55 R16  205/55 R16   \n3        KNACB81CGM5444575        50           אדום   205/60R16   205/60R16   \n4        NLHA751CBJZ429963        80       שנהב לבן   175/65R14   175/65R14   \n...                    ...       ...            ...         ...         ...   \n31995    WF0MXXGCBMBM09560        80       שנהב לבן   205/55R16   205/55R16   \n31996    JHMZE2870AS216412        11      שחור מטלי   185/55R16   185/55R16   \n31997   JMZCR19F5-80217656        26         פלטינה   205/55R16   205/55R16   \n31998  WBANU9107A  CT29434         6  אפור כהה מטלי   225/50R17   225/50R17   \n31999    JF1GD9LR56G451487        32      כחול בהיר  215/45/R17   215/45R17   \n\n      sug_delek_nm  horaat_rishum moed_aliya_lakvish   kinuy_mishari  \n0            בנזין       160117.0             2017-2           RAPID  \n1            בנזין       180301.0             2019-2         OCTAVIA  \n2            בנזין       160116.0             2016-2         OCTAVIA  \n3            בנזין       200153.0             2021-4            NIRO  \n4            בנזין       170001.0             2018-4             I10  \n...            ...            ...                ...             ...  \n31995        בנזין            NaN             2012-3           FOCUS  \n31996        בנזין            NaN             2010-7  INSIGHT HYBRID  \n31997        בנזין            NaN               None         MAZDA 5  \n31998        בנזין            NaN             2010-1            530I  \n31999        בנזין            NaN               None         IMPREZA  \n\n[32000 rows x 24 columns]",
                  "text/html": "\n  <div id=\"df-71f784e2-0943-49b1-ae49-86025dda73c8\" class=\"colab-df-container\">\n    <div>\n<style scoped>\n    .dataframe tbody tr th:only-of-type {\n        vertical-align: middle;\n    }\n\n    .dataframe tbody tr th {\n        vertical-align: top;\n    }\n\n    .dataframe thead th {\n        text-align: right;\n    }\n</style>\n<table border=\"1\" class=\"dataframe\">\n  <thead>\n    <tr style=\"text-align: right;\">\n      <th></th>\n      <th>_id</th>\n      <th>mispar_rechev</th>\n      <th>tozeret_cd</th>\n      <th>sug_degem</th>\n      <th>tozeret_nm</th>\n      <th>degem_cd</th>\n      <th>degem_nm</th>\n      <th>ramat_gimur</th>\n      <th>ramat_eivzur_betihuty</th>\n      <th>kvutzat_zihum</th>\n      <th>shnat_yitzur</th>\n      <th>degem_manoa</th>\n      <th>mivchan_acharon_dt</th>\n      <th>tokef_dt</th>\n      <th>baalut</th>\n      <th>misgeret</th>\n      <th>tzeva_cd</th>\n      <th>tzeva_rechev</th>\n      <th>zmig_kidmi</th>\n      <th>zmig_ahori</th>\n      <th>sug_delek_nm</th>\n      <th>horaat_rishum</th>\n      <th>moed_aliya_lakvish</th>\n      <th>kinuy_mishari</th>\n    </tr>\n  </thead>\n  <tbody>\n    <tr>\n      <th>0</th>\n      <td>1</td>\n      <td>2759880</td>\n      <td>676</td>\n      <td>P</td>\n      <td>סקודה צ'כיה</td>\n      <td>548</td>\n      <td>NH33RD</td>\n      <td>AMBITION</td>\n      <td>NaN</td>\n      <td>14.0</td>\n      <td>2017</td>\n      <td>CZC</td>\n      <td>2024-05-28</td>\n      <td>2025-02-18</td>\n      <td>פרטי</td>\n      <td>TMBAT6NH8G4029567</td>\n      <td>29</td>\n      <td>כסף מטלי</td>\n      <td>185/60 R15</td>\n      <td>185/60 R15</td>\n      <td>בנזין</td>\n      <td>160117.0</td>\n      <td>2017-2</td>\n      <td>RAPID</td>\n    </tr>\n    <tr>\n      <th>1</th>\n      <td>2</td>\n      <td>66226201</td>\n      <td>676</td>\n      <td>P</td>\n      <td>סקודה צ'כיה</td>\n      <td>908</td>\n      <td>5E33ND</td>\n      <td>AMBITION</td>\n      <td>NaN</td>\n      <td>14.0</td>\n      <td>2019</td>\n      <td>DAD</td>\n      <td>2024-03-03</td>\n      <td>2025-02-18</td>\n      <td>פרטי</td>\n      <td>TMBAR7NE7K0127449</td>\n      <td>29</td>\n      <td>כסף מטלי</td>\n      <td>R16 205/55</td>\n      <td>R16 205/55</td>\n      <td>בנזין</td>\n      <td>180301.0</td>\n      <td>2019-2</td>\n      <td>OCTAVIA</td>\n    </tr>\n    <tr>\n      <th>2</th>\n      <td>3</td>\n      <td>2489538</td>\n      <td>676</td>\n      <td>P</td>\n      <td>סקודה צ'כיה</td>\n      <td>516</td>\n      <td>5E33FD</td>\n      <td>AMBITION</td>\n      <td>NaN</td>\n      <td>14.0</td>\n      <td>2016</td>\n      <td>CYV</td>\n      <td>2024-02-25</td>\n      <td>2025-02-24</td>\n      <td>פרטי</td>\n      <td>TMBAB7NE2G0167997</td>\n      <td>29</td>\n      <td>כסף מטלי</td>\n      <td>205/55 R16</td>\n      <td>205/55 R16</td>\n      <td>בנזין</td>\n      <td>160116.0</td>\n      <td>2016-2</td>\n      <td>OCTAVIA</td>\n    </tr>\n    <tr>\n      <th>3</th>\n      <td>4</td>\n      <td>50272902</td>\n      <td>885</td>\n      <td>P</td>\n      <td>קיה קוריאה</td>\n      <td>514</td>\n      <td>CB81CG</td>\n      <td>URBAN</td>\n      <td>2.0</td>\n      <td>4.0</td>\n      <td>2021</td>\n      <td>G4LE</td>\n      <td>2025-04-12</td>\n      <td>2026-04-17</td>\n      <td>פרטי</td>\n      <td>KNACB81CGM5444575</td>\n      <td>50</td>\n      <td>אדום</td>\n      <td>205/60R16</td>\n      <td>205/60R16</td>\n      <td>בנזין</td>\n      <td>200153.0</td>\n      <td>2021-4</td>\n      <td>NIRO</td>\n    </tr>\n    <tr>\n      <th>4</th>\n      <td>5</td>\n      <td>50685801</td>\n      <td>845</td>\n      <td>P</td>\n      <td>יונדאי טורקיה</td>\n      <td>56</td>\n      <td>A751C</td>\n      <td>PRIME</td>\n      <td>NaN</td>\n      <td>14.0</td>\n      <td>2018</td>\n      <td>G4LA</td>\n      <td>2025-04-11</td>\n      <td>2026-04-14</td>\n      <td>פרטי</td>\n      <td>NLHA751CBJZ429963</td>\n      <td>80</td>\n      <td>שנהב לבן</td>\n      <td>175/65R14</td>\n      <td>175/65R14</td>\n      <td>בנזין</td>\n      <td>170001.0</td>\n      <td>2018-4</td>\n      <td>I10</td>\n    </tr>\n    <tr>\n      <th>...</th>\n      <td>...</td>\n      <td>...</td>\n      <td>...</td>\n      <td>...</td>\n      <td>...</td>\n      <td>...</td>\n      <td>...</td>\n      <td>...</td>\n      <td>...</td>\n      <td>...</td>\n      <td>...</td>\n      <td>...</td>\n      <td>...</td>\n      <td>...</td>\n      <td>...</td>\n      <td>...</td>\n      <td>...</td>\n      <td>...</td>\n      <td>...</td>\n      <td>...</td>\n      <td>...</td>\n      <td>...</td>\n      <td>...</td>\n      <td>...</td>\n    </tr>\n    <tr>\n      <th>31995</th>\n      <td>31996</td>\n      <td>4971475</td>\n      <td>730</td>\n      <td>P</td>\n      <td>פורד גרמניה</td>\n      <td>6</td>\n      <td>DYB</td>\n      <td>TREND</td>\n      <td>NaN</td>\n      <td>15.0</td>\n      <td>2012</td>\n      <td>PNDA</td>\n      <td>2025-03-14</td>\n      <td>2026-03-20</td>\n      <td>פרטי</td>\n      <td>WF0MXXGCBMBM09560</td>\n      <td>80</td>\n      <td>שנהב לבן</td>\n      <td>205/55R16</td>\n      <td>205/55R16</td>\n      <td>בנזין</td>\n      <td>NaN</td>\n      <td>2012-3</td>\n      <td>FOCUS</td>\n    </tr>\n    <tr>\n      <th>31996</th>\n      <td>31997</td>\n      <td>6443770</td>\n      <td>312</td>\n      <td>P</td>\n      <td>הונדה-יפן</td>\n      <td>871</td>\n      <td>ZE28</td>\n      <td>ELEGANCE</td>\n      <td>NaN</td>\n      <td>7.0</td>\n      <td>2010</td>\n      <td>LDA3</td>\n      <td>2024-08-11</td>\n      <td>2025-07-04</td>\n      <td>פרטי</td>\n      <td>JHMZE2870AS216412</td>\n      <td>11</td>\n      <td>שחור מטלי</td>\n      <td>185/55R16</td>\n      <td>185/55R16</td>\n      <td>בנזין</td>\n      <td>NaN</td>\n      <td>2010-7</td>\n      <td>INSIGHT HYBRID</td>\n    </tr>\n    <tr>\n      <th>31997</th>\n      <td>31998</td>\n      <td>1979764</td>\n      <td>588</td>\n      <td>P</td>\n      <td>מזדה יפן</td>\n      <td>282</td>\n      <td>CR19F</td>\n      <td>S</td>\n      <td>NaN</td>\n      <td>NaN</td>\n      <td>2008</td>\n      <td>LF</td>\n      <td>2024-12-08</td>\n      <td>2025-10-08</td>\n      <td>פרטי</td>\n      <td>JMZCR19F5-80217656</td>\n      <td>26</td>\n      <td>פלטינה</td>\n      <td>205/55R16</td>\n      <td>205/55R16</td>\n      <td>בנזין</td>\n      <td>NaN</td>\n      <td>None</td>\n      <td>MAZDA 5</td>\n    </tr>\n    <tr>\n      <th>31998</th>\n      <td>31999</td>\n      <td>6230316</td>\n      <td>143</td>\n      <td>P</td>\n      <td>ב מ וו גרמניה</td>\n      <td>1061</td>\n      <td>NU91</td>\n      <td></td>\n      <td>NaN</td>\n      <td>15.0</td>\n      <td>2010</td>\n      <td>N52B30AF</td>\n      <td>2024-01-11</td>\n      <td>2025-01-04</td>\n      <td>פרטי</td>\n      <td>WBANU9107A  CT29434</td>\n      <td>6</td>\n      <td>אפור כהה מטלי</td>\n      <td>225/50R17</td>\n      <td>225/50R17</td>\n      <td>בנזין</td>\n      <td>NaN</td>\n      <td>2010-1</td>\n      <td>530I</td>\n    </tr>\n    <tr>\n      <th>31999</th>\n      <td>32000</td>\n      <td>7161558</td>\n      <td>650</td>\n      <td>P</td>\n      <td>סובארו יפן</td>\n      <td>181</td>\n      <td>GD9EL5R</td>\n      <td>GX</td>\n      <td>NaN</td>\n      <td>NaN</td>\n      <td>2006</td>\n      <td>EJ 20</td>\n      <td>2023-08-26</td>\n      <td>2024-06-21</td>\n      <td>פרטי</td>\n      <td>JF1GD9LR56G451487</td>\n      <td>32</td>\n      <td>כחול בהיר</td>\n      <td>215/45/R17</td>\n      <td>215/45R17</td>\n      <td>בנזין</td>\n      <td>NaN</td>\n      <td>None</td>\n      <td>IMPREZA</td>\n    </tr>\n  </tbody>\n</table>\n<p>32000 rows × 24 columns</p>\n</div>\n    <div class=\"colab-df-buttons\">\n\n  <div class=\"colab-df-container\">\n    <button class=\"colab-df-convert\" onclick=\"convertToInteractive('df-71f784e2-0943-49b1-ae49-86025dda73c8')\"\n            title=\"Convert this dataframe to an interactive table.\"\n            style=\"display:none;\">\n\n  <svg xmlns=\"http://www.w3.org/2000/svg\" height=\"24px\" viewBox=\"0 -960 960 960\">\n    <path d=\"M120-120v-720h720v720H120Zm60-500h600v-160H180v160Zm220 220h160v-160H400v160Zm0 220h160v-160H400v160ZM180-400h160v-160H180v160Zm440 0h160v-160H620v160ZM180-180h160v-160H180v160Zm440 0h160v-160H620v160Z\"/>\n  </svg>\n    </button>\n\n  <style>\n    .colab-df-container {\n      display:flex;\n      gap: 12px;\n    }\n\n    .colab-df-convert {\n      background-color: #E8F0FE;\n      border: none;\n      border-radius: 50%;\n      cursor: pointer;\n      display: none;\n      fill: #1967D2;\n      height: 32px;\n      padding: 0 0 0 0;\n      width: 32px;\n    }\n\n    .colab-df-convert:hover {\n      background-color: #E2EBFA;\n      box-shadow: 0px 1px 2px rgba(60, 64, 67, 0.3), 0px 1px 3px 1px rgba(60, 64, 67, 0.15);\n      fill: #174EA6;\n    }\n\n    .colab-df-buttons div {\n      margin-bottom: 4px;\n    }\n\n    [theme=dark] .colab-df-convert {\n      background-color: #3B4455;\n      fill: #D2E3FC;\n    }\n\n    [theme=dark] .colab-df-convert:hover {\n      background-color: #434B5C;\n      box-shadow: 0px 1px 3px 1px rgba(0, 0, 0, 0.15);\n      filter: drop-shadow(0px 1px 2px rgba(0, 0, 0, 0.3));\n      fill: #FFFFFF;\n    }\n  </style>\n\n    <script>\n      const buttonEl =\n        document.querySelector('#df-71f784e2-0943-49b1-ae49-86025dda73c8 button.colab-df-convert');\n      buttonEl.style.display =\n        google.colab.kernel.accessAllowed ? 'block' : 'none';\n\n      async function convertToInteractive(key) {\n        const element = document.querySelector('#df-71f784e2-0943-49b1-ae49-86025dda73c8');\n        const dataTable =\n          await google.colab.kernel.invokeFunction('convertToInteractive',\n                                                    [key], {});\n        if (!dataTable) return;\n\n        const docLinkHtml = 'Like what you see? Visit the ' +\n          '<a target=\"_blank\" href=https://colab.research.google.com/notebooks/data_table.ipynb>data table notebook</a>'\n          + ' to learn more about interactive tables.';\n        element.innerHTML = '';\n        dataTable['output_type'] = 'display_data';\n        await google.colab.output.renderOutput(dataTable, element);\n        const docLink = document.createElement('div');\n        docLink.innerHTML = docLinkHtml;\n        element.appendChild(docLink);\n      }\n    </script>\n  </div>\n\n\n<div id=\"df-3841c47c-56e1-4f61-889f-d2de9831c661\">\n  <button class=\"colab-df-quickchart\" onclick=\"quickchart('df-3841c47c-56e1-4f61-889f-d2de9831c661')\"\n            title=\"Suggest charts\"\n            style=\"display:none;\">\n\n<svg xmlns=\"http://www.w3.org/2000/svg\" height=\"24px\"viewBox=\"0 0 24 24\"\n     width=\"24px\">\n    <g>\n        <path d=\"M19 3H5c-1.1 0-2 .9-2 2v14c0 1.1.9 2 2 2h14c1.1 0 2-.9 2-2V5c0-1.1-.9-2-2-2zM9 17H7v-7h2v7zm4 0h-2V7h2v10zm4 0h-2v-4h2v4z\"/>\n    </g>\n</svg>\n  </button>\n\n<style>\n  .colab-df-quickchart {\n      --bg-color: #E8F0FE;\n      --fill-color: #1967D2;\n      --hover-bg-color: #E2EBFA;\n      --hover-fill-color: #174EA6;\n      --disabled-fill-color: #AAA;\n      --disabled-bg-color: #DDD;\n  }\n\n  [theme=dark] .colab-df-quickchart {\n      --bg-color: #3B4455;\n      --fill-color: #D2E3FC;\n      --hover-bg-color: #434B5C;\n      --hover-fill-color: #FFFFFF;\n      --disabled-bg-color: #3B4455;\n      --disabled-fill-color: #666;\n  }\n\n  .colab-df-quickchart {\n    background-color: var(--bg-color);\n    border: none;\n    border-radius: 50%;\n    cursor: pointer;\n    display: none;\n    fill: var(--fill-color);\n    height: 32px;\n    padding: 0;\n    width: 32px;\n  }\n\n  .colab-df-quickchart:hover {\n    background-color: var(--hover-bg-color);\n    box-shadow: 0 1px 2px rgba(60, 64, 67, 0.3), 0 1px 3px 1px rgba(60, 64, 67, 0.15);\n    fill: var(--button-hover-fill-color);\n  }\n\n  .colab-df-quickchart-complete:disabled,\n  .colab-df-quickchart-complete:disabled:hover {\n    background-color: var(--disabled-bg-color);\n    fill: var(--disabled-fill-color);\n    box-shadow: none;\n  }\n\n  .colab-df-spinner {\n    border: 2px solid var(--fill-color);\n    border-color: transparent;\n    border-bottom-color: var(--fill-color);\n    animation:\n      spin 1s steps(1) infinite;\n  }\n\n  @keyframes spin {\n    0% {\n      border-color: transparent;\n      border-bottom-color: var(--fill-color);\n      border-left-color: var(--fill-color);\n    }\n    20% {\n      border-color: transparent;\n      border-left-color: var(--fill-color);\n      border-top-color: var(--fill-color);\n    }\n    30% {\n      border-color: transparent;\n      border-left-color: var(--fill-color);\n      border-top-color: var(--fill-color);\n      border-right-color: var(--fill-color);\n    }\n    40% {\n      border-color: transparent;\n      border-right-color: var(--fill-color);\n      border-top-color: var(--fill-color);\n    }\n    60% {\n      border-color: transparent;\n      border-right-color: var(--fill-color);\n    }\n    80% {\n      border-color: transparent;\n      border-right-color: var(--fill-color);\n      border-bottom-color: var(--fill-color);\n    }\n    90% {\n      border-color: transparent;\n      border-bottom-color: var(--fill-color);\n    }\n  }\n</style>\n\n  <script>\n    async function quickchart(key) {\n      const quickchartButtonEl =\n        document.querySelector('#' + key + ' button');\n      quickchartButtonEl.disabled = true;  // To prevent multiple clicks.\n      quickchartButtonEl.classList.add('colab-df-spinner');\n      try {\n        const charts = await google.colab.kernel.invokeFunction(\n            'suggestCharts', [key], {});\n      } catch (error) {\n        console.error('Error during call to suggestCharts:', error);\n      }\n      quickchartButtonEl.classList.remove('colab-df-spinner');\n      quickchartButtonEl.classList.add('colab-df-quickchart-complete');\n    }\n    (() => {\n      let quickchartButtonEl =\n        document.querySelector('#df-3841c47c-56e1-4f61-889f-d2de9831c661 button');\n      quickchartButtonEl.style.display =\n        google.colab.kernel.accessAllowed ? 'block' : 'none';\n    })();\n  </script>\n</div>\n\n  <div id=\"id_a60b32ff-8149-478f-abc8-8e7ae14eb49f\">\n    <style>\n      .colab-df-generate {\n        background-color: #E8F0FE;\n        border: none;\n        border-radius: 50%;\n        cursor: pointer;\n        display: none;\n        fill: #1967D2;\n        height: 32px;\n        padding: 0 0 0 0;\n        width: 32px;\n      }\n\n      .colab-df-generate:hover {\n        background-color: #E2EBFA;\n        box-shadow: 0px 1px 2px rgba(60, 64, 67, 0.3), 0px 1px 3px 1px rgba(60, 64, 67, 0.15);\n        fill: #174EA6;\n      }\n\n      [theme=dark] .colab-df-generate {\n        background-color: #3B4455;\n        fill: #D2E3FC;\n      }\n\n      [theme=dark] .colab-df-generate:hover {\n        background-color: #434B5C;\n        box-shadow: 0px 1px 3px 1px rgba(0, 0, 0, 0.15);\n        filter: drop-shadow(0px 1px 2px rgba(0, 0, 0, 0.3));\n        fill: #FFFFFF;\n      }\n    </style>\n    <button class=\"colab-df-generate\" onclick=\"generateWithVariable('data_df')\"\n            title=\"Generate code using this dataframe.\"\n            style=\"display:none;\">\n\n  <svg xmlns=\"http://www.w3.org/2000/svg\" height=\"24px\"viewBox=\"0 0 24 24\"\n       width=\"24px\">\n    <path d=\"M7,19H8.4L18.45,9,17,7.55,7,17.6ZM5,21V16.75L18.45,3.32a2,2,0,0,1,2.83,0l1.4,1.43a1.91,1.91,0,0,1,.58,1.4,1.91,1.91,0,0,1-.58,1.4L9.25,21ZM18.45,9,17,7.55Zm-12,3A5.31,5.31,0,0,0,4.9,8.1,5.31,5.31,0,0,0,1,6.5,5.31,5.31,0,0,0,4.9,4.9,5.31,5.31,0,0,0,6.5,1,5.31,5.31,0,0,0,8.1,4.9,5.31,5.31,0,0,0,12,6.5,5.46,5.46,0,0,0,6.5,12Z\"/>\n  </svg>\n    </button>\n    <script>\n      (() => {\n      const buttonEl =\n        document.querySelector('#id_a60b32ff-8149-478f-abc8-8e7ae14eb49f button.colab-df-generate');\n      buttonEl.style.display =\n        google.colab.kernel.accessAllowed ? 'block' : 'none';\n\n      buttonEl.onclick = () => {\n        google.colab.notebook.generateWithVariable('data_df');\n      }\n      })();\n    </script>\n  </div>\n\n    </div>\n  </div>\n",
                  "application/vnd.google.colaboratory.intrinsic+json": {
                    "type": "dataframe",
                    "variable_name": "data_df"
                  }
                },
                "metadata": {}
              }
            ]
          }
        },
        "9762d18d046844ab8f0729850d5f4311": {
          "model_module": "@jupyter-widgets/output",
          "model_name": "OutputModel",
          "model_module_version": "1.0.0",
          "state": {
            "_dom_classes": [],
            "_model_module": "@jupyter-widgets/output",
            "_model_module_version": "1.0.0",
            "_model_name": "OutputModel",
            "_view_count": null,
            "_view_module": "@jupyter-widgets/output",
            "_view_module_version": "1.0.0",
            "_view_name": "OutputView",
            "layout": "IPY_MODEL_2e5c2fd3ac2a4727a3d1bd9f1eea4a94",
            "msg_id": "",
            "outputs": [
              {
                "output_type": "stream",
                "name": "stdout",
                "text": [
                  "Charts:\n"
                ]
              },
              {
                "output_type": "display_data",
                "data": {
                  "text/plain": "<Figure size 640x480 with 1 Axes>",
                  "image/png": "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\n"
                },
                "metadata": {}
              }
            ]
          }
        },
        "59e71c57aa1149e68349b4ac40605e40": {
          "model_module": "@jupyter-widgets/base",
          "model_name": "LayoutModel",
          "model_module_version": "1.2.0",
          "state": {
            "_model_module": "@jupyter-widgets/base",
            "_model_module_version": "1.2.0",
            "_model_name": "LayoutModel",
            "_view_count": null,
            "_view_module": "@jupyter-widgets/base",
            "_view_module_version": "1.2.0",
            "_view_name": "LayoutView",
            "align_content": null,
            "align_items": null,
            "align_self": null,
            "border": null,
            "bottom": null,
            "display": null,
            "flex": null,
            "flex_flow": null,
            "grid_area": null,
            "grid_auto_columns": null,
            "grid_auto_flow": null,
            "grid_auto_rows": null,
            "grid_column": null,
            "grid_gap": null,
            "grid_row": null,
            "grid_template_areas": null,
            "grid_template_columns": null,
            "grid_template_rows": null,
            "height": null,
            "justify_content": null,
            "justify_items": null,
            "left": null,
            "margin": null,
            "max_height": null,
            "max_width": null,
            "min_height": null,
            "min_width": null,
            "object_fit": null,
            "object_position": null,
            "order": null,
            "overflow": null,
            "overflow_x": null,
            "overflow_y": null,
            "padding": null,
            "right": null,
            "top": null,
            "visibility": null,
            "width": null
          }
        },
        "d6ae16ebcdd346d3b54502f791f8e11c": {
          "model_module": "@jupyter-widgets/base",
          "model_name": "LayoutModel",
          "model_module_version": "1.2.0",
          "state": {
            "_model_module": "@jupyter-widgets/base",
            "_model_module_version": "1.2.0",
            "_model_name": "LayoutModel",
            "_view_count": null,
            "_view_module": "@jupyter-widgets/base",
            "_view_module_version": "1.2.0",
            "_view_name": "LayoutView",
            "align_content": null,
            "align_items": null,
            "align_self": null,
            "border": null,
            "bottom": null,
            "display": null,
            "flex": null,
            "flex_flow": null,
            "grid_area": null,
            "grid_auto_columns": null,
            "grid_auto_flow": null,
            "grid_auto_rows": null,
            "grid_column": null,
            "grid_gap": null,
            "grid_row": null,
            "grid_template_areas": null,
            "grid_template_columns": null,
            "grid_template_rows": null,
            "height": null,
            "justify_content": null,
            "justify_items": null,
            "left": null,
            "margin": null,
            "max_height": null,
            "max_width": null,
            "min_height": null,
            "min_width": null,
            "object_fit": null,
            "object_position": null,
            "order": null,
            "overflow": null,
            "overflow_x": null,
            "overflow_y": null,
            "padding": null,
            "right": null,
            "top": null,
            "visibility": null,
            "width": null
          }
        },
        "38c416eca9a147f49f32e2ae101f44ff": {
          "model_module": "@jupyter-widgets/base",
          "model_name": "LayoutModel",
          "model_module_version": "1.2.0",
          "state": {
            "_model_module": "@jupyter-widgets/base",
            "_model_module_version": "1.2.0",
            "_model_name": "LayoutModel",
            "_view_count": null,
            "_view_module": "@jupyter-widgets/base",
            "_view_module_version": "1.2.0",
            "_view_name": "LayoutView",
            "align_content": null,
            "align_items": null,
            "align_self": null,
            "border": null,
            "bottom": null,
            "display": null,
            "flex": null,
            "flex_flow": null,
            "grid_area": null,
            "grid_auto_columns": null,
            "grid_auto_flow": null,
            "grid_auto_rows": null,
            "grid_column": null,
            "grid_gap": null,
            "grid_row": null,
            "grid_template_areas": null,
            "grid_template_columns": null,
            "grid_template_rows": null,
            "height": null,
            "justify_content": null,
            "justify_items": null,
            "left": null,
            "margin": null,
            "max_height": null,
            "max_width": null,
            "min_height": null,
            "min_width": null,
            "object_fit": null,
            "object_position": null,
            "order": null,
            "overflow": null,
            "overflow_x": null,
            "overflow_y": null,
            "padding": null,
            "right": null,
            "top": null,
            "visibility": null,
            "width": null
          }
        },
        "2e5c2fd3ac2a4727a3d1bd9f1eea4a94": {
          "model_module": "@jupyter-widgets/base",
          "model_name": "LayoutModel",
          "model_module_version": "1.2.0",
          "state": {
            "_model_module": "@jupyter-widgets/base",
            "_model_module_version": "1.2.0",
            "_model_name": "LayoutModel",
            "_view_count": null,
            "_view_module": "@jupyter-widgets/base",
            "_view_module_version": "1.2.0",
            "_view_name": "LayoutView",
            "align_content": null,
            "align_items": null,
            "align_self": null,
            "border": null,
            "bottom": null,
            "display": null,
            "flex": null,
            "flex_flow": null,
            "grid_area": null,
            "grid_auto_columns": null,
            "grid_auto_flow": null,
            "grid_auto_rows": null,
            "grid_column": null,
            "grid_gap": null,
            "grid_row": null,
            "grid_template_areas": null,
            "grid_template_columns": null,
            "grid_template_rows": null,
            "height": null,
            "justify_content": null,
            "justify_items": null,
            "left": null,
            "margin": null,
            "max_height": null,
            "max_width": null,
            "min_height": null,
            "min_width": null,
            "object_fit": null,
            "object_position": null,
            "order": null,
            "overflow": null,
            "overflow_x": null,
            "overflow_y": null,
            "padding": null,
            "right": null,
            "top": null,
            "visibility": null,
            "width": null
          }
        }
      }
    }
  },
  "cells": [
    {
      "cell_type": "markdown",
      "metadata": {
        "id": "view-in-github",
        "colab_type": "text"
      },
      "source": [
        "<a href=\"https://colab.research.google.com/github/Cloud-Course-Group-Phoenix/Cloud/blob/Or_Gilad_tirgul/Tirgul4.ipynb\" target=\"_parent\"><img src=\"https://colab.research.google.com/assets/colab-badge.svg\" alt=\"Open In Colab\"/></a>"
      ]
    },
    {
      "cell_type": "markdown",
      "source": [
        "Tirgul 4\n"
      ],
      "metadata": {
        "id": "oyOMkCvC3bsa"
      }
    },
    {
      "cell_type": "code",
      "source": [
        "url = 'https://data.gov.il/api/3/action/datastore_search?resource_id=053cea08-09bc-40ec-8f7a-156f0677aff3'\n",
        "\n",
        "import requests\n",
        "import pandas as pd\n",
        "from ipywidgets import widgets, VBox, Output\n",
        "from IPython.display import display\n",
        "from plotly.offline import iplot\n",
        "import plotly.graph_objs as go\n",
        "import matplotlib.pyplot as plt\n",
        "import numpy as np\n",
        "import seaborn as sns\n",
        "import plotly.express as px\n",
        "\n",
        "# Create a simple DataFrame\n",
        "\n",
        "pd.set_option(\"display.max_columns\", None)\n",
        "\n",
        "response = requests.get(url)\n",
        "data = response.json()\n",
        "df = pd.DataFrame(data)\n",
        "\n",
        "data_df = pd.DataFrame(data['result']['records'])\n",
        "\n",
        "data_df.head()\n",
        "\n",
        "# Tab 1: Data Overview\n",
        "tab1_content = widgets.Output()\n",
        "with tab1_content:\n",
        "    print(\"Data Overview:\")\n",
        "    display(data_df.describe())  # Summary statistics\n",
        "\n",
        "# Tab 2: Raw Data\n",
        "tab2_content = widgets.Output()\n",
        "with tab2_content:\n",
        "    print(\"Raw Data:\")\n",
        "    display(data_df)  # Full DataFrame\n",
        "# Tab 3: Charts\n",
        "tab3_content = widgets.Output()\n",
        "with tab3_content:\n",
        "    print(\"Charts:\")\n",
        "    # Get shnat_yitzur\n",
        "    shnat_yitzur = data_df['shnat_yitzur'].unique()\n",
        "    # Get the amount of cars for eqch shnat_yitzur\n",
        "    shnat_yitzur_amount = data_df['shnat_yitzur'].value_counts()\n",
        "    # Create a barchart\n",
        "    plt.bar(shnat_yitzur, shnat_yitzur_amount)\n",
        "    plt.xlabel('Manufacturing Year')\n",
        "    plt.ylabel('Amount')\n",
        "    plt.title('Amount of cars per year')\n",
        "    plt.show()\n",
        "\n",
        "# Create Tabs\n",
        "tabs = widgets.Tab(children=[tab1_content, tab2_content,tab3_content])\n",
        "tabs.set_title(0, 'Tab 1: Data Overview')\n",
        "tabs.set_title(1, 'Tab 2: Raw Data')\n",
        "tabs.set_title(2, 'Tab 3: Charts')\n",
        "\n",
        "\n",
        "\n",
        "# Display Tabs\n",
        "display(tabs)\n"
      ],
      "metadata": {
        "colab": {
          "base_uri": "https://localhost:8080/",
          "height": 692,
          "referenced_widgets": [
            "0cd843ad516448018084bfb8dca7f0ca",
            "dcd16ad40a644f21a1ff033696e5acb3",
            "a0840e33d8384528afabd2231a69d31d",
            "9762d18d046844ab8f0729850d5f4311",
            "59e71c57aa1149e68349b4ac40605e40",
            "d6ae16ebcdd346d3b54502f791f8e11c",
            "38c416eca9a147f49f32e2ae101f44ff",
            "2e5c2fd3ac2a4727a3d1bd9f1eea4a94"
          ]
        },
        "id": "bKD-x3zG9eES",
        "outputId": "52cf6c70-7e7e-4480-e7e4-57074b1ee3a9"
      },
      "execution_count": 11,
      "outputs": [
        {
          "output_type": "display_data",
          "data": {
            "text/plain": [
              "Tab(children=(Output(), Output(), Output()), _titles={'0': 'Tab 1: Data Overview', '1': 'Tab 2: Raw Data', '2'…"
            ],
            "application/vnd.jupyter.widget-view+json": {
              "version_major": 2,
              "version_minor": 0,
              "model_id": "0cd843ad516448018084bfb8dca7f0ca"
            }
          },
          "metadata": {}
        }
      ]
    }
  ]
}