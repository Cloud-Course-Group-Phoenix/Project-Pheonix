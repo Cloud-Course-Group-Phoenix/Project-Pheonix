{
  "nbformat": 4,
  "nbformat_minor": 0,
  "metadata": {
    "colab": {
      "provenance": [],
      "authorship_tag": "ABX9TyPjXWKEKNzvQb2fkJUaPJag",
      "include_colab_link": true
    },
    "kernelspec": {
      "name": "python3",
      "display_name": "Python 3"
    },
    "language_info": {
      "name": "python"
    }
  },
  "cells": [
    {
      "cell_type": "markdown",
      "metadata": {
        "id": "view-in-github",
        "colab_type": "text"
      },
      "source": [
        "<a href=\"https://colab.research.google.com/github/Cloud-Course-Group-Phoenix/Cloud/blob/Or_Gilad_tirgul/Tirgul4.ipynb\" target=\"_parent\"><img src=\"https://colab.research.google.com/assets/colab-badge.svg\" alt=\"Open In Colab\"/></a>"
      ]
    },
    {
      "cell_type": "markdown",
      "source": [
        "Tirgul 4\n"
      ],
      "metadata": {
        "id": "oyOMkCvC3bsa"
      }
    },
    {
      "cell_type": "code",
      "source": [
        "url = 'https://data.gov.il/api/3/action/datastore_search?resource_id=053cea08-09bc-40ec-8f7a-156f0677aff3'\n",
        "\n",
        "import requests\n",
        "import pandas as pd\n",
        "from ipywidgets import widgets, VBox, Output\n",
        "from IPython.display import display\n",
        "from plotly.offline import iplot\n",
        "import plotly.graph_objs as go\n",
        "import matplotlib.pyplot as plt\n",
        "import numpy as np\n",
        "import seaborn as sns\n",
        "import plotly.express as px\n",
        "\n",
        "# Create a simple DataFrame\n",
        "\n",
        "pd.set_option(\"display.max_columns\", None)\n",
        "\n",
        "response = requests.get(url)\n",
        "data = response.json()\n",
        "df = pd.DataFrame(data)\n",
        "\n",
        "data_df = pd.DataFrame(data['result']['records'])\n",
        "\n",
        "data_df.head()\n",
        "\n",
        "# Tab 1: Data Overview\n",
        "tab1_content = widgets.Output()\n",
        "with tab1_content:\n",
        "    print(\"Data Overview:\")\n",
        "    display(data_df.describe())  # Summary statistics\n",
        "\n",
        "# Tab 2: Raw Data\n",
        "tab2_content = widgets.Output()\n",
        "with tab2_content:\n",
        "    print(\"Raw Data:\")\n",
        "    display(data_df)  # Full DataFrame\n",
        "# Tab 3: Charts\n",
        "tab3_content = widgets.Output()\n",
        "with tab3_content:\n",
        "    print(\"Charts:\")\n",
        "    # Get shnat_yitzur\n",
        "    shnat_yitzur = data_df['shnat_yitzur'].unique()\n",
        "    # Get the amount of cars for eqch shnat_yitzur\n",
        "    shnat_yitzur_amount = data_df['shnat_yitzur'].value_counts()\n",
        "    # Create a barchart\n",
        "    plt.bar(shnat_yitzur, shnat_yitzur_amount)\n",
        "    plt.xlabel('Manufacturing Year')\n",
        "    plt.ylabel('Amount')\n",
        "    plt.title('Amount of cars per year')\n",
        "    plt.show()\n",
        "\n",
        "# Create Tabs\n",
        "tabs = widgets.Tab(children=[tab1_content, tab2_content,tab3_content])\n",
        "tabs.set_title(0, 'Tab 1: Data Overview')\n",
        "tabs.set_title(1, 'Tab 2: Raw Data')\n",
        "tabs.set_title(2, 'Tab 3: Charts')\n",
        "\n",
        "# Display Tabs\n",
        "display(tabs)"
      ],
      "metadata": {
        "id": "bKD-x3zG9eES"
      },
      "execution_count": null,
      "outputs": []
    }
  ]
}