{
  "nbformat": 4,
  "nbformat_minor": 0,
  "metadata": {
    "colab": {
      "provenance": [],
      "authorship_tag": "ABX9TyN+RCHgyPTa68T6lg+Dndih",
      "include_colab_link": true
    },
    "kernelspec": {
      "name": "python3",
      "display_name": "Python 3"
    },
    "language_info": {
      "name": "python"
    }
  },
  "cells": [
    {
      "cell_type": "markdown",
      "metadata": {
        "id": "view-in-github",
        "colab_type": "text"
      },
      "source": [
        "<a href=\"https://colab.research.google.com/github/Cloud-Course-Group-Phoenix/Project-Pheonix/blob/main/Fake_Data_Generator_for_Cloud.ipynb\" target=\"_parent\"><img src=\"https://colab.research.google.com/assets/colab-badge.svg\" alt=\"Open In Colab\"/></a>"
      ]
    },
    {
      "cell_type": "code",
      "source": [
        "!pip install paho-mqtt"
      ],
      "metadata": {
        "colab": {
          "base_uri": "https://localhost:8080/"
        },
        "id": "tx6Dr97t71vg",
        "outputId": "0004eacc-0271-43a3-9472-adcaaf9c5c96"
      },
      "execution_count": 2,
      "outputs": [
        {
          "output_type": "stream",
          "name": "stdout",
          "text": [
            "Collecting paho-mqtt\n",
            "  Downloading paho_mqtt-2.1.0-py3-none-any.whl.metadata (23 kB)\n",
            "Downloading paho_mqtt-2.1.0-py3-none-any.whl (67 kB)\n",
            "\u001b[?25l   \u001b[90m━━━━━━━━━━━━━━━━━━━━━━━━━━━━━━━━━━━━━━━━\u001b[0m \u001b[32m0.0/67.2 kB\u001b[0m \u001b[31m?\u001b[0m eta \u001b[36m-:--:--\u001b[0m\r\u001b[2K   \u001b[90m━━━━━━━━━━━━━━━━━━━━━━━━━━━━━━━━━━━━━━━━\u001b[0m \u001b[32m67.2/67.2 kB\u001b[0m \u001b[31m5.2 MB/s\u001b[0m eta \u001b[36m0:00:00\u001b[0m\n",
            "\u001b[?25hInstalling collected packages: paho-mqtt\n",
            "Successfully installed paho-mqtt-2.1.0\n"
          ]
        }
      ]
    },
    {
      "cell_type": "code",
      "execution_count": null,
      "metadata": {
        "colab": {
          "base_uri": "https://localhost:8080/"
        },
        "id": "8HsTVKQH7j-d",
        "outputId": "129dbe45-3e09-459c-d291-103b6586c223"
      },
      "outputs": [
        {
          "output_type": "stream",
          "name": "stderr",
          "text": [
            "<ipython-input-5-f09646f034e9>:54: DeprecationWarning: Callback API version 1 is deprecated, update to latest version\n",
            "  client = mqtt.Client()\n"
          ]
        },
        {
          "output_type": "stream",
          "name": "stdout",
          "text": [
            "Published to braude/D106/indoor: {\"Temperature\": 15.4, \"Pressure\": 995.8, \"Humidity\": 15.4, \"Distance\": 84.7}\n",
            "Published to braude/D106/outdoor: {\"DLIGHT\": 115.5}\n",
            "Connected to MQTT Broker (HiveMQ)!\n",
            "Published to braude/D106/indoor: {\"Temperature\": 23.4, \"Pressure\": 1015.7, \"Humidity\": 23.4, \"Distance\": 43.6}\n",
            "Published to braude/D106/outdoor: {\"DLIGHT\": 270.2}\n",
            "Published to braude/D106/indoor: {\"Temperature\": 29.1, \"Pressure\": 985.9, \"Humidity\": 29.1, \"Distance\": 12.5}\n",
            "Published to braude/D106/outdoor: {\"DLIGHT\": 319.5}\n",
            "Published to braude/D106/indoor: {\"Temperature\": 24.7, \"Pressure\": 1015.5, \"Humidity\": 24.7, \"Distance\": 34.9}\n",
            "Published to braude/D106/outdoor: {\"DLIGHT\": 56.7}\n",
            "Published to braude/D106/indoor: {\"Temperature\": 30.5, \"Pressure\": 985.6, \"Humidity\": 30.5, \"Distance\": 44.8}\n",
            "Published to braude/D106/outdoor: {\"DLIGHT\": 943.1}\n",
            "Published to braude/D106/indoor: {\"Temperature\": 33.0, \"Pressure\": 983.5, \"Humidity\": 33.0, \"Distance\": 32.2}\n",
            "Published to braude/D106/outdoor: {\"DLIGHT\": 151.5}\n",
            "Published to braude/D106/indoor: {\"Temperature\": 26.9, \"Pressure\": 991.8, \"Humidity\": 26.9, \"Distance\": 75.0}\n",
            "Published to braude/D106/outdoor: {\"DLIGHT\": 411.9}\n",
            "Published to braude/D106/indoor: {\"Temperature\": 27.7, \"Pressure\": 1008.8, \"Humidity\": 27.7, \"Distance\": 35.6}\n",
            "Published to braude/D106/outdoor: {\"DLIGHT\": 934.0}\n",
            "Published to braude/D106/indoor: {\"Temperature\": 24.6, \"Pressure\": 1006.3, \"Humidity\": 24.6, \"Distance\": 24.9}\n",
            "Published to braude/D106/outdoor: {\"DLIGHT\": 48.1}\n",
            "Published to braude/D106/indoor: {\"Temperature\": 17.3, \"Pressure\": 1005.6, \"Humidity\": 17.3, \"Distance\": 49.4}\n",
            "Published to braude/D106/outdoor: {\"DLIGHT\": 967.4}\n",
            "Published to braude/D106/indoor: {\"Temperature\": 34.7, \"Pressure\": 992.3, \"Humidity\": 34.7, \"Distance\": 14.3}\n",
            "Published to braude/D106/outdoor: {\"DLIGHT\": 187.4}\n",
            "Published to braude/D106/indoor: {\"Temperature\": 16.9, \"Pressure\": 985.7, \"Humidity\": 16.9, \"Distance\": 11.5}\n",
            "Published to braude/D106/outdoor: {\"DLIGHT\": 517.0}\n",
            "Published to braude/D106/indoor: {\"Temperature\": 24.4, \"Pressure\": 985.5, \"Humidity\": 24.4, \"Distance\": 60.7}\n",
            "Published to braude/D106/outdoor: {\"DLIGHT\": 806.1}\n",
            "Published to braude/D106/indoor: {\"Temperature\": 33.6, \"Pressure\": 993.7, \"Humidity\": 33.6, \"Distance\": 21.8}\n",
            "Published to braude/D106/outdoor: {\"DLIGHT\": 129.5}\n",
            "Published to braude/D106/indoor: {\"Temperature\": 17.0, \"Pressure\": 996.0, \"Humidity\": 17.0, \"Distance\": 39.4}\n",
            "Published to braude/D106/outdoor: {\"DLIGHT\": 223.0}\n",
            "Published to braude/D106/indoor: {\"Temperature\": 24.3, \"Pressure\": 1000.3, \"Humidity\": 24.3, \"Distance\": 84.0}\n",
            "Published to braude/D106/outdoor: {\"DLIGHT\": 415.4}\n",
            "Published to braude/D106/indoor: {\"Temperature\": 27.5, \"Pressure\": 1010.8, \"Humidity\": 27.5, \"Distance\": 47.3}\n",
            "Published to braude/D106/outdoor: {\"DLIGHT\": 339.9}\n",
            "Published to braude/D106/indoor: {\"Temperature\": 19.7, \"Pressure\": 982.3, \"Humidity\": 19.7, \"Distance\": 23.2}\n",
            "Published to braude/D106/outdoor: {\"DLIGHT\": 69.4}\n",
            "Published to braude/D106/indoor: {\"Temperature\": 30.1, \"Pressure\": 991.4, \"Humidity\": 30.1, \"Distance\": 25.0}\n",
            "Published to braude/D106/outdoor: {\"DLIGHT\": 643.3}\n",
            "Published to braude/D106/indoor: {\"Temperature\": 23.2, \"Pressure\": 992.8, \"Humidity\": 23.2, \"Distance\": 25.6}\n",
            "Published to braude/D106/outdoor: {\"DLIGHT\": 212.1}\n",
            "Published to braude/D106/indoor: {\"Temperature\": 25.5, \"Pressure\": 1004.5, \"Humidity\": 25.5, \"Distance\": 12.6}\n",
            "Published to braude/D106/outdoor: {\"DLIGHT\": 987.5}\n",
            "Published to braude/D106/indoor: {\"Temperature\": 25.8, \"Pressure\": 1007.7, \"Humidity\": 25.8, \"Distance\": 71.6}\n",
            "Published to braude/D106/outdoor: {\"DLIGHT\": 135.4}\n",
            "Published to braude/D106/indoor: {\"Temperature\": 25.7, \"Pressure\": 1000.3, \"Humidity\": 25.7, \"Distance\": 25.7}\n",
            "Published to braude/D106/outdoor: {\"DLIGHT\": 504.9}\n",
            "Published to braude/D106/indoor: {\"Temperature\": 26.7, \"Pressure\": 1017.5, \"Humidity\": 26.7, \"Distance\": 10.3}\n",
            "Published to braude/D106/outdoor: {\"DLIGHT\": 6.0}\n",
            "Published to braude/D106/indoor: {\"Temperature\": 28.3, \"Pressure\": 1019.5, \"Humidity\": 28.3, \"Distance\": 68.4}\n",
            "Published to braude/D106/outdoor: {\"DLIGHT\": 517.0}\n",
            "Published to braude/D106/indoor: {\"Temperature\": 35.0, \"Pressure\": 980.3, \"Humidity\": 35.0, \"Distance\": 48.5}\n",
            "Published to braude/D106/outdoor: {\"DLIGHT\": 890.5}\n",
            "Published to braude/D106/indoor: {\"Temperature\": 26.2, \"Pressure\": 1014.7, \"Humidity\": 26.2, \"Distance\": 20.3}\n",
            "Published to braude/D106/outdoor: {\"DLIGHT\": 254.9}\n",
            "Published to braude/D106/indoor: {\"Temperature\": 16.2, \"Pressure\": 1009.8, \"Humidity\": 16.2, \"Distance\": 53.2}\n",
            "Published to braude/D106/outdoor: {\"DLIGHT\": 333.6}\n",
            "Published to braude/D106/indoor: {\"Temperature\": 28.1, \"Pressure\": 992.1, \"Humidity\": 28.1, \"Distance\": 99.7}\n",
            "Published to braude/D106/outdoor: {\"DLIGHT\": 585.4}\n",
            "Published to braude/D106/indoor: {\"Temperature\": 15.8, \"Pressure\": 1016.4, \"Humidity\": 15.8, \"Distance\": 83.0}\n",
            "Published to braude/D106/outdoor: {\"DLIGHT\": 213.6}\n",
            "Published to braude/D106/indoor: {\"Temperature\": 18.3, \"Pressure\": 1007.7, \"Humidity\": 18.3, \"Distance\": 76.5}\n",
            "Published to braude/D106/outdoor: {\"DLIGHT\": 94.2}\n",
            "Published to braude/D106/indoor: {\"Temperature\": 19.9, \"Pressure\": 1011.7, \"Humidity\": 19.9, \"Distance\": 12.9}\n",
            "Published to braude/D106/outdoor: {\"DLIGHT\": 94.3}\n",
            "Published to braude/D106/indoor: {\"Temperature\": 27.0, \"Pressure\": 997.7, \"Humidity\": 27.0, \"Distance\": 18.2}\n",
            "Published to braude/D106/outdoor: {\"DLIGHT\": 422.9}\n",
            "Published to braude/D106/indoor: {\"Temperature\": 24.4, \"Pressure\": 987.3, \"Humidity\": 24.4, \"Distance\": 46.2}\n",
            "Published to braude/D106/outdoor: {\"DLIGHT\": 27.7}\n",
            "Published to braude/D106/indoor: {\"Temperature\": 15.8, \"Pressure\": 1013.5, \"Humidity\": 15.8, \"Distance\": 68.9}\n",
            "Published to braude/D106/outdoor: {\"DLIGHT\": 454.9}\n"
          ]
        }
      ],
      "source": [
        "import time\n",
        "import json\n",
        "import random as rand\n",
        "import paho.mqtt.client as mqtt  # Import paho-mqtt\n",
        "\n",
        "\"\"\"\n",
        "Generates fake sensor data for Temperature, Humidity, Distance, and DLIGHT.\n",
        "\n",
        "Returns:\n",
        "    dict: A dictionary containing the sensor data.\n",
        "\"\"\"\n",
        "def generate_fake_sensor_data():\n",
        "  temperature = round(rand.uniform(15, 35), 1)\n",
        "  humidity = round(rand.uniform(30, 80), 1)\n",
        "  distance = round(rand.uniform(10, 100), 1)\n",
        "  pressure = round(rand.uniform(980, 1020), 1)\n",
        "  dlight = round(rand.uniform(0, 1000), 1)\n",
        "  return {\n",
        "    \"Temperature\": temperature,\n",
        "    \"Humidity\": humidity,\n",
        "    \"Distance\": distance,\n",
        "    \"Pressure\": pressure,\n",
        "    \"DLIGHT\": dlight,\n",
        "  }\n",
        "\n",
        "\"\"\"\n",
        "Creates an MQTT message with a topic and JSON payload.\n",
        "\n",
        "Args:\n",
        "  sensor_data (dict): The sensor data dictionary.\n",
        "  topic (str, optional): The MQTT topic. Defaults to \"braude/D106/indoor\".\n",
        "\n",
        "Returns:\n",
        "  tuple: A tuple containing the topic and the JSON payload string.\n",
        "\"\"\"\n",
        "def create_mqtt_message(sensor_data, topic=\"braude/D106/indoor\"):\n",
        "  payload = json.dumps(sensor_data)  # Convert the dictionary to a JSON string\n",
        "  return topic, payload\n",
        "\n",
        "def on_connect(client, userdata, flags, rc):\n",
        "  \"\"\"Callback function for when the client connects to the broker.\"\"\"\n",
        "  if rc == 0:\n",
        "    print(\"Connected to MQTT Broker (HiveMQ)!\")\n",
        "  else:\n",
        "    print(f\"Failed to connect, return code {rc}\")\n",
        "\n",
        "def on_disconnect(client, userdata, rc):\n",
        "  \"\"\"Callback function for when the client disconnects from the broker.\"\"\"\n",
        "  if rc != 0:\n",
        "    print(f\"Unexpected disconnection with code {rc}\")\n",
        "\n",
        "broker_address = \"broker.hivemq.com\"\n",
        "port = 1883\n",
        "client = mqtt.Client()\n",
        "client.on_connect = on_connect\n",
        "client.on_disconnect = on_disconnect\n",
        "try:\n",
        "  client.connect(broker_address, port)\n",
        "except Exception as e:\n",
        "  print(f\"Error connecting to broker: {e}\")\n",
        "client.loop_start()\n",
        "\n",
        "try:\n",
        "  while(True):\n",
        "    fake_sensor_data = generate_fake_sensor_data()\n",
        "\n",
        "    indoor_topic, indoor_payload = create_mqtt_message({\"Temperature\": fake_sensor_data[\"Temperature\"],\n",
        "                                                        \"Pressure\": fake_sensor_data[\"Pressure\"],\n",
        "                                                        \"Humidity\": fake_sensor_data[\"Temperature\"],\n",
        "                                                        \"Distance\": fake_sensor_data[\"Distance\"]}, \"braude/D106/indoor\")\n",
        "\n",
        "    outdoor_topic, outdoor_payload = create_mqtt_message({\"DLIGHT\": fake_sensor_data[\"DLIGHT\"]}, \"braude/D106/outdoor\")\n",
        "\n",
        "    client.publish(indoor_topic, indoor_payload)\n",
        "    print(f\"Published to {indoor_topic}: {indoor_payload}\")\n",
        "    client.publish(outdoor_topic, outdoor_payload)  # Publish to the outdoor topic\n",
        "    print(f\"Published to {outdoor_topic}: {outdoor_payload}\")\n",
        "    time.sleep(1)\n",
        "\n",
        "except KeyboardInterrupt:\n",
        "  print(\"Interrupted\")\n",
        "\n",
        "finally:\n",
        "  client.disconnect()\n",
        "  client.loop_stop()"
      ]
    }
  ]
}