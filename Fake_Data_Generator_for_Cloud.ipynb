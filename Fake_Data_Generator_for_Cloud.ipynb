{
  "nbformat": 4,
  "nbformat_minor": 0,
  "metadata": {
    "colab": {
      "provenance": [],
      "authorship_tag": "ABX9TyN/u3PaiVn9W1y0Ulz6/Bly",
      "include_colab_link": true
    },
    "kernelspec": {
      "name": "python3",
      "display_name": "Python 3"
    },
    "language_info": {
      "name": "python"
    }
  },
  "cells": [
    {
      "cell_type": "markdown",
      "metadata": {
        "id": "view-in-github",
        "colab_type": "text"
      },
      "source": [
        "<a href=\"https://colab.research.google.com/github/Cloud-Course-Group-Phoenix/Project-Pheonix/blob/main/Fake_Data_Generator_for_Cloud.ipynb\" target=\"_parent\"><img src=\"https://colab.research.google.com/assets/colab-badge.svg\" alt=\"Open In Colab\"/></a>"
      ]
    },
    {
      "cell_type": "code",
      "source": [
        "!pip install paho-mqtt"
      ],
      "metadata": {
        "colab": {
          "base_uri": "https://localhost:8080/"
        },
        "id": "tx6Dr97t71vg",
        "outputId": "153e95dd-e996-45b7-dd5e-29a19084789c"
      },
      "execution_count": 2,
      "outputs": [
        {
          "output_type": "stream",
          "name": "stdout",
          "text": [
            "Collecting paho-mqtt\n",
            "  Downloading paho_mqtt-2.1.0-py3-none-any.whl.metadata (23 kB)\n",
            "Downloading paho_mqtt-2.1.0-py3-none-any.whl (67 kB)\n",
            "\u001b[2K   \u001b[90m━━━━━━━━━━━━━━━━━━━━━━━━━━━━━━━━━━━━━━━━\u001b[0m \u001b[32m67.2/67.2 kB\u001b[0m \u001b[31m2.7 MB/s\u001b[0m eta \u001b[36m0:00:00\u001b[0m\n",
            "\u001b[?25hInstalling collected packages: paho-mqtt\n",
            "Successfully installed paho-mqtt-2.1.0\n"
          ]
        }
      ]
    },
    {
      "cell_type": "code",
      "execution_count": 8,
      "metadata": {
        "colab": {
          "base_uri": "https://localhost:8080/"
        },
        "id": "8HsTVKQH7j-d",
        "outputId": "fcc6051c-d8ba-4398-be5f-934e5d0d667d"
      },
      "outputs": [
        {
          "output_type": "stream",
          "name": "stderr",
          "text": [
            "<ipython-input-8-23de89f3be90>:58: DeprecationWarning: Callback API version 1 is deprecated, update to latest version\n",
            "  client = mqtt.Client()\n"
          ]
        },
        {
          "output_type": "stream",
          "name": "stdout",
          "text": [
            "Published to braude/D106/indoor: {\"Temperature\": 17.2, \"Humidity\": 33.7, \"Distance\": 88.4, \"Pressure\": 989.2, \"DLIGHT\": 270.6}\n",
            "Published to braude/D106/outdoor: {\"DLIGHT\": 972.8}\n",
            "Connected to MQTT Broker (HiveMQ)!\n",
            "Published to braude/D106/indoor: {\"Temperature\": 30.1, \"Humidity\": 67.2, \"Distance\": 65.7, \"Pressure\": 1000.9, \"DLIGHT\": 674.0}\n",
            "Published to braude/D106/outdoor: {\"DLIGHT\": 857.2}\n",
            "Published to braude/D106/indoor: {\"Temperature\": 15.6, \"Humidity\": 73.9, \"Distance\": 49.8, \"Pressure\": 991.1, \"DLIGHT\": 599.0}\n",
            "Published to braude/D106/outdoor: {\"DLIGHT\": 821.8}\n",
            "Published to braude/D106/indoor: {\"Temperature\": 18.9, \"Humidity\": 33.6, \"Distance\": 32.5, \"Pressure\": 991.9, \"DLIGHT\": 517.2}\n",
            "Published to braude/D106/outdoor: {\"DLIGHT\": 238.4}\n",
            "Published to braude/D106/indoor: {\"Temperature\": 32.9, \"Humidity\": 63.6, \"Distance\": 36.1, \"Pressure\": 1018.4, \"DLIGHT\": 959.5}\n",
            "Published to braude/D106/outdoor: {\"DLIGHT\": 330.4}\n"
          ]
        }
      ],
      "source": [
        "import time\n",
        "import json\n",
        "import random as rand\n",
        "import paho.mqtt.client as mqtt  # Import paho-mqtt\n",
        "\n",
        "def generate_fake_sensor_data():\n",
        "    \"\"\"\n",
        "    Generates fake sensor data for Temperature, Humidity, Distance, and DLIGHT.\n",
        "\n",
        "    Returns:\n",
        "        dict: A dictionary containing the sensor data.\n",
        "    \"\"\"\n",
        "    temperature = round(rand.uniform(15, 35), 1)\n",
        "    humidity = round(rand.uniform(30, 80), 1)\n",
        "    distance = round(rand.uniform(10, 100), 1)\n",
        "    pressure = round(rand.uniform(980, 1020), 1)\n",
        "    dlight = round(rand.uniform(0, 1000), 1)  # Example DLIGHT value\n",
        "    return {\n",
        "        \"Temperature\": temperature,\n",
        "        \"Humidity\": humidity,\n",
        "        \"Distance\": distance,\n",
        "        \"Pressure\": pressure,\n",
        "        \"DLIGHT\": dlight,\n",
        "    }\n",
        "\n",
        "def create_mqtt_message(sensor_data, topic=\"braude/D106/indoor\"):\n",
        "    \"\"\"\n",
        "    Creates an MQTT message with a topic and JSON payload.\n",
        "\n",
        "    Args:\n",
        "        sensor_data (dict): The sensor data dictionary.\n",
        "        topic (str, optional): The MQTT topic. Defaults to \"braude/D106/indoor\".\n",
        "\n",
        "    Returns:\n",
        "        tuple: A tuple containing the topic and the JSON payload string.\n",
        "    \"\"\"\n",
        "    payload = json.dumps(sensor_data)  # Convert the dictionary to a JSON string\n",
        "    return topic, payload\n",
        "\n",
        "def on_connect(client, userdata, flags, rc):\n",
        "    \"\"\"Callback function for when the client connects to the broker.\"\"\"\n",
        "    if rc == 0:\n",
        "        print(\"Connected to MQTT Broker (HiveMQ)!\")\n",
        "    else:\n",
        "        print(f\"Failed to connect, return code {rc}\")\n",
        "\n",
        "def on_disconnect(client, userdata, rc):\n",
        "    \"\"\"Callback function for when the client disconnects from the broker.\"\"\"\n",
        "    if rc != 0:\n",
        "        print(f\"Unexpected disconnection with code {rc}\")\n",
        "\n",
        "\n",
        "\n",
        "# Example of how to use the functions in a Jupyter cell:\n",
        "if __name__ == '__main__':\n",
        "    broker_address = \"broker.hivemq.com\"\n",
        "    port = 1883\n",
        "    client = mqtt.Client()\n",
        "    client.on_connect = on_connect\n",
        "    client.on_disconnect = on_disconnect\n",
        "    try:\n",
        "        client.connect(broker_address, port)\n",
        "    except Exception as e:\n",
        "        print(f\"Error connecting to broker: {e}\")\n",
        "    client.loop_start()\n",
        "\n",
        "    try:\n",
        "        while(True):\n",
        "            sensor_data_indoor = generate_fake_sensor_data()\n",
        "            sensor_data_outdoor = generate_fake_sensor_data() # Generate data\n",
        "\n",
        "            indoor_topic, indoor_payload = create_mqtt_message(sensor_data_indoor, \"braude/D106/indoor\")\n",
        "            outdoor_topic, outdoor_payload = create_mqtt_message({\"DLIGHT\": sensor_data_outdoor[\"DLIGHT\"]}, \"braude/D106/outdoor\") #only DLIGHT\n",
        "\n",
        "\n",
        "            client.publish(indoor_topic, indoor_payload)\n",
        "            print(f\"Published to {indoor_topic}: {indoor_payload}\")\n",
        "            client.publish(outdoor_topic, outdoor_payload)  # Publish to the outdoor topic\n",
        "            print(f\"Published to {outdoor_topic}: {outdoor_payload}\")\n",
        "            time.sleep(1)\n",
        "    except KeyboardInterrupt:\n",
        "        print(\"Interrupted\")\n",
        "    finally:\n",
        "        client.disconnect()\n",
        "        client.loop_stop()\n"
      ]
    }
  ]
}