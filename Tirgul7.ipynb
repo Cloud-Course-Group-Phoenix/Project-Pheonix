{
  "nbformat": 4,
  "nbformat_minor": 0,
  "metadata": {
    "colab": {
      "provenance": [],
      "authorship_tag": "ABX9TyOUPg10YwWQQVbZ1LYlhtZh",
      "include_colab_link": true
    },
    "kernelspec": {
      "name": "python3",
      "display_name": "Python 3"
    },
    "language_info": {
      "name": "python"
    }
  },
  "cells": [
    {
      "cell_type": "markdown",
      "metadata": {
        "id": "view-in-github",
        "colab_type": "text"
      },
      "source": [
        "<a href=\"https://colab.research.google.com/github/Cloud-Course-Group-Phoenix/Project-Pheonix/blob/Or_Gilad_tirgul/Tirgul7.ipynb\" target=\"_parent\"><img src=\"https://colab.research.google.com/assets/colab-badge.svg\" alt=\"Open In Colab\"/></a>"
      ]
    },
    {
      "cell_type": "code",
      "execution_count": 1,
      "metadata": {
        "colab": {
          "base_uri": "https://localhost:8080/"
        },
        "id": "mBZFDcll_x5h",
        "outputId": "ba55c92d-f523-427f-fb9f-1340c45464ce"
      },
      "outputs": [
        {
          "output_type": "stream",
          "name": "stdout",
          "text": [
            "Requirement already satisfied: requests in /usr/local/lib/python3.11/dist-packages (2.32.3)\n",
            "Requirement already satisfied: beautifulsoup4 in /usr/local/lib/python3.11/dist-packages (4.13.4)\n",
            "Requirement already satisfied: charset-normalizer<4,>=2 in /usr/local/lib/python3.11/dist-packages (from requests) (3.4.1)\n",
            "Requirement already satisfied: idna<4,>=2.5 in /usr/local/lib/python3.11/dist-packages (from requests) (3.10)\n",
            "Requirement already satisfied: urllib3<3,>=1.21.1 in /usr/local/lib/python3.11/dist-packages (from requests) (2.4.0)\n",
            "Requirement already satisfied: certifi>=2017.4.17 in /usr/local/lib/python3.11/dist-packages (from requests) (2025.4.26)\n",
            "Requirement already satisfied: soupsieve>1.2 in /usr/local/lib/python3.11/dist-packages (from beautifulsoup4) (2.7)\n",
            "Requirement already satisfied: typing-extensions>=4.0.0 in /usr/local/lib/python3.11/dist-packages (from beautifulsoup4) (4.13.2)\n",
            "Collecting firebase\n",
            "  Downloading firebase-4.0.1-py3-none-any.whl.metadata (6.5 kB)\n",
            "Requirement already satisfied: requests in /usr/local/lib/python3.11/dist-packages (from firebase) (2.32.3)\n",
            "Requirement already satisfied: charset-normalizer<4,>=2 in /usr/local/lib/python3.11/dist-packages (from requests->firebase) (3.4.1)\n",
            "Requirement already satisfied: idna<4,>=2.5 in /usr/local/lib/python3.11/dist-packages (from requests->firebase) (3.10)\n",
            "Requirement already satisfied: urllib3<3,>=1.21.1 in /usr/local/lib/python3.11/dist-packages (from requests->firebase) (2.4.0)\n",
            "Requirement already satisfied: certifi>=2017.4.17 in /usr/local/lib/python3.11/dist-packages (from requests->firebase) (2025.4.26)\n",
            "Downloading firebase-4.0.1-py3-none-any.whl (12 kB)\n",
            "Installing collected packages: firebase\n",
            "Successfully installed firebase-4.0.1\n"
          ]
        }
      ],
      "source": [
        "!pip install requests beautifulsoup4\n",
        "!pip install firebase\n",
        "\n"
      ]
    },
    {
      "cell_type": "code",
      "source": [
        "DBLink = \"ENTER YOUR DB LINK HERE\"\n"
      ],
      "metadata": {
        "id": "pad_9MX2_04e"
      },
      "execution_count": 2,
      "outputs": []
    },
    {
      "cell_type": "code",
      "source": [
        "url = 'https://en.wikipedia.org/wiki/One_Piece'"
      ],
      "metadata": {
        "id": "bGL7d8bkAyW4"
      },
      "execution_count": 4,
      "outputs": []
    },
    {
      "cell_type": "code",
      "source": [
        "queries = 'one OR piece Or luffy Or pirate and oda and  release and anime and fruit and manga or japan'"
      ],
      "metadata": {
        "id": "ZfXL4whmRUME"
      },
      "execution_count": 13,
      "outputs": []
    },
    {
      "cell_type": "code",
      "source": [
        "import requests\n",
        "import re\n",
        "from bs4 import BeautifulSoup\n",
        "from nltk.stem import PorterStemmer\n",
        "from firebase import firebase\n",
        "import matplotlib.pyplot as plt\n",
        "\n",
        "class DbService:\n",
        "    def __init__(self,Dblink):\n",
        "        self.dbLink= Dblink\n",
        "\n",
        "    def insert_to_db(self,results):\n",
        "        FBconn = firebase.FirebaseApplication(self.dbLink,None)\n",
        "        FBconn.put('/','found_words_from_query',results)\n",
        "\n",
        "    def get_from_db(self):\n",
        "        FBconn = firebase.FirebaseApplication(self.dbLink,None)\n",
        "        results = FBconn.get('/','found_words_from_query')\n",
        "        return results\n",
        "\n",
        "\n",
        "class QueryService:\n",
        "    def __init__(self,url):\n",
        "        self.url = url\n",
        "\n",
        "    def fetch_page(self):\n",
        "        response = requests.get(self.url)\n",
        "        if response.status_code == 200:\n",
        "            soup = BeautifulSoup(response.text, 'html.parser')\n",
        "            return soup\n",
        "        else:\n",
        "            return None\n",
        "\n",
        "    def index_words(self,soup):\n",
        "        index = {}\n",
        "        words = re.findall(r'\\w+', soup.get_text())\n",
        "        for word in words:\n",
        "            word = word.lower()\n",
        "            if word in index:\n",
        "                index[word] += 1\n",
        "            else:\n",
        "                index[word] = 1\n",
        "        return index\n",
        "\n",
        "    def remove_stop_words(self,index):\n",
        "      stop_words = {'a', 'an', 'the', 'and', 'or','in', 'on', 'at'}\n",
        "      for stop_word in stop_words:\n",
        "        if stop_word in index:\n",
        "          del index[stop_word]\n",
        "      return index\n",
        "\n",
        "    def apply_stemming(self,index):\n",
        "      stemmer = PorterStemmer()\n",
        "      stemmed_index = {}\n",
        "      for word, count in index.items():\n",
        "        stemmed_word = stemmer.stem(word)\n",
        "        if stemmed_word in stemmed_index:\n",
        "          stemmed_index[stemmed_word] += count\n",
        "        else:\n",
        "          stemmed_index[stemmed_word] = count\n",
        "      return stemmed_index\n",
        "\n",
        "    def search(self,query, index):\n",
        "      stemmer = PorterStemmer()\n",
        "      query_words = re.findall(r'\\w+', query.lower())\n",
        "      results = {}\n",
        "      for word in query_words:\n",
        "        word = stemmer.stem(word)\n",
        "        if word in index:\n",
        "          results[word] = index[word]\n",
        "      return results\n",
        "\n",
        "\n",
        "class RankService:\n",
        "    def __init__(self):\n",
        "        pass\n",
        "\n",
        "    def rank(self,results):\n",
        "        rank=1\n",
        "        for word, count in results.items():\n",
        "          rank = rank*1/count\n",
        "        rank = 1-rank\n",
        "        return rank\n",
        "\n",
        "\n",
        "class PlotService:\n",
        "    def __init__(self):\n",
        "        pass\n",
        "    def plot_bar_chart(self,results):\n",
        "      # create a bar chart showing the number of appearences of each of the 10 words with set spacing between the words to make it readable\n",
        "      words = list(results.keys())\n",
        "      counts = list(results.values())\n",
        "      plt.bar(words, counts)\n",
        "      plt.xticks(rotation=90)\n",
        "      plt.xlabel('Words')\n",
        "      plt.ylabel('Counts')\n",
        "      plt.title('Results')\n",
        "      plt.show()\n",
        "\n",
        "\n",
        "def main():\n",
        "  dbService = DbService(DBLink)\n",
        "  queryService = QueryService(url)\n",
        "  rankService = RankService()\n",
        "  plotService = PlotService()\n",
        "  soup = queryService.fetch_page()\n",
        "  index = queryService.index_words(soup)\n",
        "  index = queryService.remove_stop_words(index)\n",
        "  index = queryService.apply_stemming(index)\n",
        "  results = queryService.search(queries, index)\n",
        "  dbService.insert_to_db(results)\n",
        "  rank = rankService.rank(results)\n",
        "  print(results)\n",
        "  print(rank)\n",
        "  plotService.plot_bar_chart(results)\n",
        "\n",
        "\n",
        "if __name__ == '__main__':\n",
        "\n",
        "  main()\n",
        "\n"
      ],
      "metadata": {
        "colab": {
          "base_uri": "https://localhost:8080/",
          "height": 541
        },
        "id": "hbI6pd-Z_2pr",
        "outputId": "cd9a01d2-8855-4c3f-9380-be5f99b41b56"
      },
      "execution_count": 15,
      "outputs": [
        {
          "output_type": "stream",
          "name": "stdout",
          "text": [
            "{'one': 313, 'piec': 293, 'luffi': 23, 'pirat': 45, 'oda': 65, 'releas': 41, 'anim': 165, 'fruit': 14, 'manga': 194, 'japan': 45}\n",
            "1.0\n"
          ]
        },
        {
          "output_type": "display_data",
          "data": {
            "text/plain": [
              "<Figure size 640x480 with 1 Axes>"
            ],
            "image/png": "[encoded data removed]"
          },
          "metadata": {}
        }
      ]
    }
  ]
}